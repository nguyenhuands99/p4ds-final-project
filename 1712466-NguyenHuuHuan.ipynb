{
 "cells": [
  {
   "cell_type": "markdown",
   "metadata": {},
   "source": [
    "# ĐỒ ÁN CUỐI KỲ (LTKHDL - CQ2017/2)\n",
    "### GVHD: TS. Trần Trung Kiên\n",
    "\n",
    "Họ và tên sinh viên: Nguyễn Hữu Huân\n",
    "\n",
    "MSSV: 1712466"
   ]
  },
  {
   "cell_type": "markdown",
   "metadata": {},
   "source": [
    "------"
   ]
  },
  {
   "cell_type": "markdown",
   "metadata": {},
   "source": [
    "## Import"
   ]
  },
  {
   "cell_type": "code",
   "execution_count": 1,
   "metadata": {},
   "outputs": [],
   "source": [
    "%matplotlib inline\n",
    "import matplotlib.pyplot as plt\n",
    "import pandas as pd\n",
    "import numpy as np"
   ]
  },
  {
   "cell_type": "markdown",
   "metadata": {},
   "source": [
    "---"
   ]
  },
  {
   "cell_type": "markdown",
   "metadata": {},
   "source": [
    "## Lấy dữ liệu"
   ]
  },
  {
   "cell_type": "markdown",
   "metadata": {},
   "source": [
    "Dữ liệu mà em sử dụng ở đây được lấy từ [dataset của Yelp trên Kaggle](https://www.kaggle.com/yelp-dataset/yelp-dataset). Yelp là một công ty công nghệ lớn ở Mỹ với sản phẩm nổi bật là Yelp website và Yelp app cho phép người dùng tìm kiếm, đánh giá, bình luận, đặt chỗ dịch vụ của các cở sở kinh doanh. \n",
    "\n",
    "Khi tải dataset này về đồng nghĩa với việc đã chấp nhận điều khoản sử dụng (một file pdf khá dài) được viết bởi Yelp dành riêng cho dataset này ví dụ như là chỉ được sử dụng cho mục đích học tập giáo dục,...\n",
    "\n",
    "Vì dataset này khá lớn (tầm 10GB) và chủ đề mà em quan tâm ở đây chỉ là nhà hàng, món ăn nên em chỉ sử dụng 2 file json là: \"yelp_academic_dataset_business.json\" và \"yelp_academic_dataset_review.json\" trong số 5 file của dataset. File \"yelp_academic_dataset_business.json\" chứa thông tin của các cơ sở kinh doanh, còn file \"yelp_academic_dataset_review.json\" chứa thông tin đánh giá của người dùng đối với cơ sở kinh doanh đó.  "
   ]
  },
  {
   "cell_type": "markdown",
   "metadata": {},
   "source": [
    "-----"
   ]
  },
  {
   "cell_type": "markdown",
   "metadata": {},
   "source": [
    "## Khám phá dữ liệu"
   ]
  },
  {
   "cell_type": "markdown",
   "metadata": {},
   "source": [
    "### Data Description"
   ]
  },
  {
   "cell_type": "markdown",
   "metadata": {},
   "source": [
    "Phần mô tả dữ liệu này Yelp không cung cấp trên Kaggle mà để ở trang chủ của mình [ở đây](https://www.yelp.com/dataset/documentation/main). Em có dịch sơ lại như sau:"
   ]
  },
  {
   "cell_type": "markdown",
   "metadata": {},
   "source": [
    "- \"yelp_academic_dataset_review.json\":\n",
    "    - **business_id**: mã id của doanh nghiệp (string, 22 chữ số và duy nhất)\n",
    "    - **name**: tên doanh nghiệp (string)\n",
    "    - **address**: địa chỉ (string)\n",
    "    - **city**: thành phố (string)\n",
    "    - **state**: mã bang  (string, 2 kí tự)\n",
    "    - **postal_code**: mã bưu chính (string)\n",
    "    - **latitude**: vĩ độ (float)\n",
    "    - **longitude**: kinh độ (float)\n",
    "    - **stars**: sao trung bình (float, làm tròn 0.5)\n",
    "    - **review_count**: số lượng review (int)\n",
    "    - **is_open**: có còn hoạt động hay không (int, 0: là đã đóng cửa và 1: còn hoạt động)\n",
    "    - **attribute**: một số thông tin về doanh nghiệp (object : đậu xe như thế nào, thanh toán thẻ được không,..)\n",
    "    - **categories**: danh sách các loại của doanh nghiệp (array of string)\n",
    "    - **hours**: giở mở cửa (object: Thứ Hai từ mấy giờ tới mấy giờ, Thứ Ba,...)\n",
    "- \"yelp_academic_dataset_review.json\":\n",
    "    - **user_id**: mã id người dùng (string, 22 chữ số và duy nhất)\n",
    "    - **text**: nội dung review (string)\n",
    "    - **date**: ngày review (string, format là yyyy-mm-dd HH:MM:SS)\n",
    "    - **review_id**: mã id của review (string, 22 chữ số và duy nhất)\n",
    "    - **business_id**: mã doanh nghiệp được review (string, 22 chữ số và duy nhất)\n",
    "    - **funny**: độ hài hước của review này được vote (int)\n",
    "    - **cool**: độ \"ngầu\" của review này được vote (int)\n",
    "    - **useful**: độ có ích của review được vote (int)\n",
    "    - **stars**: số sao review (int)"
   ]
  },
  {
   "cell_type": "markdown",
   "metadata": {},
   "source": [
    "### Đọc dữ liệu vào DataFrame"
   ]
  },
  {
   "cell_type": "markdown",
   "metadata": {},
   "source": [
    "Khá may mắn là mặc dù các file này là json nhưng cấu trúc nó khá \"ngay ngắn\" và có thể đọc thành DataFrame bằng hàm `pd.read_json()`. Nhưng cũng khá xui vì file về reviews khá nặng (6GB!), ban đầu em cũng thử cố đọc file này bằng cách định nghĩa các cột trước khi đọc và chia thành đọc các 'chunk' nhỏ, tuy nhiên máy vẫn bị \"đơ\". Để tiết kiệm thời gian thì em đã lên Kaggle tải file [\"reviews.csv\"](https://www.kaggle.com/darshank2019/review) mà người khác đã convert trước đó."
   ]
  },
  {
   "cell_type": "code",
   "execution_count": 2,
   "metadata": {},
   "outputs": [],
   "source": [
    "business_df = pd.read_json('data/yelp_academic_dataset_business.json', lines=True)"
   ]
  },
  {
   "cell_type": "code",
   "execution_count": 4,
   "metadata": {},
   "outputs": [
    {
     "data": {
      "text/html": [
       "<div>\n",
       "<style scoped>\n",
       "    .dataframe tbody tr th:only-of-type {\n",
       "        vertical-align: middle;\n",
       "    }\n",
       "\n",
       "    .dataframe tbody tr th {\n",
       "        vertical-align: top;\n",
       "    }\n",
       "\n",
       "    .dataframe thead th {\n",
       "        text-align: right;\n",
       "    }\n",
       "</style>\n",
       "<table border=\"1\" class=\"dataframe\">\n",
       "  <thead>\n",
       "    <tr style=\"text-align: right;\">\n",
       "      <th></th>\n",
       "      <th>business_id</th>\n",
       "      <th>name</th>\n",
       "      <th>address</th>\n",
       "      <th>city</th>\n",
       "      <th>state</th>\n",
       "      <th>postal_code</th>\n",
       "      <th>latitude</th>\n",
       "      <th>longitude</th>\n",
       "      <th>stars</th>\n",
       "      <th>review_count</th>\n",
       "      <th>is_open</th>\n",
       "      <th>attributes</th>\n",
       "      <th>categories</th>\n",
       "      <th>hours</th>\n",
       "    </tr>\n",
       "  </thead>\n",
       "  <tbody>\n",
       "    <tr>\n",
       "      <th>0</th>\n",
       "      <td>f9NumwFMBDn751xgFiRbNA</td>\n",
       "      <td>The Range At Lake Norman</td>\n",
       "      <td>10913 Bailey Rd</td>\n",
       "      <td>Cornelius</td>\n",
       "      <td>NC</td>\n",
       "      <td>28031</td>\n",
       "      <td>35.462724</td>\n",
       "      <td>-80.852612</td>\n",
       "      <td>3.5</td>\n",
       "      <td>36</td>\n",
       "      <td>1</td>\n",
       "      <td>{'BusinessAcceptsCreditCards': 'True', 'BikePa...</td>\n",
       "      <td>Active Life, Gun/Rifle Ranges, Guns &amp; Ammo, Sh...</td>\n",
       "      <td>{'Monday': '10:0-18:0', 'Tuesday': '11:0-20:0'...</td>\n",
       "    </tr>\n",
       "    <tr>\n",
       "      <th>1</th>\n",
       "      <td>Yzvjg0SayhoZgCljUJRF9Q</td>\n",
       "      <td>Carlos Santo, NMD</td>\n",
       "      <td>8880 E Via Linda, Ste 107</td>\n",
       "      <td>Scottsdale</td>\n",
       "      <td>AZ</td>\n",
       "      <td>85258</td>\n",
       "      <td>33.569404</td>\n",
       "      <td>-111.890264</td>\n",
       "      <td>5.0</td>\n",
       "      <td>4</td>\n",
       "      <td>1</td>\n",
       "      <td>{'GoodForKids': 'True', 'ByAppointmentOnly': '...</td>\n",
       "      <td>Health &amp; Medical, Fitness &amp; Instruction, Yoga,...</td>\n",
       "      <td>None</td>\n",
       "    </tr>\n",
       "    <tr>\n",
       "      <th>2</th>\n",
       "      <td>XNoUzKckATkOD1hP6vghZg</td>\n",
       "      <td>Felinus</td>\n",
       "      <td>3554 Rue Notre-Dame O</td>\n",
       "      <td>Montreal</td>\n",
       "      <td>QC</td>\n",
       "      <td>H4C 1P4</td>\n",
       "      <td>45.479984</td>\n",
       "      <td>-73.580070</td>\n",
       "      <td>5.0</td>\n",
       "      <td>5</td>\n",
       "      <td>1</td>\n",
       "      <td>None</td>\n",
       "      <td>Pets, Pet Services, Pet Groomers</td>\n",
       "      <td>None</td>\n",
       "    </tr>\n",
       "    <tr>\n",
       "      <th>3</th>\n",
       "      <td>6OAZjbxqM5ol29BuHsil3w</td>\n",
       "      <td>Nevada House of Hose</td>\n",
       "      <td>1015 Sharp Cir</td>\n",
       "      <td>North Las Vegas</td>\n",
       "      <td>NV</td>\n",
       "      <td>89030</td>\n",
       "      <td>36.219728</td>\n",
       "      <td>-115.127725</td>\n",
       "      <td>2.5</td>\n",
       "      <td>3</td>\n",
       "      <td>0</td>\n",
       "      <td>{'BusinessAcceptsCreditCards': 'True', 'ByAppo...</td>\n",
       "      <td>Hardware Stores, Home Services, Building Suppl...</td>\n",
       "      <td>{'Monday': '7:0-16:0', 'Tuesday': '7:0-16:0', ...</td>\n",
       "    </tr>\n",
       "    <tr>\n",
       "      <th>4</th>\n",
       "      <td>51M2Kk903DFYI6gnB5I6SQ</td>\n",
       "      <td>USE MY GUY SERVICES LLC</td>\n",
       "      <td>4827 E Downing Cir</td>\n",
       "      <td>Mesa</td>\n",
       "      <td>AZ</td>\n",
       "      <td>85205</td>\n",
       "      <td>33.428065</td>\n",
       "      <td>-111.726648</td>\n",
       "      <td>4.5</td>\n",
       "      <td>26</td>\n",
       "      <td>1</td>\n",
       "      <td>{'BusinessAcceptsCreditCards': 'True', 'ByAppo...</td>\n",
       "      <td>Home Services, Plumbing, Electricians, Handyma...</td>\n",
       "      <td>{'Monday': '0:0-0:0', 'Tuesday': '9:0-16:0', '...</td>\n",
       "    </tr>\n",
       "  </tbody>\n",
       "</table>\n",
       "</div>"
      ],
      "text/plain": [
       "              business_id                      name  \\\n",
       "0  f9NumwFMBDn751xgFiRbNA  The Range At Lake Norman   \n",
       "1  Yzvjg0SayhoZgCljUJRF9Q         Carlos Santo, NMD   \n",
       "2  XNoUzKckATkOD1hP6vghZg                   Felinus   \n",
       "3  6OAZjbxqM5ol29BuHsil3w      Nevada House of Hose   \n",
       "4  51M2Kk903DFYI6gnB5I6SQ   USE MY GUY SERVICES LLC   \n",
       "\n",
       "                     address             city state postal_code   latitude  \\\n",
       "0            10913 Bailey Rd        Cornelius    NC       28031  35.462724   \n",
       "1  8880 E Via Linda, Ste 107       Scottsdale    AZ       85258  33.569404   \n",
       "2      3554 Rue Notre-Dame O         Montreal    QC     H4C 1P4  45.479984   \n",
       "3             1015 Sharp Cir  North Las Vegas    NV       89030  36.219728   \n",
       "4         4827 E Downing Cir             Mesa    AZ       85205  33.428065   \n",
       "\n",
       "    longitude  stars  review_count  is_open  \\\n",
       "0  -80.852612    3.5            36        1   \n",
       "1 -111.890264    5.0             4        1   \n",
       "2  -73.580070    5.0             5        1   \n",
       "3 -115.127725    2.5             3        0   \n",
       "4 -111.726648    4.5            26        1   \n",
       "\n",
       "                                          attributes  \\\n",
       "0  {'BusinessAcceptsCreditCards': 'True', 'BikePa...   \n",
       "1  {'GoodForKids': 'True', 'ByAppointmentOnly': '...   \n",
       "2                                               None   \n",
       "3  {'BusinessAcceptsCreditCards': 'True', 'ByAppo...   \n",
       "4  {'BusinessAcceptsCreditCards': 'True', 'ByAppo...   \n",
       "\n",
       "                                          categories  \\\n",
       "0  Active Life, Gun/Rifle Ranges, Guns & Ammo, Sh...   \n",
       "1  Health & Medical, Fitness & Instruction, Yoga,...   \n",
       "2                   Pets, Pet Services, Pet Groomers   \n",
       "3  Hardware Stores, Home Services, Building Suppl...   \n",
       "4  Home Services, Plumbing, Electricians, Handyma...   \n",
       "\n",
       "                                               hours  \n",
       "0  {'Monday': '10:0-18:0', 'Tuesday': '11:0-20:0'...  \n",
       "1                                               None  \n",
       "2                                               None  \n",
       "3  {'Monday': '7:0-16:0', 'Tuesday': '7:0-16:0', ...  \n",
       "4  {'Monday': '0:0-0:0', 'Tuesday': '9:0-16:0', '...  "
      ]
     },
     "execution_count": 4,
     "metadata": {},
     "output_type": "execute_result"
    }
   ],
   "source": [
    "business_df.head()"
   ]
  },
  {
   "cell_type": "markdown",
   "metadata": {},
   "source": [
    " Vì file csv này là của phiên bản reviews cách đây 1 năm (phiên bản mới nhất cách đây 5 tháng) nên dung lượng chỉ còn khoảng 4GB. Nhưng 4GB vẫn là con số khá lớn, cho nên sau khi đọc data description em đã bỏ đọc một số cột em cảm thấy sẽ không cần dùng tới (theo tiêu chí bài này của em):\"user_id\",\"useful\", \"text\", \"cool\", \"funny\" để việc đọc được diễn ra \"suông sẻ\" và nhanh hơn."
   ]
  },
  {
   "cell_type": "code",
   "execution_count": 9,
   "metadata": {},
   "outputs": [],
   "source": [
    "reviews_df = pd.read_csv('data/yelp_academic_dataset_review.csv', usecols=['date','review_id','business_id','stars'])"
   ]
  },
  {
   "cell_type": "code",
   "execution_count": 10,
   "metadata": {},
   "outputs": [
    {
     "data": {
      "text/html": [
       "<div>\n",
       "<style scoped>\n",
       "    .dataframe tbody tr th:only-of-type {\n",
       "        vertical-align: middle;\n",
       "    }\n",
       "\n",
       "    .dataframe tbody tr th {\n",
       "        vertical-align: top;\n",
       "    }\n",
       "\n",
       "    .dataframe thead th {\n",
       "        text-align: right;\n",
       "    }\n",
       "</style>\n",
       "<table border=\"1\" class=\"dataframe\">\n",
       "  <thead>\n",
       "    <tr style=\"text-align: right;\">\n",
       "      <th></th>\n",
       "      <th>date</th>\n",
       "      <th>review_id</th>\n",
       "      <th>business_id</th>\n",
       "      <th>stars</th>\n",
       "    </tr>\n",
       "  </thead>\n",
       "  <tbody>\n",
       "    <tr>\n",
       "      <th>0</th>\n",
       "      <td>b'2013-05-07 04:34:36'</td>\n",
       "      <td>b'Q1sbwvVQXV2734tPgoKj4Q'</td>\n",
       "      <td>b'ujmEBvifdJM6h6RLv4wQIg'</td>\n",
       "      <td>1.0</td>\n",
       "    </tr>\n",
       "    <tr>\n",
       "      <th>1</th>\n",
       "      <td>b'2017-01-14 21:30:33'</td>\n",
       "      <td>b'GJXCdrto3ASJOqKeVWPi6Q'</td>\n",
       "      <td>b'NZnhc2sEQy3RmzKTZnqtwQ'</td>\n",
       "      <td>5.0</td>\n",
       "    </tr>\n",
       "    <tr>\n",
       "      <th>2</th>\n",
       "      <td>b'2016-11-09 20:09:03'</td>\n",
       "      <td>b'2TzJjDVDEuAW6MR5Vuc1ug'</td>\n",
       "      <td>b'WTqjgwHlXbSFevF32_DJVw'</td>\n",
       "      <td>5.0</td>\n",
       "    </tr>\n",
       "    <tr>\n",
       "      <th>3</th>\n",
       "      <td>b'2018-01-09 20:56:38'</td>\n",
       "      <td>b'yi0R0Ugj_xUx_Nek0-_Qig'</td>\n",
       "      <td>b'ikCg8xy5JIg_NGPx-MSIDA'</td>\n",
       "      <td>5.0</td>\n",
       "    </tr>\n",
       "    <tr>\n",
       "      <th>4</th>\n",
       "      <td>b'2018-01-30 23:07:38'</td>\n",
       "      <td>b'11a8sVPMUFtaC7_ABRkmtw'</td>\n",
       "      <td>b'b1b1eb3uo-w561D0ZfCEiQ'</td>\n",
       "      <td>1.0</td>\n",
       "    </tr>\n",
       "  </tbody>\n",
       "</table>\n",
       "</div>"
      ],
      "text/plain": [
       "                     date                  review_id  \\\n",
       "0  b'2013-05-07 04:34:36'  b'Q1sbwvVQXV2734tPgoKj4Q'   \n",
       "1  b'2017-01-14 21:30:33'  b'GJXCdrto3ASJOqKeVWPi6Q'   \n",
       "2  b'2016-11-09 20:09:03'  b'2TzJjDVDEuAW6MR5Vuc1ug'   \n",
       "3  b'2018-01-09 20:56:38'  b'yi0R0Ugj_xUx_Nek0-_Qig'   \n",
       "4  b'2018-01-30 23:07:38'  b'11a8sVPMUFtaC7_ABRkmtw'   \n",
       "\n",
       "                 business_id  stars  \n",
       "0  b'ujmEBvifdJM6h6RLv4wQIg'    1.0  \n",
       "1  b'NZnhc2sEQy3RmzKTZnqtwQ'    5.0  \n",
       "2  b'WTqjgwHlXbSFevF32_DJVw'    5.0  \n",
       "3  b'ikCg8xy5JIg_NGPx-MSIDA'    5.0  \n",
       "4  b'b1b1eb3uo-w561D0ZfCEiQ'    1.0  "
      ]
     },
     "execution_count": 10,
     "metadata": {},
     "output_type": "execute_result"
    }
   ],
   "source": [
    "reviews_df.head()"
   ]
  },
  {
   "cell_type": "markdown",
   "metadata": {},
   "source": [
    "### Dữ liệu gồm bao nhiêu dòng, bao nhiêu cột?"
   ]
  },
  {
   "cell_type": "markdown",
   "metadata": {},
   "source": [
    "Quan sát kích thước của 2 DataFrame"
   ]
  },
  {
   "cell_type": "code",
   "execution_count": 46,
   "metadata": {},
   "outputs": [
    {
     "data": {
      "text/plain": [
       "(209393, 14)"
      ]
     },
     "execution_count": 46,
     "metadata": {},
     "output_type": "execute_result"
    }
   ],
   "source": [
    "business_df.shape"
   ]
  },
  {
   "cell_type": "code",
   "execution_count": 47,
   "metadata": {},
   "outputs": [
    {
     "data": {
      "text/plain": [
       "(6685900, 4)"
      ]
     },
     "execution_count": 47,
     "metadata": {},
     "output_type": "execute_result"
    }
   ],
   "source": [
    "reviews_df.shape"
   ]
  },
  {
   "cell_type": "markdown",
   "metadata": {},
   "source": [
    "Dữ liệu khá bự 😥 14 cột, 209393 dòng với `business_df`, mỗi dòng là một doanh nghiệp. 6 cột 6685900 dòng với `reviews_df`, mỗi dòng là một review."
   ]
  },
  {
   "cell_type": "markdown",
   "metadata": {},
   "source": [
    "### Mỗi dòng, cột có ý nghĩa gì?"
   ]
  },
  {
   "cell_type": "markdown",
   "metadata": {},
   "source": [
    "Ý nghĩa của từng cột thì đã có ở phần **Data Description** phía trên. Ý nghĩa mỗi dòng của `business_df` là một cửa hàng kinh doanh, còn mỗi dòng của `reviews_df` là một review của người dùng lên cửa hàng nào đó."
   ]
  },
  {
   "cell_type": "markdown",
   "metadata": {},
   "source": [
    "### Mỗi cột có dtypes là gì? Ý nghĩa là sao? Dữ liệu vấn đề gì không?"
   ]
  },
  {
   "cell_type": "markdown",
   "metadata": {},
   "source": [
    "🏪 DataFrame business_df  "
   ]
  },
  {
   "cell_type": "code",
   "execution_count": 15,
   "metadata": {},
   "outputs": [
    {
     "name": "stdout",
     "output_type": "stream",
     "text": [
      "<class 'pandas.core.frame.DataFrame'>\n",
      "RangeIndex: 209393 entries, 0 to 209392\n",
      "Data columns (total 14 columns):\n",
      " #   Column        Non-Null Count   Dtype  \n",
      "---  ------        --------------   -----  \n",
      " 0   business_id   209393 non-null  object \n",
      " 1   name          209393 non-null  object \n",
      " 2   address       209393 non-null  object \n",
      " 3   city          209393 non-null  object \n",
      " 4   state         209393 non-null  object \n",
      " 5   postal_code   209393 non-null  object \n",
      " 6   latitude      209393 non-null  float64\n",
      " 7   longitude     209393 non-null  float64\n",
      " 8   stars         209393 non-null  float64\n",
      " 9   review_count  209393 non-null  int64  \n",
      " 10  is_open       209393 non-null  int64  \n",
      " 11  attributes    180348 non-null  object \n",
      " 12  categories    208869 non-null  object \n",
      " 13  hours         164550 non-null  object \n",
      "dtypes: float64(3), int64(2), object(9)\n",
      "memory usage: 22.4+ MB\n"
     ]
    }
   ],
   "source": [
    "business_df.info()"
   ]
  },
  {
   "cell_type": "markdown",
   "metadata": {},
   "source": [
    "**Một số thông tin về dtype và null values:**"
   ]
  },
  {
   "cell_type": "markdown",
   "metadata": {},
   "source": [
    "Ở đây để kiểm tra kỹ hơn về dtype của một vài cột object thì em sẽ tái sử dụng lại hàm `open_object_dtype()` (BT03-Pandas)."
   ]
  },
  {
   "cell_type": "code",
   "execution_count": 65,
   "metadata": {},
   "outputs": [],
   "source": [
    "def open_object_dtype(s):\n",
    "    dtypes = set()\n",
    "    for value in s.values:\n",
    "            dtypes.add(type(value))\n",
    "    return dtypes"
   ]
  },
  {
   "cell_type": "markdown",
   "metadata": {},
   "source": [
    "- Có thể thấy **postal_code** là string thì hơi lạ, nhưng sau khi tìm hiểu thì postal code của Mỹ có bao gồm cả chữ cái (khác VN)"
   ]
  },
  {
   "cell_type": "code",
   "execution_count": 66,
   "metadata": {},
   "outputs": [
    {
     "data": {
      "text/plain": [
       "{str}"
      ]
     },
     "execution_count": 66,
     "metadata": {},
     "output_type": "execute_result"
    }
   ],
   "source": [
    "open_object_dtype(business_df.postal_code)"
   ]
  },
  {
   "cell_type": "code",
   "execution_count": 24,
   "metadata": {},
   "outputs": [
    {
     "data": {
      "text/plain": [
       "78469       44060\n",
       "134499    M5J 2N3\n",
       "46601       28105\n",
       "Name: postal_code, dtype: object"
      ]
     },
     "execution_count": 24,
     "metadata": {},
     "output_type": "execute_result"
    }
   ],
   "source": [
    "business_df.postal_code.sample(3)"
   ]
  },
  {
   "cell_type": "markdown",
   "metadata": {},
   "source": [
    "- **hours** và **attribute** ở đây là object (cụ thể là json object hay dict của python và NoneType (của các null values))"
   ]
  },
  {
   "cell_type": "code",
   "execution_count": 63,
   "metadata": {},
   "outputs": [
    {
     "data": {
      "text/plain": [
       "61902                                                  None\n",
       "17388     {'Monday': '11:0-22:0', 'Tuesday': '11:0-22:0'...\n",
       "204480    {'Tuesday': '10:0-19:0', 'Wednesday': '10:0-19...\n",
       "Name: hours, dtype: object"
      ]
     },
     "execution_count": 63,
     "metadata": {},
     "output_type": "execute_result"
    }
   ],
   "source": [
    "business_df.hours.sample(3)"
   ]
  },
  {
   "cell_type": "code",
   "execution_count": 25,
   "metadata": {},
   "outputs": [
    {
     "data": {
      "text/plain": [
       "59793     {'BusinessAcceptsCreditCards': 'True', 'Busine...\n",
       "133772    {'BusinessAcceptsCreditCards': 'True', 'ByAppo...\n",
       "55702     {'RestaurantsPriceRange2': '2', 'Caters': 'Tru...\n",
       "Name: attributes, dtype: object"
      ]
     },
     "execution_count": 25,
     "metadata": {},
     "output_type": "execute_result"
    }
   ],
   "source": [
    "business_df.attributes.sample(3)"
   ]
  },
  {
   "cell_type": "code",
   "execution_count": 67,
   "metadata": {},
   "outputs": [
    {
     "data": {
      "text/plain": [
       "{NoneType, dict}"
      ]
     },
     "execution_count": 67,
     "metadata": {},
     "output_type": "execute_result"
    }
   ],
   "source": [
    "open_object_dtype(business_df.hours)"
   ]
  },
  {
   "cell_type": "code",
   "execution_count": 68,
   "metadata": {},
   "outputs": [
    {
     "data": {
      "text/plain": [
       "{NoneType, dict}"
      ]
     },
     "execution_count": 68,
     "metadata": {},
     "output_type": "execute_result"
    }
   ],
   "source": [
    "open_object_dtype(business_df.attributes)"
   ]
  },
  {
   "cell_type": "markdown",
   "metadata": {},
   "source": [
    "- Các cột chứa giá trị thiếu bao gồm: **attributes**, **categories**, **hours**. 2 cái còn lại thì không sao nhưng **categories** thiếu thì hơi khó khăn trong việc nhận diện loại dịch vụ. Vì vậy em sẽ drop những dòng thiếu cột này."
   ]
  },
  {
   "cell_type": "code",
   "execution_count": 48,
   "metadata": {},
   "outputs": [],
   "source": [
    "business_df.dropna(axis=0, subset=['categories'], inplace=True)"
   ]
  },
  {
   "cell_type": "markdown",
   "metadata": {},
   "source": [
    "- **categories** là object (str) được lưu theo kiểu liệt kê: A, B, C. Vì chủ đề ban đầu em chọn là về nhà hàng, nên với miền các giá trị như hiện tại của **categories** sẽ bao gồm các record em không cần tới. Do đó, em sẽ chỉ giữ lại những record có **categories** bao gồm nhà hàng."
   ]
  },
  {
   "cell_type": "code",
   "execution_count": 69,
   "metadata": {},
   "outputs": [
    {
     "data": {
      "text/plain": [
       "{str}"
      ]
     },
     "execution_count": 69,
     "metadata": {},
     "output_type": "execute_result"
    }
   ],
   "source": [
    "open_object_dtype(business_df.categories)"
   ]
  },
  {
   "cell_type": "code",
   "execution_count": 26,
   "metadata": {},
   "outputs": [
    {
     "data": {
      "text/plain": [
       "120148    Food, Cafes, French, Bakeries, Restaurants, Bi...\n",
       "10476     Active Life, Cycling Classes, Trainers, Yoga, ...\n",
       "63893                  Beer, Wine & Spirits, Food, Shopping\n",
       "Name: categories, dtype: object"
      ]
     },
     "execution_count": 26,
     "metadata": {},
     "output_type": "execute_result"
    }
   ],
   "source": [
    "business_df.categories.sample(3)"
   ]
  },
  {
   "cell_type": "code",
   "execution_count": 43,
   "metadata": {},
   "outputs": [
    {
     "data": {
      "text/plain": [
       "Restaurants        63944\n",
       "Shopping           34644\n",
       "Food               32991\n",
       "Home Services      22487\n",
       "Beauty & Spas      20520\n",
       "                   ...  \n",
       "Japanese Sweets        1\n",
       "Halfway Houses         1\n",
       "Backshop               1\n",
       "Minho                  1\n",
       "Calabrian              1\n",
       "Name: categories, Length: 1336, dtype: int64"
      ]
     },
     "execution_count": 43,
     "metadata": {},
     "output_type": "execute_result"
    }
   ],
   "source": [
    "# show the \"range\" of catergories \n",
    "business_df.assign(categories = business_df.categories\n",
    "                         .str.split(', ')).explode('categories').categories.value_counts()  # all kinds of categories in value-count order"
   ]
  },
  {
   "cell_type": "code",
   "execution_count": 49,
   "metadata": {},
   "outputs": [],
   "source": [
    "business_df = business_df[business_df.categories.str.contains('Restaurants')]"
   ]
  },
  {
   "cell_type": "code",
   "execution_count": 51,
   "metadata": {},
   "outputs": [
    {
     "data": {
      "text/plain": [
       "(63944, 14)"
      ]
     },
     "execution_count": 51,
     "metadata": {},
     "output_type": "execute_result"
    }
   ],
   "source": [
    "business_df.shape"
   ]
  },
  {
   "cell_type": "markdown",
   "metadata": {},
   "source": [
    "- cột **is_open** là kiểu numeric, nhưng thực chất là categorical được viết dưới dạng số: 0 - đã đóng cửa, 1 - còn hoạt động. Em chỉ giữ lại những nhà hàng còn mở cửa thôi."
   ]
  },
  {
   "cell_type": "code",
   "execution_count": 55,
   "metadata": {},
   "outputs": [],
   "source": [
    "business_df = business_df[business_df.is_open == 1]"
   ]
  },
  {
   "cell_type": "code",
   "execution_count": 56,
   "metadata": {},
   "outputs": [
    {
     "data": {
      "text/plain": [
       "(43965, 14)"
      ]
     },
     "execution_count": 56,
     "metadata": {},
     "output_type": "execute_result"
    }
   ],
   "source": [
    "business_df.shape"
   ]
  },
  {
   "cell_type": "markdown",
   "metadata": {},
   "source": [
    "- Miền giá trị của **latitude**, **longitude**  và **review_count**"
   ]
  },
  {
   "cell_type": "code",
   "execution_count": 79,
   "metadata": {},
   "outputs": [
    {
     "data": {
      "text/html": [
       "<div>\n",
       "<style scoped>\n",
       "    .dataframe tbody tr th:only-of-type {\n",
       "        vertical-align: middle;\n",
       "    }\n",
       "\n",
       "    .dataframe tbody tr th {\n",
       "        vertical-align: top;\n",
       "    }\n",
       "\n",
       "    .dataframe thead th {\n",
       "        text-align: right;\n",
       "    }\n",
       "</style>\n",
       "<table border=\"1\" class=\"dataframe\">\n",
       "  <thead>\n",
       "    <tr style=\"text-align: right;\">\n",
       "      <th></th>\n",
       "      <th>latitude</th>\n",
       "      <th>longitude</th>\n",
       "      <th>review_count</th>\n",
       "    </tr>\n",
       "  </thead>\n",
       "  <tbody>\n",
       "    <tr>\n",
       "      <th>min</th>\n",
       "      <td>21.497258</td>\n",
       "      <td>-158.025525</td>\n",
       "      <td>3.0</td>\n",
       "    </tr>\n",
       "    <tr>\n",
       "      <th>max</th>\n",
       "      <td>51.293852</td>\n",
       "      <td>-72.806550</td>\n",
       "      <td>10129.0</td>\n",
       "    </tr>\n",
       "  </tbody>\n",
       "</table>\n",
       "</div>"
      ],
      "text/plain": [
       "      latitude   longitude  review_count\n",
       "min  21.497258 -158.025525           3.0\n",
       "max  51.293852  -72.806550       10129.0"
      ]
     },
     "execution_count": 79,
     "metadata": {},
     "output_type": "execute_result"
    }
   ],
   "source": [
    "min_series = business_df[['latitude', 'longitude', 'review_count']].min()\n",
    "max_series = business_df[['latitude', 'longitude', 'review_count']].max()\n",
    "pd.DataFrame([min_series, max_series], index=['min', 'max'])"
   ]
  },
  {
   "cell_type": "markdown",
   "metadata": {},
   "source": [
    "📝 DataFrame reviews_df  "
   ]
  },
  {
   "cell_type": "code",
   "execution_count": 71,
   "metadata": {},
   "outputs": [
    {
     "name": "stdout",
     "output_type": "stream",
     "text": [
      "<class 'pandas.core.frame.DataFrame'>\n",
      "RangeIndex: 6685900 entries, 0 to 6685899\n",
      "Data columns (total 4 columns):\n",
      " #   Column       Dtype         \n",
      "---  ------       -----         \n",
      " 0   date         datetime64[ns]\n",
      " 1   review_id    object        \n",
      " 2   business_id  object        \n",
      " 3   stars        float64       \n",
      "dtypes: datetime64[ns](1), float64(1), object(2)\n",
      "memory usage: 204.0+ MB\n"
     ]
    }
   ],
   "source": [
    "reviews_df.info()"
   ]
  },
  {
   "cell_type": "markdown",
   "metadata": {},
   "source": [
    "**Một số thông tin về dtype:**"
   ]
  },
  {
   "cell_type": "code",
   "execution_count": 72,
   "metadata": {},
   "outputs": [
    {
     "name": "stdout",
     "output_type": "stream",
     "text": [
      "{<class 'str'>}\n",
      "{<class 'str'>}\n"
     ]
    }
   ],
   "source": [
    "print(open_object_dtype(reviews_df.review_id))\n",
    "print(open_object_dtype(reviews_df.business_id))\n",
    "print(open_object_dtype(reviews_df.date))"
   ]
  },
  {
   "cell_type": "markdown",
   "metadata": {},
   "source": [
    "- Các cột object(string) chứa nội dung có vấn đề: cụ thể là dạng b'\\<nội dung đúng>\\'. Lỗi này có thể là do người ghi file csv này, do đó em phải xử lý bỏ những kí tự thừa ra."
   ]
  },
  {
   "cell_type": "code",
   "execution_count": 17,
   "metadata": {},
   "outputs": [],
   "source": [
    "reviews_df.date = reviews_df.date.str.extract(r\"b\\'(.+)\\'\")"
   ]
  },
  {
   "cell_type": "code",
   "execution_count": 19,
   "metadata": {},
   "outputs": [],
   "source": [
    "reviews_df.review_id = reviews_df.review_id.str.extract(r\"b\\'(.+)\\'\")"
   ]
  },
  {
   "cell_type": "code",
   "execution_count": 20,
   "metadata": {},
   "outputs": [],
   "source": [
    "reviews_df.business_id = reviews_df.business_id.str.extract(r\"b\\'(.+)\\'\")"
   ]
  },
  {
   "cell_type": "code",
   "execution_count": 21,
   "metadata": {},
   "outputs": [
    {
     "data": {
      "text/html": [
       "<div>\n",
       "<style scoped>\n",
       "    .dataframe tbody tr th:only-of-type {\n",
       "        vertical-align: middle;\n",
       "    }\n",
       "\n",
       "    .dataframe tbody tr th {\n",
       "        vertical-align: top;\n",
       "    }\n",
       "\n",
       "    .dataframe thead th {\n",
       "        text-align: right;\n",
       "    }\n",
       "</style>\n",
       "<table border=\"1\" class=\"dataframe\">\n",
       "  <thead>\n",
       "    <tr style=\"text-align: right;\">\n",
       "      <th></th>\n",
       "      <th>date</th>\n",
       "      <th>review_id</th>\n",
       "      <th>business_id</th>\n",
       "      <th>stars</th>\n",
       "    </tr>\n",
       "  </thead>\n",
       "  <tbody>\n",
       "    <tr>\n",
       "      <th>0</th>\n",
       "      <td>2013-05-07 04:34:36</td>\n",
       "      <td>Q1sbwvVQXV2734tPgoKj4Q</td>\n",
       "      <td>ujmEBvifdJM6h6RLv4wQIg</td>\n",
       "      <td>1.0</td>\n",
       "    </tr>\n",
       "    <tr>\n",
       "      <th>1</th>\n",
       "      <td>2017-01-14 21:30:33</td>\n",
       "      <td>GJXCdrto3ASJOqKeVWPi6Q</td>\n",
       "      <td>NZnhc2sEQy3RmzKTZnqtwQ</td>\n",
       "      <td>5.0</td>\n",
       "    </tr>\n",
       "    <tr>\n",
       "      <th>2</th>\n",
       "      <td>2016-11-09 20:09:03</td>\n",
       "      <td>2TzJjDVDEuAW6MR5Vuc1ug</td>\n",
       "      <td>WTqjgwHlXbSFevF32_DJVw</td>\n",
       "      <td>5.0</td>\n",
       "    </tr>\n",
       "    <tr>\n",
       "      <th>3</th>\n",
       "      <td>2018-01-09 20:56:38</td>\n",
       "      <td>yi0R0Ugj_xUx_Nek0-_Qig</td>\n",
       "      <td>ikCg8xy5JIg_NGPx-MSIDA</td>\n",
       "      <td>5.0</td>\n",
       "    </tr>\n",
       "    <tr>\n",
       "      <th>4</th>\n",
       "      <td>2018-01-30 23:07:38</td>\n",
       "      <td>11a8sVPMUFtaC7_ABRkmtw</td>\n",
       "      <td>b1b1eb3uo-w561D0ZfCEiQ</td>\n",
       "      <td>1.0</td>\n",
       "    </tr>\n",
       "  </tbody>\n",
       "</table>\n",
       "</div>"
      ],
      "text/plain": [
       "                  date               review_id             business_id  stars\n",
       "0  2013-05-07 04:34:36  Q1sbwvVQXV2734tPgoKj4Q  ujmEBvifdJM6h6RLv4wQIg    1.0\n",
       "1  2017-01-14 21:30:33  GJXCdrto3ASJOqKeVWPi6Q  NZnhc2sEQy3RmzKTZnqtwQ    5.0\n",
       "2  2016-11-09 20:09:03  2TzJjDVDEuAW6MR5Vuc1ug  WTqjgwHlXbSFevF32_DJVw    5.0\n",
       "3  2018-01-09 20:56:38  yi0R0Ugj_xUx_Nek0-_Qig  ikCg8xy5JIg_NGPx-MSIDA    5.0\n",
       "4  2018-01-30 23:07:38  11a8sVPMUFtaC7_ABRkmtw  b1b1eb3uo-w561D0ZfCEiQ    1.0"
      ]
     },
     "execution_count": 21,
     "metadata": {},
     "output_type": "execute_result"
    }
   ],
   "source": [
    "reviews_df.head()"
   ]
  },
  {
   "cell_type": "markdown",
   "metadata": {},
   "source": [
    "- Cột **date** cần phải đổi trừ object sang datetime"
   ]
  },
  {
   "cell_type": "code",
   "execution_count": 24,
   "metadata": {},
   "outputs": [],
   "source": [
    "reviews_df['date'] = pd.to_datetime(reviews_df['date'], format='%Y-%m-%d %H:%M:%S')"
   ]
  },
  {
   "cell_type": "markdown",
   "metadata": {},
   "source": [
    "- Xem thử miền giá trị (min, max) của **date**"
   ]
  },
  {
   "cell_type": "code",
   "execution_count": 76,
   "metadata": {},
   "outputs": [
    {
     "data": {
      "text/plain": [
       "(Timestamp('2004-10-12 10:13:32'), Timestamp('2018-11-14 18:13:26'))"
      ]
     },
     "execution_count": 76,
     "metadata": {},
     "output_type": "execute_result"
    }
   ],
   "source": [
    "reviews_df.date.min(), reviews_df.date.max()"
   ]
  },
  {
   "cell_type": "markdown",
   "metadata": {},
   "source": [
    "----"
   ]
  },
  {
   "cell_type": "markdown",
   "metadata": {},
   "source": [
    "## Đưa ra các câu hỏi cần trả lời"
   ]
  },
  {
   "cell_type": "markdown",
   "metadata": {},
   "source": []
  },
  {
   "cell_type": "markdown",
   "metadata": {},
   "source": [
    "------"
   ]
  },
  {
   "cell_type": "markdown",
   "metadata": {},
   "source": [
    "## Tìm câu trả lời cho từng câu hỏi"
   ]
  },
  {
   "cell_type": "markdown",
   "metadata": {},
   "source": [
    "-------"
   ]
  },
  {
   "cell_type": "markdown",
   "metadata": {},
   "source": [
    "## Nhìn lại quá trình làm đồ án"
   ]
  },
  {
   "cell_type": "markdown",
   "metadata": {},
   "source": [
    "---"
   ]
  },
  {
   "cell_type": "markdown",
   "metadata": {},
   "source": [
    "## Tài liệu tham khảo"
   ]
  }
 ],
 "metadata": {
  "kernelspec": {
   "display_name": "py377",
   "language": "python",
   "name": "py377"
  },
  "language_info": {
   "codemirror_mode": {
    "name": "ipython",
    "version": 3
   },
   "file_extension": ".py",
   "mimetype": "text/x-python",
   "name": "python",
   "nbconvert_exporter": "python",
   "pygments_lexer": "ipython3",
   "version": "3.7.7"
  },
  "toc-autonumbering": true,
  "toc-showcode": false,
  "toc-showtags": false
 },
 "nbformat": 4,
 "nbformat_minor": 4
}
