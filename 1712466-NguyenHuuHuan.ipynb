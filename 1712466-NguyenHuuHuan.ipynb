{
 "cells": [
  {
   "cell_type": "markdown",
   "metadata": {},
   "source": [
    "# ĐỒ ÁN CUỐI KỲ (LTKHDL - CQ2017/2)\n",
    "### GVHD: TS. Trần Trung Kiên\n",
    "\n",
    "Họ và tên sinh viên: Nguyễn Hữu Huân\n",
    "\n",
    "MSSV: 1712466"
   ]
  },
  {
   "cell_type": "markdown",
   "metadata": {},
   "source": [
    "------"
   ]
  },
  {
   "cell_type": "markdown",
   "metadata": {},
   "source": [
    "## Import"
   ]
  },
  {
   "cell_type": "code",
   "execution_count": 1,
   "metadata": {},
   "outputs": [],
   "source": [
    "%matplotlib inline\n",
    "import matplotlib.pyplot as plt\n",
    "import pandas as pd\n",
    "import numpy as np"
   ]
  },
  {
   "cell_type": "markdown",
   "metadata": {},
   "source": [
    "---"
   ]
  },
  {
   "cell_type": "markdown",
   "metadata": {},
   "source": [
    "## Lấy dữ liệu"
   ]
  },
  {
   "cell_type": "markdown",
   "metadata": {},
   "source": [
    "Dữ liệu mà em sử dụng ở đây được lấy từ [dataset của Yelp trên Kaggle](https://www.kaggle.com/yelp-dataset/yelp-dataset). Yelp là một công ty công nghệ lớn ở Mỹ với sản phẩm nổi bật là Yelp website và Yelp app cho phép người dùng tìm kiếm, đánh giá, bình luận, đặt chỗ dịch vụ của các cở sở kinh doanh. \n",
    "\n",
    "Khi tải dataset này về đồng nghĩa với việc đã chấp nhận điều khoản sử dụng (một file pdf khá dài) được viết bởi Yelp dành riêng cho dataset này ví dụ như là chỉ được sử dụng cho mục đích học tập giáo dục,...\n",
    "\n",
    "Vì dataset này khá lớn (tầm 10GB) và chủ đề mà em quan tâm ở đây chỉ là nhà hàng, món ăn nên em chỉ sử dụng 2 file json là: \"yelp_academic_dataset_business.json\" và \"yelp_academic_dataset_review.json\" trong số 5 file của dataset. File \"yelp_academic_dataset_business.json\" chứa thông tin của các cơ sở kinh doanh, còn file \"yelp_academic_dataset_review.json\" chứa thông tin đánh giá của người dùng đối với cơ sở kinh doanh đó.  "
   ]
  },
  {
   "cell_type": "markdown",
   "metadata": {},
   "source": [
    "-----"
   ]
  },
  {
   "cell_type": "markdown",
   "metadata": {},
   "source": [
    "## Khám phá dữ liệu"
   ]
  },
  {
   "cell_type": "markdown",
   "metadata": {},
   "source": [
    "### Data Description"
   ]
  },
  {
   "cell_type": "markdown",
   "metadata": {},
   "source": [
    "Phần mô tả dữ liệu này Yelp không cung cấp trên Kaggle mà để ở trang chủ của mình [ở đây](https://www.yelp.com/dataset/documentation/main). Em có dịch sơ lại như sau:"
   ]
  },
  {
   "cell_type": "markdown",
   "metadata": {},
   "source": [
    "- \"yelp_academic_dataset_review.json\":\n",
    "    - **business_id**: mã id của doanh nghiệp (string, 22 chữ số và duy nhất)\n",
    "    - **name**: tên doanh nghiệp (string)\n",
    "    - **address**: địa chỉ (string)\n",
    "    - **city**: thành phố (string)\n",
    "    - **state**: mã bang  (string, 2 kí tự)\n",
    "    - **postal_code**: mã bưu chính (string)\n",
    "    - **latitude**: vĩ độ (float)\n",
    "    - **longitude**: kinh độ (float)\n",
    "    - **stars**: sao trung bình (float, làm tròn 0.5)\n",
    "    - **review_count**: số lượng review (int)\n",
    "    - **is_open**: có còn hoạt động hay không (int, 0: là đã đóng cửa và 1: còn hoạt động)\n",
    "    - **attribute**: một số thông tin về doanh nghiệp (object : đậu xe như thế nào, thanh toán thẻ được không,..)\n",
    "    - **categories**: danh sách các loại của doanh nghiệp (array of string)\n",
    "    - **hours**: giở mở cửa (object: Thứ Hai từ mấy giờ tới mấy giờ, Thứ Ba,...)\n",
    "- \"yelp_academic_dataset_review.json\":\n",
    "    - **user_id**: mã id người dùng (string, 22 chữ số và duy nhất)\n",
    "    - **text**: nội dung review (string)\n",
    "    - **date**: ngày review (string, format là yyyy-mm-dd HH:MM:SS)\n",
    "    - **review_id**: mã id của review (string, 22 chữ số và duy nhất)\n",
    "    - **business_id**: mã doanh nghiệp được review (string, 22 chữ số và duy nhất)\n",
    "    - **funny**: độ hài hước của review này được vote (int)\n",
    "    - **cool**: độ \"ngầu\" của review này được vote (int)\n",
    "    - **useful**: độ có ích của review được vote (int)\n",
    "    - **stars**: số sao review (int)"
   ]
  },
  {
   "cell_type": "markdown",
   "metadata": {},
   "source": [
    "### Đọc dữ liệu vào DataFrame"
   ]
  },
  {
   "cell_type": "markdown",
   "metadata": {},
   "source": [
    "Khá may mắn là mặc dù các file này là json nhưng cấu trúc nó khá \"ngay ngắn\" và có thể đọc thành DataFrame bằng hàm `pd.read_json()`. Nhưng cũng khá xui vì file về reviews khá nặng (6GB!), ban đầu em cũng thử cố đọc file này bằng cách định nghĩa các cột trước khi đọc và chia thành đọc các 'chunk' nhỏ, tuy nhiên máy vẫn bị \"đơ\". Để tiết kiệm thời gian thì em đã lên Kaggle tải file [\"reviews.csv\"](https://www.kaggle.com/darshank2019/review) mà người khác đã convert trước đó."
   ]
  },
  {
   "cell_type": "code",
   "execution_count": 2,
   "metadata": {},
   "outputs": [],
   "source": [
    "business_df = pd.read_json('data/yelp_academic_dataset_business.json', lines=True)"
   ]
  },
  {
   "cell_type": "code",
   "execution_count": 64,
   "metadata": {},
   "outputs": [
    {
     "data": {
      "text/plain": [
       "str"
      ]
     },
     "execution_count": 64,
     "metadata": {},
     "output_type": "execute_result"
    }
   ],
   "source": [
    "type(business_df.iloc[0,12])"
   ]
  },
  {
   "cell_type": "code",
   "execution_count": 4,
   "metadata": {},
   "outputs": [
    {
     "data": {
      "text/html": [
       "<div>\n",
       "<style scoped>\n",
       "    .dataframe tbody tr th:only-of-type {\n",
       "        vertical-align: middle;\n",
       "    }\n",
       "\n",
       "    .dataframe tbody tr th {\n",
       "        vertical-align: top;\n",
       "    }\n",
       "\n",
       "    .dataframe thead th {\n",
       "        text-align: right;\n",
       "    }\n",
       "</style>\n",
       "<table border=\"1\" class=\"dataframe\">\n",
       "  <thead>\n",
       "    <tr style=\"text-align: right;\">\n",
       "      <th></th>\n",
       "      <th>business_id</th>\n",
       "      <th>name</th>\n",
       "      <th>address</th>\n",
       "      <th>city</th>\n",
       "      <th>state</th>\n",
       "      <th>postal_code</th>\n",
       "      <th>latitude</th>\n",
       "      <th>longitude</th>\n",
       "      <th>stars</th>\n",
       "      <th>review_count</th>\n",
       "      <th>is_open</th>\n",
       "      <th>attributes</th>\n",
       "      <th>categories</th>\n",
       "      <th>hours</th>\n",
       "    </tr>\n",
       "  </thead>\n",
       "  <tbody>\n",
       "    <tr>\n",
       "      <th>0</th>\n",
       "      <td>f9NumwFMBDn751xgFiRbNA</td>\n",
       "      <td>The Range At Lake Norman</td>\n",
       "      <td>10913 Bailey Rd</td>\n",
       "      <td>Cornelius</td>\n",
       "      <td>NC</td>\n",
       "      <td>28031</td>\n",
       "      <td>35.462724</td>\n",
       "      <td>-80.852612</td>\n",
       "      <td>3.5</td>\n",
       "      <td>36</td>\n",
       "      <td>1</td>\n",
       "      <td>{'BusinessAcceptsCreditCards': 'True', 'BikePa...</td>\n",
       "      <td>Active Life, Gun/Rifle Ranges, Guns &amp; Ammo, Sh...</td>\n",
       "      <td>{'Monday': '10:0-18:0', 'Tuesday': '11:0-20:0'...</td>\n",
       "    </tr>\n",
       "    <tr>\n",
       "      <th>1</th>\n",
       "      <td>Yzvjg0SayhoZgCljUJRF9Q</td>\n",
       "      <td>Carlos Santo, NMD</td>\n",
       "      <td>8880 E Via Linda, Ste 107</td>\n",
       "      <td>Scottsdale</td>\n",
       "      <td>AZ</td>\n",
       "      <td>85258</td>\n",
       "      <td>33.569404</td>\n",
       "      <td>-111.890264</td>\n",
       "      <td>5.0</td>\n",
       "      <td>4</td>\n",
       "      <td>1</td>\n",
       "      <td>{'GoodForKids': 'True', 'ByAppointmentOnly': '...</td>\n",
       "      <td>Health &amp; Medical, Fitness &amp; Instruction, Yoga,...</td>\n",
       "      <td>None</td>\n",
       "    </tr>\n",
       "    <tr>\n",
       "      <th>2</th>\n",
       "      <td>XNoUzKckATkOD1hP6vghZg</td>\n",
       "      <td>Felinus</td>\n",
       "      <td>3554 Rue Notre-Dame O</td>\n",
       "      <td>Montreal</td>\n",
       "      <td>QC</td>\n",
       "      <td>H4C 1P4</td>\n",
       "      <td>45.479984</td>\n",
       "      <td>-73.580070</td>\n",
       "      <td>5.0</td>\n",
       "      <td>5</td>\n",
       "      <td>1</td>\n",
       "      <td>None</td>\n",
       "      <td>Pets, Pet Services, Pet Groomers</td>\n",
       "      <td>None</td>\n",
       "    </tr>\n",
       "    <tr>\n",
       "      <th>3</th>\n",
       "      <td>6OAZjbxqM5ol29BuHsil3w</td>\n",
       "      <td>Nevada House of Hose</td>\n",
       "      <td>1015 Sharp Cir</td>\n",
       "      <td>North Las Vegas</td>\n",
       "      <td>NV</td>\n",
       "      <td>89030</td>\n",
       "      <td>36.219728</td>\n",
       "      <td>-115.127725</td>\n",
       "      <td>2.5</td>\n",
       "      <td>3</td>\n",
       "      <td>0</td>\n",
       "      <td>{'BusinessAcceptsCreditCards': 'True', 'ByAppo...</td>\n",
       "      <td>Hardware Stores, Home Services, Building Suppl...</td>\n",
       "      <td>{'Monday': '7:0-16:0', 'Tuesday': '7:0-16:0', ...</td>\n",
       "    </tr>\n",
       "    <tr>\n",
       "      <th>4</th>\n",
       "      <td>51M2Kk903DFYI6gnB5I6SQ</td>\n",
       "      <td>USE MY GUY SERVICES LLC</td>\n",
       "      <td>4827 E Downing Cir</td>\n",
       "      <td>Mesa</td>\n",
       "      <td>AZ</td>\n",
       "      <td>85205</td>\n",
       "      <td>33.428065</td>\n",
       "      <td>-111.726648</td>\n",
       "      <td>4.5</td>\n",
       "      <td>26</td>\n",
       "      <td>1</td>\n",
       "      <td>{'BusinessAcceptsCreditCards': 'True', 'ByAppo...</td>\n",
       "      <td>Home Services, Plumbing, Electricians, Handyma...</td>\n",
       "      <td>{'Monday': '0:0-0:0', 'Tuesday': '9:0-16:0', '...</td>\n",
       "    </tr>\n",
       "  </tbody>\n",
       "</table>\n",
       "</div>"
      ],
      "text/plain": [
       "              business_id                      name  \\\n",
       "0  f9NumwFMBDn751xgFiRbNA  The Range At Lake Norman   \n",
       "1  Yzvjg0SayhoZgCljUJRF9Q         Carlos Santo, NMD   \n",
       "2  XNoUzKckATkOD1hP6vghZg                   Felinus   \n",
       "3  6OAZjbxqM5ol29BuHsil3w      Nevada House of Hose   \n",
       "4  51M2Kk903DFYI6gnB5I6SQ   USE MY GUY SERVICES LLC   \n",
       "\n",
       "                     address             city state postal_code   latitude  \\\n",
       "0            10913 Bailey Rd        Cornelius    NC       28031  35.462724   \n",
       "1  8880 E Via Linda, Ste 107       Scottsdale    AZ       85258  33.569404   \n",
       "2      3554 Rue Notre-Dame O         Montreal    QC     H4C 1P4  45.479984   \n",
       "3             1015 Sharp Cir  North Las Vegas    NV       89030  36.219728   \n",
       "4         4827 E Downing Cir             Mesa    AZ       85205  33.428065   \n",
       "\n",
       "    longitude  stars  review_count  is_open  \\\n",
       "0  -80.852612    3.5            36        1   \n",
       "1 -111.890264    5.0             4        1   \n",
       "2  -73.580070    5.0             5        1   \n",
       "3 -115.127725    2.5             3        0   \n",
       "4 -111.726648    4.5            26        1   \n",
       "\n",
       "                                          attributes  \\\n",
       "0  {'BusinessAcceptsCreditCards': 'True', 'BikePa...   \n",
       "1  {'GoodForKids': 'True', 'ByAppointmentOnly': '...   \n",
       "2                                               None   \n",
       "3  {'BusinessAcceptsCreditCards': 'True', 'ByAppo...   \n",
       "4  {'BusinessAcceptsCreditCards': 'True', 'ByAppo...   \n",
       "\n",
       "                                          categories  \\\n",
       "0  Active Life, Gun/Rifle Ranges, Guns & Ammo, Sh...   \n",
       "1  Health & Medical, Fitness & Instruction, Yoga,...   \n",
       "2                   Pets, Pet Services, Pet Groomers   \n",
       "3  Hardware Stores, Home Services, Building Suppl...   \n",
       "4  Home Services, Plumbing, Electricians, Handyma...   \n",
       "\n",
       "                                               hours  \n",
       "0  {'Monday': '10:0-18:0', 'Tuesday': '11:0-20:0'...  \n",
       "1                                               None  \n",
       "2                                               None  \n",
       "3  {'Monday': '7:0-16:0', 'Tuesday': '7:0-16:0', ...  \n",
       "4  {'Monday': '0:0-0:0', 'Tuesday': '9:0-16:0', '...  "
      ]
     },
     "execution_count": 4,
     "metadata": {},
     "output_type": "execute_result"
    }
   ],
   "source": [
    "business_df.head()"
   ]
  },
  {
   "cell_type": "markdown",
   "metadata": {},
   "source": [
    " Vì file csv này là của phiên bản reviews cách đây 1 năm (phiên bản mới nhất cách đây 5 tháng) nên dung lượng chỉ còn khoảng 4GB. Nhưng 4GB vẫn là con số khá lớn, cho nên sau khi đọc data description em đã bỏ đọc một số cột em cảm thấy sẽ không cần dùng tới (theo tiêu chí bài này của em):\"user_id\",\"useful\", \"text\", \"cool\", \"funny\" để việc đọc được diễn ra \"suông sẻ\" và nhanh hơn."
   ]
  },
  {
   "cell_type": "code",
   "execution_count": 9,
   "metadata": {},
   "outputs": [],
   "source": [
    "reviews_df = pd.read_csv('data/yelp_academic_dataset_review.csv', usecols=['date','review_id','business_id','stars'])"
   ]
  },
  {
   "cell_type": "code",
   "execution_count": 10,
   "metadata": {},
   "outputs": [
    {
     "data": {
      "text/html": [
       "<div>\n",
       "<style scoped>\n",
       "    .dataframe tbody tr th:only-of-type {\n",
       "        vertical-align: middle;\n",
       "    }\n",
       "\n",
       "    .dataframe tbody tr th {\n",
       "        vertical-align: top;\n",
       "    }\n",
       "\n",
       "    .dataframe thead th {\n",
       "        text-align: right;\n",
       "    }\n",
       "</style>\n",
       "<table border=\"1\" class=\"dataframe\">\n",
       "  <thead>\n",
       "    <tr style=\"text-align: right;\">\n",
       "      <th></th>\n",
       "      <th>date</th>\n",
       "      <th>review_id</th>\n",
       "      <th>business_id</th>\n",
       "      <th>stars</th>\n",
       "    </tr>\n",
       "  </thead>\n",
       "  <tbody>\n",
       "    <tr>\n",
       "      <th>0</th>\n",
       "      <td>b'2013-05-07 04:34:36'</td>\n",
       "      <td>b'Q1sbwvVQXV2734tPgoKj4Q'</td>\n",
       "      <td>b'ujmEBvifdJM6h6RLv4wQIg'</td>\n",
       "      <td>1.0</td>\n",
       "    </tr>\n",
       "    <tr>\n",
       "      <th>1</th>\n",
       "      <td>b'2017-01-14 21:30:33'</td>\n",
       "      <td>b'GJXCdrto3ASJOqKeVWPi6Q'</td>\n",
       "      <td>b'NZnhc2sEQy3RmzKTZnqtwQ'</td>\n",
       "      <td>5.0</td>\n",
       "    </tr>\n",
       "    <tr>\n",
       "      <th>2</th>\n",
       "      <td>b'2016-11-09 20:09:03'</td>\n",
       "      <td>b'2TzJjDVDEuAW6MR5Vuc1ug'</td>\n",
       "      <td>b'WTqjgwHlXbSFevF32_DJVw'</td>\n",
       "      <td>5.0</td>\n",
       "    </tr>\n",
       "    <tr>\n",
       "      <th>3</th>\n",
       "      <td>b'2018-01-09 20:56:38'</td>\n",
       "      <td>b'yi0R0Ugj_xUx_Nek0-_Qig'</td>\n",
       "      <td>b'ikCg8xy5JIg_NGPx-MSIDA'</td>\n",
       "      <td>5.0</td>\n",
       "    </tr>\n",
       "    <tr>\n",
       "      <th>4</th>\n",
       "      <td>b'2018-01-30 23:07:38'</td>\n",
       "      <td>b'11a8sVPMUFtaC7_ABRkmtw'</td>\n",
       "      <td>b'b1b1eb3uo-w561D0ZfCEiQ'</td>\n",
       "      <td>1.0</td>\n",
       "    </tr>\n",
       "  </tbody>\n",
       "</table>\n",
       "</div>"
      ],
      "text/plain": [
       "                     date                  review_id  \\\n",
       "0  b'2013-05-07 04:34:36'  b'Q1sbwvVQXV2734tPgoKj4Q'   \n",
       "1  b'2017-01-14 21:30:33'  b'GJXCdrto3ASJOqKeVWPi6Q'   \n",
       "2  b'2016-11-09 20:09:03'  b'2TzJjDVDEuAW6MR5Vuc1ug'   \n",
       "3  b'2018-01-09 20:56:38'  b'yi0R0Ugj_xUx_Nek0-_Qig'   \n",
       "4  b'2018-01-30 23:07:38'  b'11a8sVPMUFtaC7_ABRkmtw'   \n",
       "\n",
       "                 business_id  stars  \n",
       "0  b'ujmEBvifdJM6h6RLv4wQIg'    1.0  \n",
       "1  b'NZnhc2sEQy3RmzKTZnqtwQ'    5.0  \n",
       "2  b'WTqjgwHlXbSFevF32_DJVw'    5.0  \n",
       "3  b'ikCg8xy5JIg_NGPx-MSIDA'    5.0  \n",
       "4  b'b1b1eb3uo-w561D0ZfCEiQ'    1.0  "
      ]
     },
     "execution_count": 10,
     "metadata": {},
     "output_type": "execute_result"
    }
   ],
   "source": [
    "reviews_df.head()"
   ]
  },
  {
   "cell_type": "markdown",
   "metadata": {},
   "source": [
    "### Dữ liệu gồm bao nhiêu dòng, bao nhiêu cột?"
   ]
  },
  {
   "cell_type": "markdown",
   "metadata": {},
   "source": [
    "Quan sát kích thước của 2 DataFrame"
   ]
  },
  {
   "cell_type": "code",
   "execution_count": 46,
   "metadata": {},
   "outputs": [
    {
     "data": {
      "text/plain": [
       "(209393, 14)"
      ]
     },
     "execution_count": 46,
     "metadata": {},
     "output_type": "execute_result"
    }
   ],
   "source": [
    "business_df.shape"
   ]
  },
  {
   "cell_type": "code",
   "execution_count": 47,
   "metadata": {},
   "outputs": [
    {
     "data": {
      "text/plain": [
       "(6685900, 4)"
      ]
     },
     "execution_count": 47,
     "metadata": {},
     "output_type": "execute_result"
    }
   ],
   "source": [
    "reviews_df.shape"
   ]
  },
  {
   "cell_type": "markdown",
   "metadata": {},
   "source": [
    "Dữ liệu khá bự 😥 14 cột, 209393 dòng với `business_df`, mỗi dòng là một doanh nghiệp. 6 cột 6685900 dòng với `reviews_df`, mỗi dòng là một review."
   ]
  },
  {
   "cell_type": "markdown",
   "metadata": {},
   "source": [
    "### Mỗi dòng, cột có ý nghĩa gì?"
   ]
  },
  {
   "cell_type": "markdown",
   "metadata": {},
   "source": [
    "Ý nghĩa của từng cột thì đã có ở phần **Data Description** phía trên. Ý nghĩa mỗi dòng của `business_df` là một cửa hàng kinh doanh, còn mỗi dòng của `reviews_df` là một review của người dùng lên cửa hàng nào đó."
   ]
  },
  {
   "cell_type": "markdown",
   "metadata": {},
   "source": [
    "### Mỗi cột có dtypes là gì? Dữ liệu có thiếu không? Ý nghĩa là sao?"
   ]
  },
  {
   "cell_type": "markdown",
   "metadata": {},
   "source": [
    "🏪 DataFrame business_df  "
   ]
  },
  {
   "cell_type": "code",
   "execution_count": 15,
   "metadata": {},
   "outputs": [
    {
     "name": "stdout",
     "output_type": "stream",
     "text": [
      "<class 'pandas.core.frame.DataFrame'>\n",
      "RangeIndex: 209393 entries, 0 to 209392\n",
      "Data columns (total 14 columns):\n",
      " #   Column        Non-Null Count   Dtype  \n",
      "---  ------        --------------   -----  \n",
      " 0   business_id   209393 non-null  object \n",
      " 1   name          209393 non-null  object \n",
      " 2   address       209393 non-null  object \n",
      " 3   city          209393 non-null  object \n",
      " 4   state         209393 non-null  object \n",
      " 5   postal_code   209393 non-null  object \n",
      " 6   latitude      209393 non-null  float64\n",
      " 7   longitude     209393 non-null  float64\n",
      " 8   stars         209393 non-null  float64\n",
      " 9   review_count  209393 non-null  int64  \n",
      " 10  is_open       209393 non-null  int64  \n",
      " 11  attributes    180348 non-null  object \n",
      " 12  categories    208869 non-null  object \n",
      " 13  hours         164550 non-null  object \n",
      "dtypes: float64(3), int64(2), object(9)\n",
      "memory usage: 22.4+ MB\n"
     ]
    }
   ],
   "source": [
    "business_df.info()"
   ]
  },
  {
   "cell_type": "markdown",
   "metadata": {},
   "source": [
    "**Một số thông tin về dtype và null values:**"
   ]
  },
  {
   "cell_type": "markdown",
   "metadata": {},
   "source": [
    "Ở đây để kiểm tra kỹ hơn về dtype của một vài cột object thì em sẽ tái sử dụng lại hàm `open_object_dtype()` (BT03-Pandas)."
   ]
  },
  {
   "cell_type": "code",
   "execution_count": 65,
   "metadata": {},
   "outputs": [],
   "source": [
    "def open_object_dtype(s):\n",
    "    dtypes = set()\n",
    "    for value in s.values:\n",
    "            dtypes.add(type(value))\n",
    "    return dtypes"
   ]
  },
  {
   "cell_type": "markdown",
   "metadata": {},
   "source": [
    "- Có thể thấy **postal_code** là string thì hơi lạ, nhưng sau khi tìm hiểu thì postal code của Mỹ có bao gồm cả chữ cái (khác VN)"
   ]
  },
  {
   "cell_type": "code",
   "execution_count": 66,
   "metadata": {},
   "outputs": [
    {
     "data": {
      "text/plain": [
       "{str}"
      ]
     },
     "execution_count": 66,
     "metadata": {},
     "output_type": "execute_result"
    }
   ],
   "source": [
    "open_object_dtype(business_df.postal_code)"
   ]
  },
  {
   "cell_type": "code",
   "execution_count": 24,
   "metadata": {},
   "outputs": [
    {
     "data": {
      "text/plain": [
       "78469       44060\n",
       "134499    M5J 2N3\n",
       "46601       28105\n",
       "Name: postal_code, dtype: object"
      ]
     },
     "execution_count": 24,
     "metadata": {},
     "output_type": "execute_result"
    }
   ],
   "source": [
    "business_df.postal_code.sample(3)"
   ]
  },
  {
   "cell_type": "markdown",
   "metadata": {},
   "source": [
    "- **hours** và **attribute** ở đây là object (cụ thể là json object hay dict của python và NoneType (của các null values))"
   ]
  },
  {
   "cell_type": "code",
   "execution_count": 67,
   "metadata": {},
   "outputs": [
    {
     "data": {
      "text/plain": [
       "{NoneType, dict}"
      ]
     },
     "execution_count": 67,
     "metadata": {},
     "output_type": "execute_result"
    }
   ],
   "source": [
    "open_object_dtype(business_df.hours)"
   ]
  },
  {
   "cell_type": "code",
   "execution_count": 68,
   "metadata": {},
   "outputs": [
    {
     "data": {
      "text/plain": [
       "{NoneType, dict}"
      ]
     },
     "execution_count": 68,
     "metadata": {},
     "output_type": "execute_result"
    }
   ],
   "source": [
    "open_object_dtype(business_df.attributes)"
   ]
  },
  {
   "cell_type": "code",
   "execution_count": 63,
   "metadata": {},
   "outputs": [
    {
     "data": {
      "text/plain": [
       "61902                                                  None\n",
       "17388     {'Monday': '11:0-22:0', 'Tuesday': '11:0-22:0'...\n",
       "204480    {'Tuesday': '10:0-19:0', 'Wednesday': '10:0-19...\n",
       "Name: hours, dtype: object"
      ]
     },
     "execution_count": 63,
     "metadata": {},
     "output_type": "execute_result"
    }
   ],
   "source": [
    "business_df.hours.sample(3)"
   ]
  },
  {
   "cell_type": "code",
   "execution_count": 25,
   "metadata": {},
   "outputs": [
    {
     "data": {
      "text/plain": [
       "59793     {'BusinessAcceptsCreditCards': 'True', 'Busine...\n",
       "133772    {'BusinessAcceptsCreditCards': 'True', 'ByAppo...\n",
       "55702     {'RestaurantsPriceRange2': '2', 'Caters': 'Tru...\n",
       "Name: attributes, dtype: object"
      ]
     },
     "execution_count": 25,
     "metadata": {},
     "output_type": "execute_result"
    }
   ],
   "source": [
    "business_df.attributes.sample(3)"
   ]
  },
  {
   "cell_type": "markdown",
   "metadata": {},
   "source": [
    "- Các cột chứa giá trị thiếu bao gồm: **attributes**, **categories**, **hours**. 2 cái còn lại thì không sao nhưng **categories** thiếu thì hơi khó khăn trong việc nhận diện loại dịch vụ. Vì vậy em sẽ drop những dòng thiếu cột này."
   ]
  },
  {
   "cell_type": "code",
   "execution_count": 48,
   "metadata": {},
   "outputs": [],
   "source": [
    "business_df.dropna(axis=0, subset=['categories'], inplace=True)"
   ]
  },
  {
   "cell_type": "markdown",
   "metadata": {},
   "source": [
    "- **categories** là object (str) được lưu theo kiểu liệt kê: A, B, C. Vì chủ đề ban đầu em chọn là về nhà hàng, nên với miền các giá trị như hiện tại của **categories** sẽ bao gồm các record em không cần tới. Do đó, em sẽ chỉ giữ lại những record có **categories** bao gồm nhà hàng."
   ]
  },
  {
   "cell_type": "code",
   "execution_count": 69,
   "metadata": {},
   "outputs": [
    {
     "data": {
      "text/plain": [
       "{str}"
      ]
     },
     "execution_count": 69,
     "metadata": {},
     "output_type": "execute_result"
    }
   ],
   "source": [
    "open_object_dtype(business_df.categories)"
   ]
  },
  {
   "cell_type": "code",
   "execution_count": 26,
   "metadata": {},
   "outputs": [
    {
     "data": {
      "text/plain": [
       "120148    Food, Cafes, French, Bakeries, Restaurants, Bi...\n",
       "10476     Active Life, Cycling Classes, Trainers, Yoga, ...\n",
       "63893                  Beer, Wine & Spirits, Food, Shopping\n",
       "Name: categories, dtype: object"
      ]
     },
     "execution_count": 26,
     "metadata": {},
     "output_type": "execute_result"
    }
   ],
   "source": [
    "business_df.categories.sample(3)"
   ]
  },
  {
   "cell_type": "code",
   "execution_count": 43,
   "metadata": {},
   "outputs": [
    {
     "data": {
      "text/plain": [
       "Restaurants        63944\n",
       "Shopping           34644\n",
       "Food               32991\n",
       "Home Services      22487\n",
       "Beauty & Spas      20520\n",
       "                   ...  \n",
       "Japanese Sweets        1\n",
       "Halfway Houses         1\n",
       "Backshop               1\n",
       "Minho                  1\n",
       "Calabrian              1\n",
       "Name: categories, Length: 1336, dtype: int64"
      ]
     },
     "execution_count": 43,
     "metadata": {},
     "output_type": "execute_result"
    }
   ],
   "source": [
    "# show the \"range\" of catergories \n",
    "business_df.assign(categories = business_df.categories\n",
    "                         .str.split(', ')).explode('categories').categories.value_counts()  # all kinds of categories in value-count order"
   ]
  },
  {
   "cell_type": "code",
   "execution_count": 49,
   "metadata": {},
   "outputs": [],
   "source": [
    "business_df = business_df[business_df.categories.str.contains('Restaurants')]"
   ]
  },
  {
   "cell_type": "code",
   "execution_count": 51,
   "metadata": {},
   "outputs": [
    {
     "data": {
      "text/plain": [
       "(63944, 14)"
      ]
     },
     "execution_count": 51,
     "metadata": {},
     "output_type": "execute_result"
    }
   ],
   "source": [
    "business_df.shape"
   ]
  },
  {
   "cell_type": "markdown",
   "metadata": {},
   "source": [
    "- cột **is_open** là kiểu numeric, nhưng thực chất là categorical được viết dưới dạng số: 0 - đã đóng cửa, 1 - còn hoạt động. Em chỉ giữ lại những nhà hàng còn mở cửa thôi."
   ]
  },
  {
   "cell_type": "code",
   "execution_count": 55,
   "metadata": {},
   "outputs": [],
   "source": [
    "business_df = business_df[business_df.is_open == 1]"
   ]
  },
  {
   "cell_type": "code",
   "execution_count": 56,
   "metadata": {},
   "outputs": [
    {
     "data": {
      "text/plain": [
       "(43965, 14)"
      ]
     },
     "execution_count": 56,
     "metadata": {},
     "output_type": "execute_result"
    }
   ],
   "source": [
    "business_df.shape"
   ]
  },
  {
   "cell_type": "markdown",
   "metadata": {},
   "source": [
    "📝 DataFrame reviews_df  "
   ]
  },
  {
   "cell_type": "code",
   "execution_count": 71,
   "metadata": {},
   "outputs": [
    {
     "name": "stdout",
     "output_type": "stream",
     "text": [
      "<class 'pandas.core.frame.DataFrame'>\n",
      "RangeIndex: 6685900 entries, 0 to 6685899\n",
      "Data columns (total 4 columns):\n",
      " #   Column       Dtype         \n",
      "---  ------       -----         \n",
      " 0   date         datetime64[ns]\n",
      " 1   review_id    object        \n",
      " 2   business_id  object        \n",
      " 3   stars        float64       \n",
      "dtypes: datetime64[ns](1), float64(1), object(2)\n",
      "memory usage: 204.0+ MB\n"
     ]
    }
   ],
   "source": [
    "reviews_df.info()"
   ]
  },
  {
   "cell_type": "markdown",
   "metadata": {},
   "source": [
    "**Một số thông tin về dtype:**"
   ]
  },
  {
   "cell_type": "code",
   "execution_count": 72,
   "metadata": {},
   "outputs": [
    {
     "name": "stdout",
     "output_type": "stream",
     "text": [
      "{<class 'str'>}\n",
      "{<class 'str'>}\n"
     ]
    }
   ],
   "source": [
    "print(open_object_dtype(reviews_df.review_id))\n",
    "print(open_object_dtype(reviews_df.business_id))\n",
    "print(open_object_dtype(reviews_df.date))"
   ]
  },
  {
   "cell_type": "markdown",
   "metadata": {},
   "source": [
    "- Các cột object(string) chứa nội dung có vấn đề: cụ thể là dạng b'\\<nội dung>\\'. Lỗi này có thể là do người ghi file csv này, do đó em phải xử lý bỏ những kí tự thừa ra."
   ]
  },
  {
   "cell_type": "code",
   "execution_count": 17,
   "metadata": {},
   "outputs": [],
   "source": [
    "reviews_df.date = reviews_df.date.str.extract(r\"b\\'(.+)\\'\")"
   ]
  },
  {
   "cell_type": "code",
   "execution_count": 19,
   "metadata": {},
   "outputs": [],
   "source": [
    "reviews_df.review_id = reviews_df.review_id.str.extract(r\"b\\'(.+)\\'\")"
   ]
  },
  {
   "cell_type": "code",
   "execution_count": 20,
   "metadata": {},
   "outputs": [],
   "source": [
    "reviews_df.business_id = reviews_df.business_id.str.extract(r\"b\\'(.+)\\'\")"
   ]
  },
  {
   "cell_type": "code",
   "execution_count": 21,
   "metadata": {},
   "outputs": [
    {
     "data": {
      "text/html": [
       "<div>\n",
       "<style scoped>\n",
       "    .dataframe tbody tr th:only-of-type {\n",
       "        vertical-align: middle;\n",
       "    }\n",
       "\n",
       "    .dataframe tbody tr th {\n",
       "        vertical-align: top;\n",
       "    }\n",
       "\n",
       "    .dataframe thead th {\n",
       "        text-align: right;\n",
       "    }\n",
       "</style>\n",
       "<table border=\"1\" class=\"dataframe\">\n",
       "  <thead>\n",
       "    <tr style=\"text-align: right;\">\n",
       "      <th></th>\n",
       "      <th>date</th>\n",
       "      <th>review_id</th>\n",
       "      <th>business_id</th>\n",
       "      <th>stars</th>\n",
       "    </tr>\n",
       "  </thead>\n",
       "  <tbody>\n",
       "    <tr>\n",
       "      <th>0</th>\n",
       "      <td>2013-05-07 04:34:36</td>\n",
       "      <td>Q1sbwvVQXV2734tPgoKj4Q</td>\n",
       "      <td>ujmEBvifdJM6h6RLv4wQIg</td>\n",
       "      <td>1.0</td>\n",
       "    </tr>\n",
       "    <tr>\n",
       "      <th>1</th>\n",
       "      <td>2017-01-14 21:30:33</td>\n",
       "      <td>GJXCdrto3ASJOqKeVWPi6Q</td>\n",
       "      <td>NZnhc2sEQy3RmzKTZnqtwQ</td>\n",
       "      <td>5.0</td>\n",
       "    </tr>\n",
       "    <tr>\n",
       "      <th>2</th>\n",
       "      <td>2016-11-09 20:09:03</td>\n",
       "      <td>2TzJjDVDEuAW6MR5Vuc1ug</td>\n",
       "      <td>WTqjgwHlXbSFevF32_DJVw</td>\n",
       "      <td>5.0</td>\n",
       "    </tr>\n",
       "    <tr>\n",
       "      <th>3</th>\n",
       "      <td>2018-01-09 20:56:38</td>\n",
       "      <td>yi0R0Ugj_xUx_Nek0-_Qig</td>\n",
       "      <td>ikCg8xy5JIg_NGPx-MSIDA</td>\n",
       "      <td>5.0</td>\n",
       "    </tr>\n",
       "    <tr>\n",
       "      <th>4</th>\n",
       "      <td>2018-01-30 23:07:38</td>\n",
       "      <td>11a8sVPMUFtaC7_ABRkmtw</td>\n",
       "      <td>b1b1eb3uo-w561D0ZfCEiQ</td>\n",
       "      <td>1.0</td>\n",
       "    </tr>\n",
       "  </tbody>\n",
       "</table>\n",
       "</div>"
      ],
      "text/plain": [
       "                  date               review_id             business_id  stars\n",
       "0  2013-05-07 04:34:36  Q1sbwvVQXV2734tPgoKj4Q  ujmEBvifdJM6h6RLv4wQIg    1.0\n",
       "1  2017-01-14 21:30:33  GJXCdrto3ASJOqKeVWPi6Q  NZnhc2sEQy3RmzKTZnqtwQ    5.0\n",
       "2  2016-11-09 20:09:03  2TzJjDVDEuAW6MR5Vuc1ug  WTqjgwHlXbSFevF32_DJVw    5.0\n",
       "3  2018-01-09 20:56:38  yi0R0Ugj_xUx_Nek0-_Qig  ikCg8xy5JIg_NGPx-MSIDA    5.0\n",
       "4  2018-01-30 23:07:38  11a8sVPMUFtaC7_ABRkmtw  b1b1eb3uo-w561D0ZfCEiQ    1.0"
      ]
     },
     "execution_count": 21,
     "metadata": {},
     "output_type": "execute_result"
    }
   ],
   "source": [
    "reviews_df.head()"
   ]
  },
  {
   "cell_type": "markdown",
   "metadata": {},
   "source": [
    "- Cột date cần phải đổi trừ object sang datetime"
   ]
  },
  {
   "cell_type": "code",
   "execution_count": 24,
   "metadata": {},
   "outputs": [],
   "source": [
    "reviews_df['date'] = pd.to_datetime(reviews_df['date'], format='%Y-%m-%d %H:%M:%S')"
   ]
  },
  {
   "cell_type": "markdown",
   "metadata": {},
   "source": [
    "----"
   ]
  },
  {
   "cell_type": "markdown",
   "metadata": {},
   "source": [
    "## Đưa ra các câu hỏi cần trả lời"
   ]
  },
  {
   "cell_type": "markdown",
   "metadata": {},
   "source": []
  },
  {
   "cell_type": "code",
   "execution_count": 73,
   "metadata": {},
   "outputs": [
    {
     "data": {
      "text/html": [
       "<div>\n",
       "<style scoped>\n",
       "    .dataframe tbody tr th:only-of-type {\n",
       "        vertical-align: middle;\n",
       "    }\n",
       "\n",
       "    .dataframe tbody tr th {\n",
       "        vertical-align: top;\n",
       "    }\n",
       "\n",
       "    .dataframe thead th {\n",
       "        text-align: right;\n",
       "    }\n",
       "</style>\n",
       "<table border=\"1\" class=\"dataframe\">\n",
       "  <thead>\n",
       "    <tr style=\"text-align: right;\">\n",
       "      <th></th>\n",
       "      <th>date</th>\n",
       "      <th>review_id</th>\n",
       "      <th>business_id</th>\n",
       "      <th>stars</th>\n",
       "      <th>name</th>\n",
       "      <th>address</th>\n",
       "      <th>city</th>\n",
       "      <th>state</th>\n",
       "      <th>postal_code</th>\n",
       "      <th>latitude</th>\n",
       "      <th>longitude</th>\n",
       "      <th>review_count</th>\n",
       "      <th>is_open</th>\n",
       "      <th>attributes</th>\n",
       "      <th>categories</th>\n",
       "      <th>hours</th>\n",
       "    </tr>\n",
       "  </thead>\n",
       "  <tbody>\n",
       "    <tr>\n",
       "      <th>0</th>\n",
       "      <td>2016-01-17 05:26:22</td>\n",
       "      <td>IByf6mVY0WA838XNSh-5MA</td>\n",
       "      <td>I4Nr-MVc26qWr08-S3Q1ow</td>\n",
       "      <td>4.0</td>\n",
       "      <td>Greenberg's Deli</td>\n",
       "      <td>3790 Las Vegas Blvd S</td>\n",
       "      <td>Las Vegas</td>\n",
       "      <td>NV</td>\n",
       "      <td>89136</td>\n",
       "      <td>36.102725</td>\n",
       "      <td>-115.174164</td>\n",
       "      <td>388</td>\n",
       "      <td>1</td>\n",
       "      <td>{'RestaurantsAttire': 'u'casual'', 'BikeParkin...</td>\n",
       "      <td>Delis, Restaurants, Sandwiches, Pizza</td>\n",
       "      <td>{'Monday': '9:0-22:0', 'Tuesday': '9:0-22:0', ...</td>\n",
       "    </tr>\n",
       "    <tr>\n",
       "      <th>1</th>\n",
       "      <td>2018-08-14 12:34:37</td>\n",
       "      <td>FQNrnnmmxwdHyrQ84qkgHQ</td>\n",
       "      <td>I4Nr-MVc26qWr08-S3Q1ow</td>\n",
       "      <td>4.0</td>\n",
       "      <td>Greenberg's Deli</td>\n",
       "      <td>3790 Las Vegas Blvd S</td>\n",
       "      <td>Las Vegas</td>\n",
       "      <td>NV</td>\n",
       "      <td>89136</td>\n",
       "      <td>36.102725</td>\n",
       "      <td>-115.174164</td>\n",
       "      <td>388</td>\n",
       "      <td>1</td>\n",
       "      <td>{'RestaurantsAttire': 'u'casual'', 'BikeParkin...</td>\n",
       "      <td>Delis, Restaurants, Sandwiches, Pizza</td>\n",
       "      <td>{'Monday': '9:0-22:0', 'Tuesday': '9:0-22:0', ...</td>\n",
       "    </tr>\n",
       "    <tr>\n",
       "      <th>2</th>\n",
       "      <td>2016-12-04 06:45:18</td>\n",
       "      <td>1lPKVO_l-B9O3Vv63ry6rw</td>\n",
       "      <td>I4Nr-MVc26qWr08-S3Q1ow</td>\n",
       "      <td>4.0</td>\n",
       "      <td>Greenberg's Deli</td>\n",
       "      <td>3790 Las Vegas Blvd S</td>\n",
       "      <td>Las Vegas</td>\n",
       "      <td>NV</td>\n",
       "      <td>89136</td>\n",
       "      <td>36.102725</td>\n",
       "      <td>-115.174164</td>\n",
       "      <td>388</td>\n",
       "      <td>1</td>\n",
       "      <td>{'RestaurantsAttire': 'u'casual'', 'BikeParkin...</td>\n",
       "      <td>Delis, Restaurants, Sandwiches, Pizza</td>\n",
       "      <td>{'Monday': '9:0-22:0', 'Tuesday': '9:0-22:0', ...</td>\n",
       "    </tr>\n",
       "    <tr>\n",
       "      <th>3</th>\n",
       "      <td>2013-12-08 02:03:06</td>\n",
       "      <td>h-S9hbHrkV8rFegFqpdf_Q</td>\n",
       "      <td>I4Nr-MVc26qWr08-S3Q1ow</td>\n",
       "      <td>4.0</td>\n",
       "      <td>Greenberg's Deli</td>\n",
       "      <td>3790 Las Vegas Blvd S</td>\n",
       "      <td>Las Vegas</td>\n",
       "      <td>NV</td>\n",
       "      <td>89136</td>\n",
       "      <td>36.102725</td>\n",
       "      <td>-115.174164</td>\n",
       "      <td>388</td>\n",
       "      <td>1</td>\n",
       "      <td>{'RestaurantsAttire': 'u'casual'', 'BikeParkin...</td>\n",
       "      <td>Delis, Restaurants, Sandwiches, Pizza</td>\n",
       "      <td>{'Monday': '9:0-22:0', 'Tuesday': '9:0-22:0', ...</td>\n",
       "    </tr>\n",
       "    <tr>\n",
       "      <th>4</th>\n",
       "      <td>2016-07-15 04:21:06</td>\n",
       "      <td>4rBiVfkJw86HwHiPfpg8cA</td>\n",
       "      <td>I4Nr-MVc26qWr08-S3Q1ow</td>\n",
       "      <td>4.0</td>\n",
       "      <td>Greenberg's Deli</td>\n",
       "      <td>3790 Las Vegas Blvd S</td>\n",
       "      <td>Las Vegas</td>\n",
       "      <td>NV</td>\n",
       "      <td>89136</td>\n",
       "      <td>36.102725</td>\n",
       "      <td>-115.174164</td>\n",
       "      <td>388</td>\n",
       "      <td>1</td>\n",
       "      <td>{'RestaurantsAttire': 'u'casual'', 'BikeParkin...</td>\n",
       "      <td>Delis, Restaurants, Sandwiches, Pizza</td>\n",
       "      <td>{'Monday': '9:0-22:0', 'Tuesday': '9:0-22:0', ...</td>\n",
       "    </tr>\n",
       "    <tr>\n",
       "      <th>...</th>\n",
       "      <td>...</td>\n",
       "      <td>...</td>\n",
       "      <td>...</td>\n",
       "      <td>...</td>\n",
       "      <td>...</td>\n",
       "      <td>...</td>\n",
       "      <td>...</td>\n",
       "      <td>...</td>\n",
       "      <td>...</td>\n",
       "      <td>...</td>\n",
       "      <td>...</td>\n",
       "      <td>...</td>\n",
       "      <td>...</td>\n",
       "      <td>...</td>\n",
       "      <td>...</td>\n",
       "      <td>...</td>\n",
       "    </tr>\n",
       "    <tr>\n",
       "      <th>488697</th>\n",
       "      <td>2018-03-07 23:58:16</td>\n",
       "      <td>ItxihFlmqClYwNAFUbkaKg</td>\n",
       "      <td>ZsYOG1b786NtBVq_OssdTg</td>\n",
       "      <td>4.0</td>\n",
       "      <td>Calaveras</td>\n",
       "      <td>2040 Rue Beaubien E</td>\n",
       "      <td>Montréal</td>\n",
       "      <td>QC</td>\n",
       "      <td>H2G 1M4</td>\n",
       "      <td>45.545310</td>\n",
       "      <td>-73.594570</td>\n",
       "      <td>9</td>\n",
       "      <td>1</td>\n",
       "      <td>None</td>\n",
       "      <td>Restaurants, Mexican</td>\n",
       "      <td>{'Tuesday': '17:0-23:0', 'Wednesday': '17:0-23...</td>\n",
       "    </tr>\n",
       "    <tr>\n",
       "      <th>488698</th>\n",
       "      <td>2016-10-12 00:14:43</td>\n",
       "      <td>C6Fh0AFpSuWl7zKXduRQ_Q</td>\n",
       "      <td>n9PgccTPsLxgYL6ZCkxDMQ</td>\n",
       "      <td>3.0</td>\n",
       "      <td>Pittzarella</td>\n",
       "      <td>5832 Library Rd</td>\n",
       "      <td>Bethel Park</td>\n",
       "      <td>PA</td>\n",
       "      <td>15102</td>\n",
       "      <td>40.308755</td>\n",
       "      <td>-80.033243</td>\n",
       "      <td>11</td>\n",
       "      <td>1</td>\n",
       "      <td>{'RestaurantsPriceRange2': '2', 'RestaurantsTa...</td>\n",
       "      <td>Pizza, Restaurants</td>\n",
       "      <td>{'Monday': '10:0-23:0', 'Tuesday': '10:0-23:0'...</td>\n",
       "    </tr>\n",
       "    <tr>\n",
       "      <th>488699</th>\n",
       "      <td>2014-10-20 02:06:23</td>\n",
       "      <td>BOM0UHgL5660rs-RXCU7mg</td>\n",
       "      <td>3xI0ToitrAJkrUSH4gbmCA</td>\n",
       "      <td>2.0</td>\n",
       "      <td>Subway Restaurants</td>\n",
       "      <td>4747 East Elliot Rd., Suite 33</td>\n",
       "      <td>Phoenix</td>\n",
       "      <td>AZ</td>\n",
       "      <td>85044</td>\n",
       "      <td>33.347499</td>\n",
       "      <td>-111.981221</td>\n",
       "      <td>14</td>\n",
       "      <td>1</td>\n",
       "      <td>{'GoodForKids': 'True', 'WiFi': 'u'no'', 'Busi...</td>\n",
       "      <td>Restaurants, Sandwiches, Fast Food</td>\n",
       "      <td>{'Monday': '7:0-21:0', 'Tuesday': '7:0-21:0', ...</td>\n",
       "    </tr>\n",
       "    <tr>\n",
       "      <th>488700</th>\n",
       "      <td>2012-04-23 20:58:49</td>\n",
       "      <td>EnMFnR1U0ZeGMChuKoM-rw</td>\n",
       "      <td>e_vguiiAy096g8-e0oQDDg</td>\n",
       "      <td>2.0</td>\n",
       "      <td>Subway</td>\n",
       "      <td>507 Saint Clair Avenue W</td>\n",
       "      <td>Toronto</td>\n",
       "      <td>ON</td>\n",
       "      <td>M6C 1A1</td>\n",
       "      <td>43.682907</td>\n",
       "      <td>-79.418504</td>\n",
       "      <td>5</td>\n",
       "      <td>1</td>\n",
       "      <td>{'BusinessParking': '{'garage': False, 'street...</td>\n",
       "      <td>Restaurants, Sandwiches, Fast Food</td>\n",
       "      <td>{'Monday': '7:0-23:0', 'Tuesday': '7:0-23:0', ...</td>\n",
       "    </tr>\n",
       "    <tr>\n",
       "      <th>488701</th>\n",
       "      <td>2017-01-13 14:20:06</td>\n",
       "      <td>4CMl_Zy-CYv42vWVUWSGNQ</td>\n",
       "      <td>8ovwNH9wXDzaCuHG9TyOOw</td>\n",
       "      <td>3.0</td>\n",
       "      <td>Pittsburgerz Smokehouse</td>\n",
       "      <td>415 Noblestown Rd</td>\n",
       "      <td>Carnegie</td>\n",
       "      <td>PA</td>\n",
       "      <td>15106</td>\n",
       "      <td>40.413224</td>\n",
       "      <td>-80.074625</td>\n",
       "      <td>11</td>\n",
       "      <td>1</td>\n",
       "      <td>{'RestaurantsAttire': ''casual'', 'BikeParking...</td>\n",
       "      <td>Restaurants, Barbeque, Bars, Nightlife, Smokeh...</td>\n",
       "      <td>{'Monday': '15:0-2:0', 'Tuesday': '15:0-2:0', ...</td>\n",
       "    </tr>\n",
       "  </tbody>\n",
       "</table>\n",
       "<p>488702 rows × 16 columns</p>\n",
       "</div>"
      ],
      "text/plain": [
       "                      date               review_id             business_id  \\\n",
       "0      2016-01-17 05:26:22  IByf6mVY0WA838XNSh-5MA  I4Nr-MVc26qWr08-S3Q1ow   \n",
       "1      2018-08-14 12:34:37  FQNrnnmmxwdHyrQ84qkgHQ  I4Nr-MVc26qWr08-S3Q1ow   \n",
       "2      2016-12-04 06:45:18  1lPKVO_l-B9O3Vv63ry6rw  I4Nr-MVc26qWr08-S3Q1ow   \n",
       "3      2013-12-08 02:03:06  h-S9hbHrkV8rFegFqpdf_Q  I4Nr-MVc26qWr08-S3Q1ow   \n",
       "4      2016-07-15 04:21:06  4rBiVfkJw86HwHiPfpg8cA  I4Nr-MVc26qWr08-S3Q1ow   \n",
       "...                    ...                     ...                     ...   \n",
       "488697 2018-03-07 23:58:16  ItxihFlmqClYwNAFUbkaKg  ZsYOG1b786NtBVq_OssdTg   \n",
       "488698 2016-10-12 00:14:43  C6Fh0AFpSuWl7zKXduRQ_Q  n9PgccTPsLxgYL6ZCkxDMQ   \n",
       "488699 2014-10-20 02:06:23  BOM0UHgL5660rs-RXCU7mg  3xI0ToitrAJkrUSH4gbmCA   \n",
       "488700 2012-04-23 20:58:49  EnMFnR1U0ZeGMChuKoM-rw  e_vguiiAy096g8-e0oQDDg   \n",
       "488701 2017-01-13 14:20:06  4CMl_Zy-CYv42vWVUWSGNQ  8ovwNH9wXDzaCuHG9TyOOw   \n",
       "\n",
       "        stars                     name                         address  \\\n",
       "0         4.0         Greenberg's Deli           3790 Las Vegas Blvd S   \n",
       "1         4.0         Greenberg's Deli           3790 Las Vegas Blvd S   \n",
       "2         4.0         Greenberg's Deli           3790 Las Vegas Blvd S   \n",
       "3         4.0         Greenberg's Deli           3790 Las Vegas Blvd S   \n",
       "4         4.0         Greenberg's Deli           3790 Las Vegas Blvd S   \n",
       "...       ...                      ...                             ...   \n",
       "488697    4.0                Calaveras             2040 Rue Beaubien E   \n",
       "488698    3.0              Pittzarella                 5832 Library Rd   \n",
       "488699    2.0       Subway Restaurants  4747 East Elliot Rd., Suite 33   \n",
       "488700    2.0                   Subway        507 Saint Clair Avenue W   \n",
       "488701    3.0  Pittsburgerz Smokehouse               415 Noblestown Rd   \n",
       "\n",
       "               city state postal_code   latitude   longitude  review_count  \\\n",
       "0         Las Vegas    NV       89136  36.102725 -115.174164           388   \n",
       "1         Las Vegas    NV       89136  36.102725 -115.174164           388   \n",
       "2         Las Vegas    NV       89136  36.102725 -115.174164           388   \n",
       "3         Las Vegas    NV       89136  36.102725 -115.174164           388   \n",
       "4         Las Vegas    NV       89136  36.102725 -115.174164           388   \n",
       "...             ...   ...         ...        ...         ...           ...   \n",
       "488697     Montréal    QC     H2G 1M4  45.545310  -73.594570             9   \n",
       "488698  Bethel Park    PA       15102  40.308755  -80.033243            11   \n",
       "488699      Phoenix    AZ       85044  33.347499 -111.981221            14   \n",
       "488700      Toronto    ON     M6C 1A1  43.682907  -79.418504             5   \n",
       "488701     Carnegie    PA       15106  40.413224  -80.074625            11   \n",
       "\n",
       "        is_open                                         attributes  \\\n",
       "0             1  {'RestaurantsAttire': 'u'casual'', 'BikeParkin...   \n",
       "1             1  {'RestaurantsAttire': 'u'casual'', 'BikeParkin...   \n",
       "2             1  {'RestaurantsAttire': 'u'casual'', 'BikeParkin...   \n",
       "3             1  {'RestaurantsAttire': 'u'casual'', 'BikeParkin...   \n",
       "4             1  {'RestaurantsAttire': 'u'casual'', 'BikeParkin...   \n",
       "...         ...                                                ...   \n",
       "488697        1                                               None   \n",
       "488698        1  {'RestaurantsPriceRange2': '2', 'RestaurantsTa...   \n",
       "488699        1  {'GoodForKids': 'True', 'WiFi': 'u'no'', 'Busi...   \n",
       "488700        1  {'BusinessParking': '{'garage': False, 'street...   \n",
       "488701        1  {'RestaurantsAttire': ''casual'', 'BikeParking...   \n",
       "\n",
       "                                               categories  \\\n",
       "0                   Delis, Restaurants, Sandwiches, Pizza   \n",
       "1                   Delis, Restaurants, Sandwiches, Pizza   \n",
       "2                   Delis, Restaurants, Sandwiches, Pizza   \n",
       "3                   Delis, Restaurants, Sandwiches, Pizza   \n",
       "4                   Delis, Restaurants, Sandwiches, Pizza   \n",
       "...                                                   ...   \n",
       "488697                               Restaurants, Mexican   \n",
       "488698                                 Pizza, Restaurants   \n",
       "488699                 Restaurants, Sandwiches, Fast Food   \n",
       "488700                 Restaurants, Sandwiches, Fast Food   \n",
       "488701  Restaurants, Barbeque, Bars, Nightlife, Smokeh...   \n",
       "\n",
       "                                                    hours  \n",
       "0       {'Monday': '9:0-22:0', 'Tuesday': '9:0-22:0', ...  \n",
       "1       {'Monday': '9:0-22:0', 'Tuesday': '9:0-22:0', ...  \n",
       "2       {'Monday': '9:0-22:0', 'Tuesday': '9:0-22:0', ...  \n",
       "3       {'Monday': '9:0-22:0', 'Tuesday': '9:0-22:0', ...  \n",
       "4       {'Monday': '9:0-22:0', 'Tuesday': '9:0-22:0', ...  \n",
       "...                                                   ...  \n",
       "488697  {'Tuesday': '17:0-23:0', 'Wednesday': '17:0-23...  \n",
       "488698  {'Monday': '10:0-23:0', 'Tuesday': '10:0-23:0'...  \n",
       "488699  {'Monday': '7:0-21:0', 'Tuesday': '7:0-21:0', ...  \n",
       "488700  {'Monday': '7:0-23:0', 'Tuesday': '7:0-23:0', ...  \n",
       "488701  {'Monday': '15:0-2:0', 'Tuesday': '15:0-2:0', ...  \n",
       "\n",
       "[488702 rows x 16 columns]"
      ]
     },
     "execution_count": 73,
     "metadata": {},
     "output_type": "execute_result"
    }
   ],
   "source": [
    "df1 = reviews_df.rename({'stars': 'review_stars'})\n",
    "df2 = business_df\n",
    "df = df1.merge(df2)\n",
    "df"
   ]
  },
  {
   "cell_type": "markdown",
   "metadata": {},
   "source": [
    "Trước đó nhìn sơ xem th"
   ]
  },
  {
   "cell_type": "markdown",
   "metadata": {},
   "source": [
    "------"
   ]
  },
  {
   "cell_type": "markdown",
   "metadata": {},
   "source": [
    "## Tìm câu trả lời cho từng câu hỏi"
   ]
  },
  {
   "cell_type": "markdown",
   "metadata": {},
   "source": [
    "-------"
   ]
  },
  {
   "cell_type": "markdown",
   "metadata": {},
   "source": [
    "## Nhìn lại quá trình làm đồ án"
   ]
  },
  {
   "cell_type": "markdown",
   "metadata": {},
   "source": [
    "---"
   ]
  },
  {
   "cell_type": "markdown",
   "metadata": {},
   "source": [
    "## Tài liệu tham khảo"
   ]
  }
 ],
 "metadata": {
  "kernelspec": {
   "display_name": "py377",
   "language": "python",
   "name": "py377"
  },
  "language_info": {
   "codemirror_mode": {
    "name": "ipython",
    "version": 3
   },
   "file_extension": ".py",
   "mimetype": "text/x-python",
   "name": "python",
   "nbconvert_exporter": "python",
   "pygments_lexer": "ipython3",
   "version": "3.7.7"
  },
  "toc-autonumbering": true,
  "toc-showcode": false,
  "toc-showtags": false
 },
 "nbformat": 4,
 "nbformat_minor": 4
}
