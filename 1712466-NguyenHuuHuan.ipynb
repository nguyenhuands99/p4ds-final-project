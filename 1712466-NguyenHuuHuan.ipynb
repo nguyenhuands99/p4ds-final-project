{
 "cells": [
  {
   "cell_type": "markdown",
   "metadata": {},
   "source": [
    "# ĐỒ ÁN CUỐI KỲ (LTKHDL - CQ2017/2)\n",
    "### GVHD: TS. Trần Trung Kiên\n",
    "\n",
    "Họ và tên sinh viên: Nguyễn Hữu Huân\n",
    "\n",
    "MSSV: 1712466"
   ]
  },
  {
   "cell_type": "markdown",
   "metadata": {},
   "source": [
    "------"
   ]
  },
  {
   "cell_type": "markdown",
   "metadata": {},
   "source": [
    "## Import"
   ]
  },
  {
   "cell_type": "code",
   "execution_count": 193,
   "metadata": {},
   "outputs": [],
   "source": [
    "%matplotlib inline\n",
    "import matplotlib.pyplot as plt\n",
    "import pandas as pd\n",
    "import numpy as np"
   ]
  },
  {
   "cell_type": "markdown",
   "metadata": {},
   "source": [
    "---"
   ]
  },
  {
   "cell_type": "markdown",
   "metadata": {},
   "source": [
    "## Lấy dữ liệu"
   ]
  },
  {
   "cell_type": "markdown",
   "metadata": {},
   "source": [
    "Dữ liệu mà em sử dụng ở đây được lấy từ [dataset của Yelp trên Kaggle](https://www.kaggle.com/yelp-dataset/yelp-dataset). Yelp là một công ty công nghệ lớn ở Mỹ với sản phẩm nổi bật là Yelp website và Yelp app cho phép người dùng tìm kiếm, đánh giá, bình luận, đặt chỗ dịch vụ của các cở sở kinh doanh. \n",
    "\n",
    "Khi tải dataset này về đồng nghĩa với việc đã chấp nhận điều khoản sử dụng (một file pdf khá dài) được viết bởi Yelp dành riêng cho dataset này ví dụ như là chỉ được sử dụng cho mục đích học tập giáo dục,...\n",
    "\n",
    "Vì dataset này khá lớn (tầm 10GB) và chủ đề chính mà em quan tâm ở đây chỉ là nhà hàng, món ăn (liên quan tới Việt Nam càng tốt) nên em chỉ sử dụng 2 file json là: \"yelp_academic_dataset_business.json\" và \"yelp_academic_dataset_review.json\" trong số 5 file của dataset. File \"yelp_academic_dataset_business.json\" chứa thông tin của các cơ sở kinh doanh (không chỉ nhà hàng), còn file \"yelp_academic_dataset_review.json\" chứa thông tin đánh giá của người dùng đối với cơ sở kinh doanh đó.  "
   ]
  },
  {
   "cell_type": "markdown",
   "metadata": {},
   "source": [
    "-----"
   ]
  },
  {
   "cell_type": "markdown",
   "metadata": {},
   "source": [
    "## Khám phá dữ liệu"
   ]
  },
  {
   "cell_type": "markdown",
   "metadata": {},
   "source": [
    "### Data Description"
   ]
  },
  {
   "cell_type": "markdown",
   "metadata": {},
   "source": [
    "Phần mô tả dữ liệu này Yelp không cung cấp trên Kaggle mà để ở trang chủ của mình [ở đây](https://www.yelp.com/dataset/documentation/main). Em có dịch sơ lại như sau:"
   ]
  },
  {
   "cell_type": "markdown",
   "metadata": {},
   "source": [
    "- \"yelp_academic_dataset_review.json\":\n",
    "    - **business_id**: mã id của doanh nghiệp (string, 22 chữ số và duy nhất)\n",
    "    - **name**: tên doanh nghiệp (string)\n",
    "    - **address**: địa chỉ (string)\n",
    "    - **city**: thành phố (string)\n",
    "    - **state**: mã bang  (string, 2 kí tự)\n",
    "    - **postal_code**: mã bưu chính (string)\n",
    "    - **latitude**: vĩ độ (float)\n",
    "    - **longitude**: kinh độ (float)\n",
    "    - **stars**: sao trung bình (float, làm tròn 0.5)\n",
    "    - **review_count**: số lượng review (int)\n",
    "    - **is_open**: có còn hoạt động hay không (int, 0: là đã đóng cửa và 1: còn hoạt động)\n",
    "    - **attribute**: một số thông tin về doanh nghiệp (object : đậu xe như thế nào, thanh toán thẻ được không,..)\n",
    "    - **categories**: danh sách các loại của doanh nghiệp (array of string)\n",
    "    - **hours**: giở mở cửa (object: Thứ Hai từ mấy giờ tới mấy giờ, Thứ Ba,...)\n",
    "- \"yelp_academic_dataset_review.json\":\n",
    "    - **user_id**: mã id người dùng (string, 22 chữ số và duy nhất)\n",
    "    - **text**: nội dung review (string)\n",
    "    - **date**: ngày review (string, format là yyyy-mm-dd HH:MM:SS)\n",
    "    - **review_id**: mã id của review (string, 22 chữ số và duy nhất)\n",
    "    - **business_id**: mã doanh nghiệp được review (string, 22 chữ số và duy nhất)\n",
    "    - **funny**: độ hài hước của review này được vote (int)\n",
    "    - **cool**: độ \"ngầu\" của review này được vote (int)\n",
    "    - **useful**: độ có ích của review được vote (int)\n",
    "    - **stars**: số sao review (int)"
   ]
  },
  {
   "cell_type": "markdown",
   "metadata": {},
   "source": [
    "### Đọc dữ liệu vào DataFrame"
   ]
  },
  {
   "cell_type": "markdown",
   "metadata": {},
   "source": [
    "Khá may mắn là mặc dù các file này là json nhưng cấu trúc nó khá \"ngay ngắn\" và có thể đọc thành DataFrame bằng hàm `pd.read_json()`. Nhưng cũng khá xui vì file về reviews khá nặng (6GB!), ban đầu em cũng thử cố đọc file này bằng cách định nghĩa các cột trước khi đọc và chia thành đọc các 'chunk' nhỏ, tuy nhiên máy vẫn bị \"đơ\". Để tiết kiệm thời gian thì em đã lên Kaggle tải file [\"reviews.csv\"](https://www.kaggle.com/darshank2019/review) mà người khác đã convert trước đó."
   ]
  },
  {
   "cell_type": "code",
   "execution_count": 2,
   "metadata": {},
   "outputs": [],
   "source": [
    "business_df = pd.read_json('data/yelp_academic_dataset_business.json', lines=True)"
   ]
  },
  {
   "cell_type": "code",
   "execution_count": 4,
   "metadata": {},
   "outputs": [
    {
     "data": {
      "text/html": [
       "<div>\n",
       "<style scoped>\n",
       "    .dataframe tbody tr th:only-of-type {\n",
       "        vertical-align: middle;\n",
       "    }\n",
       "\n",
       "    .dataframe tbody tr th {\n",
       "        vertical-align: top;\n",
       "    }\n",
       "\n",
       "    .dataframe thead th {\n",
       "        text-align: right;\n",
       "    }\n",
       "</style>\n",
       "<table border=\"1\" class=\"dataframe\">\n",
       "  <thead>\n",
       "    <tr style=\"text-align: right;\">\n",
       "      <th></th>\n",
       "      <th>business_id</th>\n",
       "      <th>name</th>\n",
       "      <th>address</th>\n",
       "      <th>city</th>\n",
       "      <th>state</th>\n",
       "      <th>postal_code</th>\n",
       "      <th>latitude</th>\n",
       "      <th>longitude</th>\n",
       "      <th>stars</th>\n",
       "      <th>review_count</th>\n",
       "      <th>is_open</th>\n",
       "      <th>attributes</th>\n",
       "      <th>categories</th>\n",
       "      <th>hours</th>\n",
       "    </tr>\n",
       "  </thead>\n",
       "  <tbody>\n",
       "    <tr>\n",
       "      <th>0</th>\n",
       "      <td>f9NumwFMBDn751xgFiRbNA</td>\n",
       "      <td>The Range At Lake Norman</td>\n",
       "      <td>10913 Bailey Rd</td>\n",
       "      <td>Cornelius</td>\n",
       "      <td>NC</td>\n",
       "      <td>28031</td>\n",
       "      <td>35.462724</td>\n",
       "      <td>-80.852612</td>\n",
       "      <td>3.5</td>\n",
       "      <td>36</td>\n",
       "      <td>1</td>\n",
       "      <td>{'BusinessAcceptsCreditCards': 'True', 'BikePa...</td>\n",
       "      <td>Active Life, Gun/Rifle Ranges, Guns &amp; Ammo, Sh...</td>\n",
       "      <td>{'Monday': '10:0-18:0', 'Tuesday': '11:0-20:0'...</td>\n",
       "    </tr>\n",
       "    <tr>\n",
       "      <th>1</th>\n",
       "      <td>Yzvjg0SayhoZgCljUJRF9Q</td>\n",
       "      <td>Carlos Santo, NMD</td>\n",
       "      <td>8880 E Via Linda, Ste 107</td>\n",
       "      <td>Scottsdale</td>\n",
       "      <td>AZ</td>\n",
       "      <td>85258</td>\n",
       "      <td>33.569404</td>\n",
       "      <td>-111.890264</td>\n",
       "      <td>5.0</td>\n",
       "      <td>4</td>\n",
       "      <td>1</td>\n",
       "      <td>{'GoodForKids': 'True', 'ByAppointmentOnly': '...</td>\n",
       "      <td>Health &amp; Medical, Fitness &amp; Instruction, Yoga,...</td>\n",
       "      <td>None</td>\n",
       "    </tr>\n",
       "    <tr>\n",
       "      <th>2</th>\n",
       "      <td>XNoUzKckATkOD1hP6vghZg</td>\n",
       "      <td>Felinus</td>\n",
       "      <td>3554 Rue Notre-Dame O</td>\n",
       "      <td>Montreal</td>\n",
       "      <td>QC</td>\n",
       "      <td>H4C 1P4</td>\n",
       "      <td>45.479984</td>\n",
       "      <td>-73.580070</td>\n",
       "      <td>5.0</td>\n",
       "      <td>5</td>\n",
       "      <td>1</td>\n",
       "      <td>None</td>\n",
       "      <td>Pets, Pet Services, Pet Groomers</td>\n",
       "      <td>None</td>\n",
       "    </tr>\n",
       "    <tr>\n",
       "      <th>3</th>\n",
       "      <td>6OAZjbxqM5ol29BuHsil3w</td>\n",
       "      <td>Nevada House of Hose</td>\n",
       "      <td>1015 Sharp Cir</td>\n",
       "      <td>North Las Vegas</td>\n",
       "      <td>NV</td>\n",
       "      <td>89030</td>\n",
       "      <td>36.219728</td>\n",
       "      <td>-115.127725</td>\n",
       "      <td>2.5</td>\n",
       "      <td>3</td>\n",
       "      <td>0</td>\n",
       "      <td>{'BusinessAcceptsCreditCards': 'True', 'ByAppo...</td>\n",
       "      <td>Hardware Stores, Home Services, Building Suppl...</td>\n",
       "      <td>{'Monday': '7:0-16:0', 'Tuesday': '7:0-16:0', ...</td>\n",
       "    </tr>\n",
       "    <tr>\n",
       "      <th>4</th>\n",
       "      <td>51M2Kk903DFYI6gnB5I6SQ</td>\n",
       "      <td>USE MY GUY SERVICES LLC</td>\n",
       "      <td>4827 E Downing Cir</td>\n",
       "      <td>Mesa</td>\n",
       "      <td>AZ</td>\n",
       "      <td>85205</td>\n",
       "      <td>33.428065</td>\n",
       "      <td>-111.726648</td>\n",
       "      <td>4.5</td>\n",
       "      <td>26</td>\n",
       "      <td>1</td>\n",
       "      <td>{'BusinessAcceptsCreditCards': 'True', 'ByAppo...</td>\n",
       "      <td>Home Services, Plumbing, Electricians, Handyma...</td>\n",
       "      <td>{'Monday': '0:0-0:0', 'Tuesday': '9:0-16:0', '...</td>\n",
       "    </tr>\n",
       "  </tbody>\n",
       "</table>\n",
       "</div>"
      ],
      "text/plain": [
       "              business_id                      name  \\\n",
       "0  f9NumwFMBDn751xgFiRbNA  The Range At Lake Norman   \n",
       "1  Yzvjg0SayhoZgCljUJRF9Q         Carlos Santo, NMD   \n",
       "2  XNoUzKckATkOD1hP6vghZg                   Felinus   \n",
       "3  6OAZjbxqM5ol29BuHsil3w      Nevada House of Hose   \n",
       "4  51M2Kk903DFYI6gnB5I6SQ   USE MY GUY SERVICES LLC   \n",
       "\n",
       "                     address             city state postal_code   latitude  \\\n",
       "0            10913 Bailey Rd        Cornelius    NC       28031  35.462724   \n",
       "1  8880 E Via Linda, Ste 107       Scottsdale    AZ       85258  33.569404   \n",
       "2      3554 Rue Notre-Dame O         Montreal    QC     H4C 1P4  45.479984   \n",
       "3             1015 Sharp Cir  North Las Vegas    NV       89030  36.219728   \n",
       "4         4827 E Downing Cir             Mesa    AZ       85205  33.428065   \n",
       "\n",
       "    longitude  stars  review_count  is_open  \\\n",
       "0  -80.852612    3.5            36        1   \n",
       "1 -111.890264    5.0             4        1   \n",
       "2  -73.580070    5.0             5        1   \n",
       "3 -115.127725    2.5             3        0   \n",
       "4 -111.726648    4.5            26        1   \n",
       "\n",
       "                                          attributes  \\\n",
       "0  {'BusinessAcceptsCreditCards': 'True', 'BikePa...   \n",
       "1  {'GoodForKids': 'True', 'ByAppointmentOnly': '...   \n",
       "2                                               None   \n",
       "3  {'BusinessAcceptsCreditCards': 'True', 'ByAppo...   \n",
       "4  {'BusinessAcceptsCreditCards': 'True', 'ByAppo...   \n",
       "\n",
       "                                          categories  \\\n",
       "0  Active Life, Gun/Rifle Ranges, Guns & Ammo, Sh...   \n",
       "1  Health & Medical, Fitness & Instruction, Yoga,...   \n",
       "2                   Pets, Pet Services, Pet Groomers   \n",
       "3  Hardware Stores, Home Services, Building Suppl...   \n",
       "4  Home Services, Plumbing, Electricians, Handyma...   \n",
       "\n",
       "                                               hours  \n",
       "0  {'Monday': '10:0-18:0', 'Tuesday': '11:0-20:0'...  \n",
       "1                                               None  \n",
       "2                                               None  \n",
       "3  {'Monday': '7:0-16:0', 'Tuesday': '7:0-16:0', ...  \n",
       "4  {'Monday': '0:0-0:0', 'Tuesday': '9:0-16:0', '...  "
      ]
     },
     "execution_count": 4,
     "metadata": {},
     "output_type": "execute_result"
    }
   ],
   "source": [
    "business_df.head()"
   ]
  },
  {
   "cell_type": "markdown",
   "metadata": {},
   "source": [
    " Vì file csv này là của phiên bản reviews đươc người khác cách đây 1 năm (tức là của phiên bản ít nhất cũng đã hơn 1 năm trước rồi trong khi phiên bản mới nhất cách đây 5 tháng) nên dung lượng chỉ còn khoảng 4GB. Nhưng 4GB vẫn là con số khá lớn, cho nên sau khi đọc data description em đã bỏ đọc một số cột em cảm thấy sẽ không cần dùng tới (theo tiêu chí bài này của em):\"user_id\",\"useful\", \"text\", \"cool\", \"funny\" để việc đọc được diễn ra \"suông sẻ\" và nhanh hơn."
   ]
  },
  {
   "cell_type": "code",
   "execution_count": 9,
   "metadata": {},
   "outputs": [],
   "source": [
    "reviews_df = pd.read_csv('data/yelp_academic_dataset_review.csv', usecols=['date','review_id','business_id','stars'])"
   ]
  },
  {
   "cell_type": "code",
   "execution_count": 10,
   "metadata": {},
   "outputs": [
    {
     "data": {
      "text/html": [
       "<div>\n",
       "<style scoped>\n",
       "    .dataframe tbody tr th:only-of-type {\n",
       "        vertical-align: middle;\n",
       "    }\n",
       "\n",
       "    .dataframe tbody tr th {\n",
       "        vertical-align: top;\n",
       "    }\n",
       "\n",
       "    .dataframe thead th {\n",
       "        text-align: right;\n",
       "    }\n",
       "</style>\n",
       "<table border=\"1\" class=\"dataframe\">\n",
       "  <thead>\n",
       "    <tr style=\"text-align: right;\">\n",
       "      <th></th>\n",
       "      <th>date</th>\n",
       "      <th>review_id</th>\n",
       "      <th>business_id</th>\n",
       "      <th>stars</th>\n",
       "    </tr>\n",
       "  </thead>\n",
       "  <tbody>\n",
       "    <tr>\n",
       "      <th>0</th>\n",
       "      <td>b'2013-05-07 04:34:36'</td>\n",
       "      <td>b'Q1sbwvVQXV2734tPgoKj4Q'</td>\n",
       "      <td>b'ujmEBvifdJM6h6RLv4wQIg'</td>\n",
       "      <td>1.0</td>\n",
       "    </tr>\n",
       "    <tr>\n",
       "      <th>1</th>\n",
       "      <td>b'2017-01-14 21:30:33'</td>\n",
       "      <td>b'GJXCdrto3ASJOqKeVWPi6Q'</td>\n",
       "      <td>b'NZnhc2sEQy3RmzKTZnqtwQ'</td>\n",
       "      <td>5.0</td>\n",
       "    </tr>\n",
       "    <tr>\n",
       "      <th>2</th>\n",
       "      <td>b'2016-11-09 20:09:03'</td>\n",
       "      <td>b'2TzJjDVDEuAW6MR5Vuc1ug'</td>\n",
       "      <td>b'WTqjgwHlXbSFevF32_DJVw'</td>\n",
       "      <td>5.0</td>\n",
       "    </tr>\n",
       "    <tr>\n",
       "      <th>3</th>\n",
       "      <td>b'2018-01-09 20:56:38'</td>\n",
       "      <td>b'yi0R0Ugj_xUx_Nek0-_Qig'</td>\n",
       "      <td>b'ikCg8xy5JIg_NGPx-MSIDA'</td>\n",
       "      <td>5.0</td>\n",
       "    </tr>\n",
       "    <tr>\n",
       "      <th>4</th>\n",
       "      <td>b'2018-01-30 23:07:38'</td>\n",
       "      <td>b'11a8sVPMUFtaC7_ABRkmtw'</td>\n",
       "      <td>b'b1b1eb3uo-w561D0ZfCEiQ'</td>\n",
       "      <td>1.0</td>\n",
       "    </tr>\n",
       "  </tbody>\n",
       "</table>\n",
       "</div>"
      ],
      "text/plain": [
       "                     date                  review_id  \\\n",
       "0  b'2013-05-07 04:34:36'  b'Q1sbwvVQXV2734tPgoKj4Q'   \n",
       "1  b'2017-01-14 21:30:33'  b'GJXCdrto3ASJOqKeVWPi6Q'   \n",
       "2  b'2016-11-09 20:09:03'  b'2TzJjDVDEuAW6MR5Vuc1ug'   \n",
       "3  b'2018-01-09 20:56:38'  b'yi0R0Ugj_xUx_Nek0-_Qig'   \n",
       "4  b'2018-01-30 23:07:38'  b'11a8sVPMUFtaC7_ABRkmtw'   \n",
       "\n",
       "                 business_id  stars  \n",
       "0  b'ujmEBvifdJM6h6RLv4wQIg'    1.0  \n",
       "1  b'NZnhc2sEQy3RmzKTZnqtwQ'    5.0  \n",
       "2  b'WTqjgwHlXbSFevF32_DJVw'    5.0  \n",
       "3  b'ikCg8xy5JIg_NGPx-MSIDA'    5.0  \n",
       "4  b'b1b1eb3uo-w561D0ZfCEiQ'    1.0  "
      ]
     },
     "execution_count": 10,
     "metadata": {},
     "output_type": "execute_result"
    }
   ],
   "source": [
    "reviews_df.head()"
   ]
  },
  {
   "cell_type": "markdown",
   "metadata": {},
   "source": [
    "### Dữ liệu gồm bao nhiêu dòng, bao nhiêu cột?"
   ]
  },
  {
   "cell_type": "markdown",
   "metadata": {},
   "source": [
    "Quan sát kích thước của 2 DataFrame"
   ]
  },
  {
   "cell_type": "code",
   "execution_count": 46,
   "metadata": {},
   "outputs": [
    {
     "data": {
      "text/plain": [
       "(209393, 14)"
      ]
     },
     "execution_count": 46,
     "metadata": {},
     "output_type": "execute_result"
    }
   ],
   "source": [
    "business_df.shape"
   ]
  },
  {
   "cell_type": "code",
   "execution_count": 47,
   "metadata": {},
   "outputs": [
    {
     "data": {
      "text/plain": [
       "(6685900, 4)"
      ]
     },
     "execution_count": 47,
     "metadata": {},
     "output_type": "execute_result"
    }
   ],
   "source": [
    "reviews_df.shape"
   ]
  },
  {
   "cell_type": "markdown",
   "metadata": {},
   "source": [
    "Dữ liệu khá bự 😥 14 cột, 209393 dòng với `business_df`, mỗi dòng là một doanh nghiệp. 6 cột 6685900 dòng với `reviews_df`, mỗi dòng là một review."
   ]
  },
  {
   "cell_type": "markdown",
   "metadata": {},
   "source": [
    "### Mỗi dòng, cột có ý nghĩa gì?"
   ]
  },
  {
   "cell_type": "markdown",
   "metadata": {},
   "source": [
    "Ý nghĩa của từng cột thì đã có ở phần **Data Description** phía trên. Ý nghĩa mỗi dòng của `business_df` là một cửa hàng kinh doanh, còn mỗi dòng của `reviews_df` là một review của người dùng lên cửa hàng nào đó."
   ]
  },
  {
   "cell_type": "markdown",
   "metadata": {},
   "source": [
    "### Mỗi cột có dtypes là gì? Ý nghĩa là sao? Dữ liệu vấn đề gì không?"
   ]
  },
  {
   "cell_type": "markdown",
   "metadata": {},
   "source": [
    "🏪 DataFrame business_df  "
   ]
  },
  {
   "cell_type": "code",
   "execution_count": 15,
   "metadata": {},
   "outputs": [
    {
     "name": "stdout",
     "output_type": "stream",
     "text": [
      "<class 'pandas.core.frame.DataFrame'>\n",
      "RangeIndex: 209393 entries, 0 to 209392\n",
      "Data columns (total 14 columns):\n",
      " #   Column        Non-Null Count   Dtype  \n",
      "---  ------        --------------   -----  \n",
      " 0   business_id   209393 non-null  object \n",
      " 1   name          209393 non-null  object \n",
      " 2   address       209393 non-null  object \n",
      " 3   city          209393 non-null  object \n",
      " 4   state         209393 non-null  object \n",
      " 5   postal_code   209393 non-null  object \n",
      " 6   latitude      209393 non-null  float64\n",
      " 7   longitude     209393 non-null  float64\n",
      " 8   stars         209393 non-null  float64\n",
      " 9   review_count  209393 non-null  int64  \n",
      " 10  is_open       209393 non-null  int64  \n",
      " 11  attributes    180348 non-null  object \n",
      " 12  categories    208869 non-null  object \n",
      " 13  hours         164550 non-null  object \n",
      "dtypes: float64(3), int64(2), object(9)\n",
      "memory usage: 22.4+ MB\n"
     ]
    }
   ],
   "source": [
    "business_df.info()"
   ]
  },
  {
   "cell_type": "markdown",
   "metadata": {},
   "source": [
    "**Một số thông tin về dtype và null values:**"
   ]
  },
  {
   "cell_type": "markdown",
   "metadata": {},
   "source": [
    "Ở đây để kiểm tra kỹ hơn về dtype của một vài cột object thì em sẽ tái sử dụng lại hàm `open_object_dtype()` (BT03-Pandas)."
   ]
  },
  {
   "cell_type": "code",
   "execution_count": 65,
   "metadata": {},
   "outputs": [],
   "source": [
    "def open_object_dtype(s):\n",
    "    dtypes = set()\n",
    "    for value in s.values:\n",
    "            dtypes.add(type(value))\n",
    "    return dtypes"
   ]
  },
  {
   "cell_type": "markdown",
   "metadata": {},
   "source": [
    "- Có thể thấy **postal_code** là string thì hơi lạ, nhưng sau khi tìm hiểu thì postal code của Mỹ có bao gồm cả chữ cái (khác VN)"
   ]
  },
  {
   "cell_type": "code",
   "execution_count": 66,
   "metadata": {},
   "outputs": [
    {
     "data": {
      "text/plain": [
       "{str}"
      ]
     },
     "execution_count": 66,
     "metadata": {},
     "output_type": "execute_result"
    }
   ],
   "source": [
    "open_object_dtype(business_df.postal_code)"
   ]
  },
  {
   "cell_type": "code",
   "execution_count": 24,
   "metadata": {},
   "outputs": [
    {
     "data": {
      "text/plain": [
       "78469       44060\n",
       "134499    M5J 2N3\n",
       "46601       28105\n",
       "Name: postal_code, dtype: object"
      ]
     },
     "execution_count": 24,
     "metadata": {},
     "output_type": "execute_result"
    }
   ],
   "source": [
    "business_df.postal_code.sample(3)"
   ]
  },
  {
   "cell_type": "markdown",
   "metadata": {},
   "source": [
    "- **hours** và **attribute** ở đây là object (cụ thể là json object hay dict của python và NoneType (của các null values))"
   ]
  },
  {
   "cell_type": "code",
   "execution_count": 63,
   "metadata": {},
   "outputs": [
    {
     "data": {
      "text/plain": [
       "61902                                                  None\n",
       "17388     {'Monday': '11:0-22:0', 'Tuesday': '11:0-22:0'...\n",
       "204480    {'Tuesday': '10:0-19:0', 'Wednesday': '10:0-19...\n",
       "Name: hours, dtype: object"
      ]
     },
     "execution_count": 63,
     "metadata": {},
     "output_type": "execute_result"
    }
   ],
   "source": [
    "business_df.hours.sample(3)"
   ]
  },
  {
   "cell_type": "code",
   "execution_count": 25,
   "metadata": {},
   "outputs": [
    {
     "data": {
      "text/plain": [
       "59793     {'BusinessAcceptsCreditCards': 'True', 'Busine...\n",
       "133772    {'BusinessAcceptsCreditCards': 'True', 'ByAppo...\n",
       "55702     {'RestaurantsPriceRange2': '2', 'Caters': 'Tru...\n",
       "Name: attributes, dtype: object"
      ]
     },
     "execution_count": 25,
     "metadata": {},
     "output_type": "execute_result"
    }
   ],
   "source": [
    "business_df.attributes.sample(3)"
   ]
  },
  {
   "cell_type": "code",
   "execution_count": 67,
   "metadata": {},
   "outputs": [
    {
     "data": {
      "text/plain": [
       "{NoneType, dict}"
      ]
     },
     "execution_count": 67,
     "metadata": {},
     "output_type": "execute_result"
    }
   ],
   "source": [
    "open_object_dtype(business_df.hours)"
   ]
  },
  {
   "cell_type": "code",
   "execution_count": 68,
   "metadata": {},
   "outputs": [
    {
     "data": {
      "text/plain": [
       "{NoneType, dict}"
      ]
     },
     "execution_count": 68,
     "metadata": {},
     "output_type": "execute_result"
    }
   ],
   "source": [
    "open_object_dtype(business_df.attributes)"
   ]
  },
  {
   "cell_type": "markdown",
   "metadata": {},
   "source": [
    "- Các cột chứa giá trị thiếu bao gồm: **attributes**, **categories**, **hours**. 2 cái còn lại thì không sao nhưng **categories** thiếu thì hơi khó khăn trong việc nhận diện loại dịch vụ. Vì vậy em sẽ drop những dòng thiếu cột này."
   ]
  },
  {
   "cell_type": "code",
   "execution_count": 48,
   "metadata": {},
   "outputs": [],
   "source": [
    "business_df.dropna(axis=0, subset=['categories'], inplace=True)"
   ]
  },
  {
   "cell_type": "markdown",
   "metadata": {},
   "source": [
    "- **categories** là object (str) được lưu theo kiểu liệt kê: A, B, C."
   ]
  },
  {
   "cell_type": "code",
   "execution_count": 69,
   "metadata": {},
   "outputs": [
    {
     "data": {
      "text/plain": [
       "{str}"
      ]
     },
     "execution_count": 69,
     "metadata": {},
     "output_type": "execute_result"
    }
   ],
   "source": [
    "open_object_dtype(business_df.categories)"
   ]
  },
  {
   "cell_type": "code",
   "execution_count": 26,
   "metadata": {},
   "outputs": [
    {
     "data": {
      "text/plain": [
       "120148    Food, Cafes, French, Bakeries, Restaurants, Bi...\n",
       "10476     Active Life, Cycling Classes, Trainers, Yoga, ...\n",
       "63893                  Beer, Wine & Spirits, Food, Shopping\n",
       "Name: categories, dtype: object"
      ]
     },
     "execution_count": 26,
     "metadata": {},
     "output_type": "execute_result"
    }
   ],
   "source": [
    "business_df.categories.sample(3)"
   ]
  },
  {
   "cell_type": "markdown",
   "metadata": {},
   "source": [
    "Vì chủ đề ban đầu em chọn là về nhà hàng, nên với miền các giá trị như hiện tại của **categories** sẽ bao gồm các record em không cần tới. Do đó, em sẽ chỉ giữ lại những record có **categories** bao gồm nhà hàng."
   ]
  },
  {
   "cell_type": "code",
   "execution_count": 43,
   "metadata": {},
   "outputs": [
    {
     "data": {
      "text/plain": [
       "Restaurants        63944\n",
       "Shopping           34644\n",
       "Food               32991\n",
       "Home Services      22487\n",
       "Beauty & Spas      20520\n",
       "                   ...  \n",
       "Japanese Sweets        1\n",
       "Halfway Houses         1\n",
       "Backshop               1\n",
       "Minho                  1\n",
       "Calabrian              1\n",
       "Name: categories, Length: 1336, dtype: int64"
      ]
     },
     "execution_count": 43,
     "metadata": {},
     "output_type": "execute_result"
    }
   ],
   "source": [
    "# show the \"range\" of catergories \n",
    "business_df.assign(categories = business_df.categories\n",
    "                         .str.split(', ')).explode('categories').categories.value_counts()  # all kinds of categories in value-count order"
   ]
  },
  {
   "cell_type": "markdown",
   "metadata": {},
   "source": [
    "Nhà hàng có vẻ chiếm số lượng khá lớn trong số các hình thức của các cơ sở kinh doanh của Yelp."
   ]
  },
  {
   "cell_type": "code",
   "execution_count": 49,
   "metadata": {},
   "outputs": [],
   "source": [
    "business_df = business_df[business_df.categories.str.contains('Restaurants')]"
   ]
  },
  {
   "cell_type": "code",
   "execution_count": 51,
   "metadata": {},
   "outputs": [
    {
     "data": {
      "text/plain": [
       "(63944, 14)"
      ]
     },
     "execution_count": 51,
     "metadata": {},
     "output_type": "execute_result"
    }
   ],
   "source": [
    "business_df.shape"
   ]
  },
  {
   "cell_type": "markdown",
   "metadata": {},
   "source": [
    "Sẵn xem thử luôn có những kiểu nhà hàng nào?"
   ]
  },
  {
   "cell_type": "code",
   "execution_count": 81,
   "metadata": {
    "collapsed": true,
    "jupyter": {
     "outputs_hidden": true
    }
   },
   "outputs": [
    {
     "data": {
      "text/plain": [
       "array(['Ethnic Food', 'Food Trucks', 'Specialty Food', 'Imported Food',\n",
       "       'Argentine', 'Food', 'Restaurants', 'Empanadas', 'Cheesesteaks',\n",
       "       'Poutineries', 'Japanese', 'Fast Food', 'Food Court',\n",
       "       'Persian/Iranian', 'Turkish', 'Middle Eastern', 'Kebab',\n",
       "       'Pretzels', 'Bakeries', 'Vietnamese', 'Soup', 'Lebanese',\n",
       "       'Burgers', 'Shopping Centers', 'Coffee & Tea', 'Cafes', 'Museums',\n",
       "       'Shopping', 'Local Flavor', 'Flowers & Gifts',\n",
       "       'Arts & Entertainment', 'Art Galleries', 'Florists', 'Egyptian',\n",
       "       'Pizza', 'Buffets', 'Indian', 'Halal', 'Breakfast & Brunch',\n",
       "       'American (Traditional)', 'Salad', 'Thai', 'Tapas/Small Plates',\n",
       "       'Fish & Chips', 'Seafood', 'Ice Cream & Frozen Yogurt',\n",
       "       'Sandwiches', 'Bagels', 'Donuts', 'Italian', 'Dive Bars',\n",
       "       'Comfort Food', 'Bars', 'Nightlife', 'Hot Dogs', 'Street Vendors',\n",
       "       'Delis', 'Cheese Shops', 'Chicken Shop', 'Active Life',\n",
       "       'Summer Camps', 'Personal Chefs', 'Venues & Event Spaces',\n",
       "       'Cooking Schools', 'Event Planning & Services',\n",
       "       'Specialty Schools', 'Cooking Classes', 'Party & Event Planning',\n",
       "       'Education', 'Caterers', 'Arts & Crafts', 'Mexican', 'Desserts',\n",
       "       'Steakhouses', 'Sushi Bars', 'Chinese', 'Sports Bars',\n",
       "       'Chicken Wings', 'Barbeque', 'Southern', 'Modern European',\n",
       "       'International Grocery', 'American (New)', 'Dim Sum', 'Vegetarian',\n",
       "       'Ramen', 'Vegan', 'Poke', 'Asian Fusion', 'Food Stands',\n",
       "       'Festivals', 'Performing Arts', 'Shaved Ice', 'Themed Cafes',\n",
       "       'Shaved Snow', 'Bubble Tea', 'Juice Bars & Smoothies', 'Spanish',\n",
       "       'French', 'Tex-Mex', 'Portuguese', 'Shared Office Spaces',\n",
       "       'Home Services', 'Real Estate', 'Coffee Roasteries', 'Tapas Bars',\n",
       "       'Gastropubs', 'Cocktail Bars', 'Lounges', 'Arcades', 'Wine Bars',\n",
       "       'Internet Cafes', 'Gluten-Free', 'Fruits & Veggies',\n",
       "       'Food Delivery Services', 'Mediterranean', 'Ukrainian', 'Polish',\n",
       "       'Pubs', 'Beer', 'Wine & Spirits', 'Social Clubs',\n",
       "       'Signature Cuisine', 'Hookah Bars', 'Dance Clubs', 'Fondue',\n",
       "       'Wraps', 'Tea Rooms', 'Sri Lankan', 'Korean', 'Gelato', 'Tacos',\n",
       "       'Greek', 'African', 'Hotel bar', 'Dumplings', 'Health Markets',\n",
       "       'Caribbean', 'Canadian (New)', 'Nail Salons', 'Beauty & Spas',\n",
       "       'Hair Salons', 'Breweries', 'Beer Bar', 'Szechuan', 'Taiwanese',\n",
       "       'Karaoke', 'Grocery', 'Butcher', 'Automotive', 'Gas Stations',\n",
       "       'Convenience Stores', 'Donairs', 'Pakistani', 'Kosher',\n",
       "       'Couriers & Delivery Services', 'Local Services', 'Music Venues',\n",
       "       'Irish', 'Afghan', 'Noodles', 'Malaysian', 'Belgian', 'Waffles',\n",
       "       'Teppanyaki', 'Hawaiian', 'Pasta Shops', 'Russian', 'Creperies',\n",
       "       'Cajun/Creole', 'Peruvian', 'Wineries', 'Australian', 'Falafel',\n",
       "       'Farmers Market', 'Organic Stores', 'Cantonese', 'Carpet Cleaning',\n",
       "       'Window Washing', 'Home Cleaning', 'Office Cleaning', 'Tiling',\n",
       "       'Professional Services', 'Home Organization', 'German',\n",
       "       'Slovakian', 'Soul Food', 'British', 'Patisserie/Cake Shop',\n",
       "       'Chocolatiers & Shops', 'Hotels', 'Hotels & Travel', 'Art Classes',\n",
       "       'Customized Merchandise', 'Cideries', 'Pan Asian', 'Casinos',\n",
       "       'Gift Shops', 'Conveyor Belt Sushi', 'Diners', 'Mini Golf',\n",
       "       'Cinema', 'Bowling', 'Trampoline Parks', 'Irish Pub', 'Acai Bowls',\n",
       "       'Meat Shops', 'Massage', 'Resorts', 'Community Service/Non-Profit',\n",
       "       'Thrift Stores', 'Golf', 'Country Clubs', 'Filipino', 'Ethiopian',\n",
       "       'Brewpubs', 'Himalayan/Nepalese', 'Sporting Goods',\n",
       "       'Latin American', 'Custom Cakes', 'Cupcakes', 'Brasseries',\n",
       "       'Photo Booth Rentals', 'Salvadoran', 'Bistros',\n",
       "       'Indoor Playcentre', 'Pool Halls', 'Dinner Theater', 'Cafeteria',\n",
       "       'Puerto Rican', 'Hot Pot', 'Macarons', 'Moroccan', 'Airports',\n",
       "       'Wedding Planning', 'Speakeasies', 'Photographers', 'Tempura',\n",
       "       'Tonkatsu', 'Smokehouse', 'Beer Gardens', 'Wine Tasting Room',\n",
       "       'Jazz & Blues', 'Cuban', 'Tuscan', 'Arabian', 'Wedding Chapels',\n",
       "       'Car Dealers', 'Auto Parts & Supplies', 'Brazilian', 'Plumbing',\n",
       "       'Water Heater Installation/Repair', 'Septic Services',\n",
       "       'Heating & Air Conditioning/HVAC', 'Delicatessen', 'Izakaya',\n",
       "       'Hakka', 'Appliances & Repair', 'Furniture Stores', 'Appliances',\n",
       "       'Wholesalers', 'Restaurant Supplies', 'Kitchen & Bath',\n",
       "       'Wholesale Stores', 'Home & Garden', 'Hong Kong Style Cafe',\n",
       "       'Campgrounds', 'Playgrounds', 'Leisure Centers', 'Nudist', 'Parks',\n",
       "       'Beaches', 'Eatertainment', 'Tobacco Shops', 'Colombian',\n",
       "       'Kids Activities', 'Venezuelan', 'Tennis', 'Travel Services',\n",
       "       'Swimming Pools', 'Skating Rinks', 'Hiking', 'Visitor Centers',\n",
       "       'Do-It-Yourself Food', 'Armenian', 'Laotian',\n",
       "       'Amateur Sports Teams', 'Fashion', 'Department Stores',\n",
       "       'Horse Racing', 'Stadiums & Arenas', 'Live/Raw Food', 'Wigs',\n",
       "       'Swiss Food', 'Piano Bars', 'Comedy Clubs', 'New Mexican Cuisine',\n",
       "       'Hair Stylists', 'Tanning', 'Business Consulting',\n",
       "       'Seafood Markets', 'Country Dance Halls', 'Whiskey Bars', 'Pets',\n",
       "       'Veterinarians', 'Security Systems', 'Body Shops', 'Dominican',\n",
       "       'Hungarian', 'Coffee & Tea Supplies', 'Food Banks', 'Haitian',\n",
       "       'Popcorn Shops', 'Cambodian', 'Supper Clubs', 'Day Spas',\n",
       "       'Health & Medical', 'Pharmacy', 'Electronics', 'Toy Stores',\n",
       "       'Bangladeshi', 'Books', 'Mags', 'Music & Video', 'Vinyl Records',\n",
       "       'Auto Upholstery', 'Furniture Reupholstery', 'Auto Detailing',\n",
       "       'Auto Repair', 'Motorcycle Repair', 'RV Repair',\n",
       "       'Auto Customization', 'Herbs & Spices', 'International',\n",
       "       'Bed & Breakfast', 'Gyms', 'Fitness & Instruction',\n",
       "       'Bike Repair/Maintenance', 'Bikes', 'Candy Stores',\n",
       "       'Keys & Locksmiths', 'Game Meat', 'Mass Media', 'Soba',\n",
       "       'Art Schools', 'Adult Education', 'Japanese Curry',\n",
       "       'Tabletop Games', 'Hobby Shops', 'Escape Games', 'Musicians',\n",
       "       'Eritrean', 'Ethnic Grocery', 'Weight Loss Centers',\n",
       "       'Martial Arts', 'Brazilian Jiu-jitsu', 'Trainers',\n",
       "       'Christmas Trees', 'Airport Lounges', 'Holiday Decorations',\n",
       "       'Singaporean', 'Vitamins & Supplements', 'Austrian', 'Bookstores',\n",
       "       'Used Bookstore', 'Ethical Grocery', 'Medical Spas',\n",
       "       'Virtual Reality Centers', 'Sports Wear', 'Golf Lessons',\n",
       "       'Bocce Ball', 'Basque', 'Car Wash', 'Beverage Store', 'Pancakes',\n",
       "       'Town Car Service', 'Transportation', 'Limos',\n",
       "       'Religious Organizations', 'Public Services & Government', 'Tours',\n",
       "       'Historical Tours', 'Libraries', 'Churches', 'Amusement Parks',\n",
       "       'Videos & Video Game Rental', 'Adult Entertainment', 'Doctors',\n",
       "       'Cardiologists', 'Emergency Medicine', 'Pediatricians',\n",
       "       'Hospitals', 'Pet Groomers', 'Pet Services',\n",
       "       'Cosmetics & Beauty Supply', 'Home Decor', 'Mongolian',\n",
       "       'Animal Shelters', 'Pet Adoption', 'Dry Cleaning & Laundry',\n",
       "       'Accessories', \"Women's Clothing\", \"Men's Clothing\", 'Drugstores',\n",
       "       'DJs', 'Fur Clothing', 'Pilates', 'Lighting Fixtures & Equipment',\n",
       "       'Ice Delivery', 'Furniture Repair', 'Party Equipment Rentals',\n",
       "       'Audio/Visual Equipment Rental', 'Furniture Rental', 'Honduran',\n",
       "       'Calabrian', 'Art Supplies', 'Scandinavian', 'Syrian',\n",
       "       'Dance Studios', 'Yoga', 'Mailbox Centers',\n",
       "       'Colleges & Universities', 'Lakes', 'Boating',\n",
       "       'Grilling Equipment', 'Hair Extensions', 'South African', 'Towing',\n",
       "       'Personal Shopping', 'Olive Oil', 'Head Shops', 'Discount Store',\n",
       "       'Pet Stores', 'Souvenir Shops', 'Cannabis Dispensaries',\n",
       "       'Party Supplies', 'Landmarks & Historical Buildings', 'Used',\n",
       "       'Vintage & Consignment', 'Baby Gear & Furniture', 'Rock Climbing',\n",
       "       'Laser Tag', 'Public Markets', 'Archery', 'Horseback Riding',\n",
       "       'Shipping Centers', 'Boxing', 'Real Estate Services',\n",
       "       'Physical Therapy', 'Tattoo Removal', 'Personal Assistants',\n",
       "       'Land Surveying', 'Self Storage', 'Movers', 'Packing Services',\n",
       "       'Nicaraguan', 'Contractors', 'Fireplace Services',\n",
       "       'Outdoor Furniture Stores', 'Grill Services', 'Botanical Gardens',\n",
       "       'Unofficial Yelp Events', 'Scottish', 'Indonesian', 'Sugar Shacks',\n",
       "       'Soccer', 'Sports Clubs', 'Recreation Centers', 'Go Karts',\n",
       "       'Shanghainese', 'Antiques', 'Surf Schools', 'Swimwear',\n",
       "       'Food Tours', 'Police Departments', 'Tiki Bars', 'Outlet Stores',\n",
       "       'Makeup Artists', 'Massage Therapy', 'Skin Care',\n",
       "       'Mortgage Brokers', 'Gay Bars', 'Guamanian', 'Flooring',\n",
       "       'Carpeting', 'Marketing', 'Apartments', 'Pop-Up Restaurants',\n",
       "       'Nurseries & Gardening', 'Floral Designers', 'Electricians',\n",
       "       'Blow Dry/Out Services', 'Hair Removal', 'Waxing',\n",
       "       'Laser Hair Removal', 'Yelp Events', 'Rest Stops',\n",
       "       'Parenting Classes', 'Laboratory Testing', 'Diagnostic Services',\n",
       "       'Bartending Schools', 'Nutritionists', 'Sailing', 'Bar Crawl',\n",
       "       'Honey', 'Golf Equipment', 'Tires', 'Mobile Phones',\n",
       "       'Eyewear & Opticians', 'Photography Stores & Services',\n",
       "       'Optometrists', 'Zoos', 'Cultural Center', 'Chimney Cakes',\n",
       "       'Czech', 'Guest Houses', 'Champagne Bars', 'Trinidadian',\n",
       "       'IT Services & Computer Repair', 'Mobile Phone Repair',\n",
       "       'Opera & Ballet', 'Radio Stations', 'Burmese', 'Bridal', 'Jewelry',\n",
       "       'Hostels', 'Tai Chi', 'Water Stores', 'Video Game Stores',\n",
       "       'Mattresses', 'Bartenders', 'Gun/Rifle Ranges', 'Masonry/Concrete',\n",
       "       'Spray Tanning', 'Teeth Whitening', 'Eyelash Service', 'Udon',\n",
       "       'Health Coach', 'Landscape Architects', 'Tree Services',\n",
       "       'Landscaping', 'Irrigation', 'Gardeners', 'Lawn Services',\n",
       "       'Tax Services', 'Financial Services', 'Accountants',\n",
       "       'Pumpkin Patches', 'Pick Your Own Farms', 'Farms', 'Boat Charters',\n",
       "       'Computers', 'Cigar Bars', 'Pop-up Shops', 'Wine Tours',\n",
       "       'Ticket Sales', 'Tickets', 'CSA', 'Supernatural Readings',\n",
       "       'Music & DVDs', 'Barbers', 'Leather Goods', 'Shoe Stores',\n",
       "       'Funeral Services & Cemeteries', 'Roofing', 'Solar Installation',\n",
       "       'Bike Rentals', 'Tax Law', 'Wills', 'Trusts', '& Probates',\n",
       "       'Estate Planning Law', 'Lawyers', 'Bankruptcy Law',\n",
       "       'Knife Sharpening', 'Reunion', 'Commercial Real Estate',\n",
       "       'Real Estate Agents', 'Distilleries', 'Pub Food',\n",
       "       'Pressure Washers', 'Golf Equipment Shops', 'Race Tracks',\n",
       "       'Climbing', 'Comic Books', 'Laundromat', 'Laundry Services',\n",
       "       'Banks & Credit Unions', 'Polynesian', 'RV Parks',\n",
       "       'Vacation Rentals', 'Senegalese', 'Pool & Billiards',\n",
       "       'Chiropractors', 'Hair Loss Centers', 'Handyman', 'Dentists',\n",
       "       'General Dentistry', 'Eyebrow Services', 'Cabaret',\n",
       "       'Clothing Rental', 'Gutter Services', 'Kombucha',\n",
       "       'Car Share Services', 'Public Transportation', 'Bingo Halls',\n",
       "       'Fire Protection Services', 'Air Duct Cleaning', 'Sicilian',\n",
       "       'Check Cashing/Pay-day Loans', 'Currency Exchange',\n",
       "       'Community Centers', 'LAN Centers', 'Medical Centers',\n",
       "       'Pet Sitting', 'Day Camps', 'Art Museums', 'Reflexology', 'Uzbek',\n",
       "       'Mountain Biking', 'Graphic Design', 'Candle Stores',\n",
       "       'Strip Clubs', 'Observatories', 'Vape Shops',\n",
       "       'Team Building Activities', 'Ski Resorts', 'Interior Design',\n",
       "       'Family Practice', 'Truck Rental', 'Commercial Truck Repair',\n",
       "       'Signmaking', 'Vehicle Wraps', 'Auto Glass Services',\n",
       "       'Car Window Tinting', 'Wine Tasting Classes', 'Tasting Classes',\n",
       "       'Health Retreats', 'Rotisserie Chicken', 'Door Sales/Installation',\n",
       "       'Glass & Mirrors', 'Windows Installation', 'Software Development',\n",
       "       'Officiants', 'Kids Hair Salons', 'Oil Change Stations',\n",
       "       'Counseling & Mental Health', 'Club Crawl', 'Formal Wear',\n",
       "       'Bespoke Clothing', 'Plus Size Fashion', 'Airport Terminals',\n",
       "       'Hunting & Fishing Supplies', 'Outdoor Gear', 'Building Supplies',\n",
       "       'Hardware Stores', 'Batting Cages', 'Property Management',\n",
       "       'Printing Services', 'Screen Printing', 'Squash',\n",
       "       'Cards & Stationery', 'Courthouses', 'Beach Bars',\n",
       "       'Employment Agencies', 'Middle Schools & High Schools',\n",
       "       'Preschools', 'Elementary Schools', 'Aircraft Repairs', 'Airsoft',\n",
       "       'Bounce House Rentals', 'Pool & Hot Tub Service', 'Hot Tub & Pool',\n",
       "       'Rehabilitation Center', 'Kitchen Supplies', 'Tattoo', 'Piercing',\n",
       "       'Pawn Shops', 'Wildlife Control', 'Pest Control',\n",
       "       'Nail Technicians', 'Iberian', 'Special Education',\n",
       "       'Cheese Tasting Classes', 'Psychologists', 'Reiki', 'Life Coach',\n",
       "       'Meditation Centers', 'Psychics', 'Acupuncture',\n",
       "       'Occupational Therapy', 'Beer Garden', 'Local Fish Stores',\n",
       "       'Aquarium Services', 'Aquariums', 'Hats', 'Trophy Shops',\n",
       "       'Street Art', 'Cannabis Clinics', 'Medical Cannabis Referrals',\n",
       "       'Naturopathic/Holistic', 'Pain Management',\n",
       "       'Recording & Rehearsal Studios', 'Coffeeshops', 'Bus Tours',\n",
       "       'Balloon Services', 'Beer Tours', 'Minho', 'Walking Tours',\n",
       "       'Estate Liquidation', 'Office Equipment', 'University Housing',\n",
       "       'Tanning Beds', 'Catalan', 'Dance Schools',\n",
       "       'Drywall Installation & Repair', 'Painters', 'Home Window Tinting',\n",
       "       'Windshield Installation & Repair', 'Ski Schools', 'Car Rental',\n",
       "       'Session Photography', 'Event Photography', 'Acne Treatment',\n",
       "       'Metal Fabricators', 'Commercial Truck Dealers',\n",
       "       'Foundation Repair', 'Paint & Sip', 'Paint-Your-Own Pottery',\n",
       "       'Golf Cart Dealers', 'Dog Walkers', 'Animal Physical Therapy',\n",
       "       'Animal Assisted Therapy', 'Pet Training', 'Holistic Animal Care',\n",
       "       'Private Tutors', 'Transmission Repair', 'Auto Insurance',\n",
       "       'Insurance', 'Feng Shui', 'Carpet Installation', 'Skydiving',\n",
       "       'Used Car Dealers', 'Oaxacan', 'Lingerie', 'Video/Film Production',\n",
       "       'Videographers', 'Parking', 'Pita', 'Pet Boarding',\n",
       "       'Airport Shuttles', 'Party Bus Rentals', 'Dry Cleaning',\n",
       "       'Security Services', 'Refinishing Services', 'Grout Services',\n",
       "       'Service Stations', 'Engraving', 'Alternative Medicine',\n",
       "       'Traditional Clothing', 'Magicians', 'Clowns', 'Costumes',\n",
       "       'Flea Markets', 'Cosmetic Dentists', 'Marinas', 'Boat Dealers',\n",
       "       'Boat Repair', 'Taxis', 'Post Offices', 'Cannabis Collective',\n",
       "       'Hainan', 'Meaderies', 'Mauritius', 'Divorce & Family Law',\n",
       "       'Immigration Law', 'Personal Injury Law'], dtype=object)"
      ]
     },
     "execution_count": 81,
     "metadata": {},
     "output_type": "execute_result"
    }
   ],
   "source": [
    "business_df.assign(categories = business_df.categories\n",
    "                         .str.split(', ')).explode('categories').categories.unique()"
   ]
  },
  {
   "cell_type": "markdown",
   "metadata": {},
   "source": [
    "May quá có 'Vietnamese' trong đó 😁"
   ]
  },
  {
   "cell_type": "markdown",
   "metadata": {},
   "source": [
    "- cột **is_open** là kiểu numeric, nhưng thực chất là categorical được viết dưới dạng số: 0 - đã đóng cửa, 1 - còn hoạt động. Em chỉ giữ lại những nhà hàng còn mở cửa thôi."
   ]
  },
  {
   "cell_type": "code",
   "execution_count": 55,
   "metadata": {},
   "outputs": [],
   "source": [
    "business_df = business_df[business_df.is_open == 1]"
   ]
  },
  {
   "cell_type": "code",
   "execution_count": 56,
   "metadata": {},
   "outputs": [
    {
     "data": {
      "text/plain": [
       "(43965, 14)"
      ]
     },
     "execution_count": 56,
     "metadata": {},
     "output_type": "execute_result"
    }
   ],
   "source": [
    "business_df.shape"
   ]
  },
  {
   "cell_type": "markdown",
   "metadata": {},
   "source": [
    "- Miền giá trị của **latitude**, **longitude**  và **review_count**"
   ]
  },
  {
   "cell_type": "code",
   "execution_count": 79,
   "metadata": {},
   "outputs": [
    {
     "data": {
      "text/html": [
       "<div>\n",
       "<style scoped>\n",
       "    .dataframe tbody tr th:only-of-type {\n",
       "        vertical-align: middle;\n",
       "    }\n",
       "\n",
       "    .dataframe tbody tr th {\n",
       "        vertical-align: top;\n",
       "    }\n",
       "\n",
       "    .dataframe thead th {\n",
       "        text-align: right;\n",
       "    }\n",
       "</style>\n",
       "<table border=\"1\" class=\"dataframe\">\n",
       "  <thead>\n",
       "    <tr style=\"text-align: right;\">\n",
       "      <th></th>\n",
       "      <th>latitude</th>\n",
       "      <th>longitude</th>\n",
       "      <th>review_count</th>\n",
       "    </tr>\n",
       "  </thead>\n",
       "  <tbody>\n",
       "    <tr>\n",
       "      <th>min</th>\n",
       "      <td>21.497258</td>\n",
       "      <td>-158.025525</td>\n",
       "      <td>3.0</td>\n",
       "    </tr>\n",
       "    <tr>\n",
       "      <th>max</th>\n",
       "      <td>51.293852</td>\n",
       "      <td>-72.806550</td>\n",
       "      <td>10129.0</td>\n",
       "    </tr>\n",
       "  </tbody>\n",
       "</table>\n",
       "</div>"
      ],
      "text/plain": [
       "      latitude   longitude  review_count\n",
       "min  21.497258 -158.025525           3.0\n",
       "max  51.293852  -72.806550       10129.0"
      ]
     },
     "execution_count": 79,
     "metadata": {},
     "output_type": "execute_result"
    }
   ],
   "source": [
    "min_series = business_df[['latitude', 'longitude', 'review_count']].min()\n",
    "max_series = business_df[['latitude', 'longitude', 'review_count']].max()\n",
    "pd.DataFrame([min_series, max_series], index=['min', 'max'])"
   ]
  },
  {
   "cell_type": "markdown",
   "metadata": {},
   "source": [
    "📝 DataFrame reviews_df  "
   ]
  },
  {
   "cell_type": "code",
   "execution_count": 71,
   "metadata": {},
   "outputs": [
    {
     "name": "stdout",
     "output_type": "stream",
     "text": [
      "<class 'pandas.core.frame.DataFrame'>\n",
      "RangeIndex: 6685900 entries, 0 to 6685899\n",
      "Data columns (total 4 columns):\n",
      " #   Column       Dtype         \n",
      "---  ------       -----         \n",
      " 0   date         datetime64[ns]\n",
      " 1   review_id    object        \n",
      " 2   business_id  object        \n",
      " 3   stars        float64       \n",
      "dtypes: datetime64[ns](1), float64(1), object(2)\n",
      "memory usage: 204.0+ MB\n"
     ]
    }
   ],
   "source": [
    "reviews_df.info()"
   ]
  },
  {
   "cell_type": "markdown",
   "metadata": {},
   "source": [
    "**Một số thông tin về dtype:**"
   ]
  },
  {
   "cell_type": "code",
   "execution_count": 72,
   "metadata": {},
   "outputs": [
    {
     "name": "stdout",
     "output_type": "stream",
     "text": [
      "{<class 'str'>}\n",
      "{<class 'str'>}\n"
     ]
    }
   ],
   "source": [
    "print(open_object_dtype(reviews_df.review_id))\n",
    "print(open_object_dtype(reviews_df.business_id))\n",
    "print(open_object_dtype(reviews_df.date))"
   ]
  },
  {
   "cell_type": "markdown",
   "metadata": {},
   "source": [
    "- Các cột object(string) chứa nội dung có vấn đề: cụ thể là dạng b'\\<nội dung đúng>\\'. Lỗi này có thể là do người ghi file csv này, do đó em phải xử lý bỏ những kí tự thừa ra."
   ]
  },
  {
   "cell_type": "code",
   "execution_count": 17,
   "metadata": {},
   "outputs": [],
   "source": [
    "reviews_df.date = reviews_df.date.str.extract(r\"b\\'(.+)\\'\")"
   ]
  },
  {
   "cell_type": "code",
   "execution_count": 19,
   "metadata": {},
   "outputs": [],
   "source": [
    "reviews_df.review_id = reviews_df.review_id.str.extract(r\"b\\'(.+)\\'\")"
   ]
  },
  {
   "cell_type": "code",
   "execution_count": 20,
   "metadata": {},
   "outputs": [],
   "source": [
    "reviews_df.business_id = reviews_df.business_id.str.extract(r\"b\\'(.+)\\'\")"
   ]
  },
  {
   "cell_type": "code",
   "execution_count": 21,
   "metadata": {},
   "outputs": [
    {
     "data": {
      "text/html": [
       "<div>\n",
       "<style scoped>\n",
       "    .dataframe tbody tr th:only-of-type {\n",
       "        vertical-align: middle;\n",
       "    }\n",
       "\n",
       "    .dataframe tbody tr th {\n",
       "        vertical-align: top;\n",
       "    }\n",
       "\n",
       "    .dataframe thead th {\n",
       "        text-align: right;\n",
       "    }\n",
       "</style>\n",
       "<table border=\"1\" class=\"dataframe\">\n",
       "  <thead>\n",
       "    <tr style=\"text-align: right;\">\n",
       "      <th></th>\n",
       "      <th>date</th>\n",
       "      <th>review_id</th>\n",
       "      <th>business_id</th>\n",
       "      <th>stars</th>\n",
       "    </tr>\n",
       "  </thead>\n",
       "  <tbody>\n",
       "    <tr>\n",
       "      <th>0</th>\n",
       "      <td>2013-05-07 04:34:36</td>\n",
       "      <td>Q1sbwvVQXV2734tPgoKj4Q</td>\n",
       "      <td>ujmEBvifdJM6h6RLv4wQIg</td>\n",
       "      <td>1.0</td>\n",
       "    </tr>\n",
       "    <tr>\n",
       "      <th>1</th>\n",
       "      <td>2017-01-14 21:30:33</td>\n",
       "      <td>GJXCdrto3ASJOqKeVWPi6Q</td>\n",
       "      <td>NZnhc2sEQy3RmzKTZnqtwQ</td>\n",
       "      <td>5.0</td>\n",
       "    </tr>\n",
       "    <tr>\n",
       "      <th>2</th>\n",
       "      <td>2016-11-09 20:09:03</td>\n",
       "      <td>2TzJjDVDEuAW6MR5Vuc1ug</td>\n",
       "      <td>WTqjgwHlXbSFevF32_DJVw</td>\n",
       "      <td>5.0</td>\n",
       "    </tr>\n",
       "    <tr>\n",
       "      <th>3</th>\n",
       "      <td>2018-01-09 20:56:38</td>\n",
       "      <td>yi0R0Ugj_xUx_Nek0-_Qig</td>\n",
       "      <td>ikCg8xy5JIg_NGPx-MSIDA</td>\n",
       "      <td>5.0</td>\n",
       "    </tr>\n",
       "    <tr>\n",
       "      <th>4</th>\n",
       "      <td>2018-01-30 23:07:38</td>\n",
       "      <td>11a8sVPMUFtaC7_ABRkmtw</td>\n",
       "      <td>b1b1eb3uo-w561D0ZfCEiQ</td>\n",
       "      <td>1.0</td>\n",
       "    </tr>\n",
       "  </tbody>\n",
       "</table>\n",
       "</div>"
      ],
      "text/plain": [
       "                  date               review_id             business_id  stars\n",
       "0  2013-05-07 04:34:36  Q1sbwvVQXV2734tPgoKj4Q  ujmEBvifdJM6h6RLv4wQIg    1.0\n",
       "1  2017-01-14 21:30:33  GJXCdrto3ASJOqKeVWPi6Q  NZnhc2sEQy3RmzKTZnqtwQ    5.0\n",
       "2  2016-11-09 20:09:03  2TzJjDVDEuAW6MR5Vuc1ug  WTqjgwHlXbSFevF32_DJVw    5.0\n",
       "3  2018-01-09 20:56:38  yi0R0Ugj_xUx_Nek0-_Qig  ikCg8xy5JIg_NGPx-MSIDA    5.0\n",
       "4  2018-01-30 23:07:38  11a8sVPMUFtaC7_ABRkmtw  b1b1eb3uo-w561D0ZfCEiQ    1.0"
      ]
     },
     "execution_count": 21,
     "metadata": {},
     "output_type": "execute_result"
    }
   ],
   "source": [
    "reviews_df.head()"
   ]
  },
  {
   "cell_type": "markdown",
   "metadata": {},
   "source": [
    "- Cột **date** cần phải đổi trừ object sang datetime"
   ]
  },
  {
   "cell_type": "code",
   "execution_count": 24,
   "metadata": {},
   "outputs": [],
   "source": [
    "reviews_df['date'] = pd.to_datetime(reviews_df['date'], format='%Y-%m-%d %H:%M:%S')"
   ]
  },
  {
   "cell_type": "markdown",
   "metadata": {},
   "source": [
    "- Xem thử miền giá trị (min, max) của **date**"
   ]
  },
  {
   "cell_type": "code",
   "execution_count": 76,
   "metadata": {},
   "outputs": [
    {
     "data": {
      "text/plain": [
       "(Timestamp('2004-10-12 10:13:32'), Timestamp('2018-11-14 18:13:26'))"
      ]
     },
     "execution_count": 76,
     "metadata": {},
     "output_type": "execute_result"
    }
   ],
   "source": [
    "reviews_df.date.min(), reviews_df.date.max()"
   ]
  },
  {
   "cell_type": "markdown",
   "metadata": {},
   "source": [
    "----"
   ]
  },
  {
   "cell_type": "markdown",
   "metadata": {},
   "source": [
    "## Đưa ra các câu hỏi cần trả lời"
   ]
  },
  {
   "cell_type": "markdown",
   "metadata": {},
   "source": [
    "Sau khi đã khám phá data, tiền xử lý, thì em thấy có một số câu hỏi có thể trả lời được bằng dữ liệu:"
   ]
  },
  {
   "cell_type": "markdown",
   "metadata": {},
   "source": [
    "1. Lượng reviews của người dùng cho các nhà hàng theo từng tháng thay đổi như thế nào trong 5 năm gần đây?\n",
    "\n",
    "    Trả lời được câu hỏi này hình chung mình có thể biết được thói quen ăn uống ở nhà hàng theo từng tháng ở Mỹ sẽ như thế nào? Khi nào người Mỹ hay đi ăn ngoài, khi nào họ lại ít đi ăn ngoài (Vì đi việc review nhiều với việc đi ăn nhiều khá tương quan với nhau)\n",
    "    \n",
    "    Về phía nhà hàng (hoặc những người muốn mở nhà hàng) nhìn vào trend này có thể tính toán thời điểm, chiến lược kinh doanh sao cho hiểu quả đáp ứng nhu cầu đi ăn tiệm của khách hàng.\n",
    "    \n",
    "    Về phía khách hàng, nhờ vào việc biết những thời điểm nào \"đông\" hay \"vắng\" của nhà hàng mà khách hàng có thể lựa chọn thời điểm thích hợp trong năm để đi ăn. Còn với đối tượng muốn đi làm part-tine ở nhà hàng để tạm trang trải cuộc sống (như du học sinh chẳng hạn 😥) thì nên lựa thời điểm nào phù hợp để bắt đầu. Hay thậm chí người đang làm ở nhà hàng muốn... chọn thời điểm để nghỉ 😅"
   ]
  },
  {
   "cell_type": "markdown",
   "metadata": {},
   "source": [
    "2. Top các nhà hàng đồ ăn Việt Nam hợp thỏa mãn một số tiêu chí nhất định? Nhà hàng Việt Nam thỏa các tiêu chí này \"nhất\" theo các bang?\n",
    "\n",
    "    <u>Notes:</u> Đầu tiên em phải xác định tiêu chí cụ thể của mình đã: đó là số sao trung bình trên 3.5; lượng reviews phải trên 100; phải hợp túi tiền (tầm giá theo [mức Yelp](https://www.yelp.com/topic/san-diego-can-anyone-give-me-the-actual-dollar-range-for-the-dollar-sign-symbols-in-rrgards-to-pricing) phân loại là thuộc nhóm \\\\$ tới \\\\$\\\\$) và được mang về 😷 Và các nhà hàng thỏa tiêu chí này trong cùng một bang thì nhà hàng có sao nhiều nhất sẽ là \"nhất\".*\n",
    "\n",
    "    Thật ra câu này mang tính chất cá nhân là chính nên em nghĩ là không có ý nghĩa gì sâu xa lắm. Chỉ là phục vụ cho nhu cầu lựa chọn nhà hàng món Việt phù hợp với tiêu chí nào đó ở các bang."
   ]
  },
  {
   "cell_type": "markdown",
   "metadata": {},
   "source": [
    "3. Nhà hàng Châu Á chiếm số tỷ lệ như thế nào trong thị trường nhà hàng ở Mỹ, Canada theo từng bang (cụ thể là thống kê của 5 bang có nhiều nhà hàng nhất)?\n",
    "\n",
    "    Trả lời câu hỏi này theo em có thể cảm nhận được văn hóa ẩm thực Châu Á (trong đó có Việt Nam) đang nằm trong khoảng bao nhiêu phần trăm sự lựa chọn của người Mỹ-Canada, cụ thể là người Mỹ-Canada ở 5 bang với số lượng nhà hàng nhiều nhất."
   ]
  },
  {
   "cell_type": "markdown",
   "metadata": {},
   "source": [
    "------"
   ]
  },
  {
   "cell_type": "markdown",
   "metadata": {},
   "source": [
    "## Tìm câu trả lời cho từng câu hỏi"
   ]
  },
  {
   "cell_type": "markdown",
   "metadata": {},
   "source": [
    "### Lượng reviews của người dùng cho các nhà hàng theo từng tháng thay đổi như thế nào trong 5 năm gần đây?"
   ]
  },
  {
   "cell_type": "markdown",
   "metadata": {},
   "source": [
    "Để trả lời câu hỏi này thì em sẽ thực hiện theo từng bước:\n",
    "\n",
    "- Bước 1: Thêm 2 cột **year** và **month** vào `reviews_df`\n",
    "- Bước 2: Lấy ra những dòng có **year** mà năm gần đây nhất trừ đi năm này phải nhỏ hơn 5 (năm)\n",
    "- Bước 3: Tính dataframe `num_reviews_each_month_df` gồm có 5 cột (2014, 2015, 2016, 2017, 2018) ứng với số lượng review theo các\n",
    "tháng của 5 năm, và 12 dòng (tên là 1, 2, ..., 12) ứng với 12 tháng.\n",
    "- Bước 4: Từ kết quả ở trên, vẽ 5 đường dạng line (ứng với 5 năm) trên cùng một đồ thị, trong đó trục hoành là tháng và trục tung là số\n",
    "lượng review."
   ]
  },
  {
   "cell_type": "markdown",
   "metadata": {},
   "source": [
    "Code bước 1:"
   ]
  },
  {
   "cell_type": "code",
   "execution_count": 100,
   "metadata": {},
   "outputs": [],
   "source": [
    "df = reviews_df\n",
    "df['year'] = df['date'].dt.year\n",
    "df['month'] = df['date'].dt.month"
   ]
  },
  {
   "cell_type": "markdown",
   "metadata": {},
   "source": [
    "Code bước 2:"
   ]
  },
  {
   "cell_type": "code",
   "execution_count": 112,
   "metadata": {},
   "outputs": [],
   "source": [
    "max_year = df['year'].max()\n",
    "df = df[max_year - df['year'] < 5]"
   ]
  },
  {
   "cell_type": "markdown",
   "metadata": {},
   "source": [
    "Code bước 3:"
   ]
  },
  {
   "cell_type": "code",
   "execution_count": 113,
   "metadata": {},
   "outputs": [
    {
     "data": {
      "text/html": [
       "<div>\n",
       "<style scoped>\n",
       "    .dataframe tbody tr th:only-of-type {\n",
       "        vertical-align: middle;\n",
       "    }\n",
       "\n",
       "    .dataframe tbody tr th {\n",
       "        vertical-align: top;\n",
       "    }\n",
       "\n",
       "    .dataframe thead th {\n",
       "        text-align: right;\n",
       "    }\n",
       "</style>\n",
       "<table border=\"1\" class=\"dataframe\">\n",
       "  <thead>\n",
       "    <tr style=\"text-align: right;\">\n",
       "      <th>year</th>\n",
       "      <th>2014</th>\n",
       "      <th>2015</th>\n",
       "      <th>2016</th>\n",
       "      <th>2017</th>\n",
       "      <th>2018</th>\n",
       "    </tr>\n",
       "    <tr>\n",
       "      <th>month</th>\n",
       "      <th></th>\n",
       "      <th></th>\n",
       "      <th></th>\n",
       "      <th></th>\n",
       "      <th></th>\n",
       "    </tr>\n",
       "  </thead>\n",
       "  <tbody>\n",
       "    <tr>\n",
       "      <th>1</th>\n",
       "      <td>51147.0</td>\n",
       "      <td>71849.0</td>\n",
       "      <td>89995.0</td>\n",
       "      <td>94457.0</td>\n",
       "      <td>104640.0</td>\n",
       "    </tr>\n",
       "    <tr>\n",
       "      <th>2</th>\n",
       "      <td>47114.0</td>\n",
       "      <td>66395.0</td>\n",
       "      <td>88004.0</td>\n",
       "      <td>90085.0</td>\n",
       "      <td>100004.0</td>\n",
       "    </tr>\n",
       "    <tr>\n",
       "      <th>3</th>\n",
       "      <td>54939.0</td>\n",
       "      <td>78035.0</td>\n",
       "      <td>93927.0</td>\n",
       "      <td>102373.0</td>\n",
       "      <td>119213.0</td>\n",
       "    </tr>\n",
       "    <tr>\n",
       "      <th>4</th>\n",
       "      <td>54817.0</td>\n",
       "      <td>75784.0</td>\n",
       "      <td>92886.0</td>\n",
       "      <td>102205.0</td>\n",
       "      <td>115534.0</td>\n",
       "    </tr>\n",
       "    <tr>\n",
       "      <th>5</th>\n",
       "      <td>58075.0</td>\n",
       "      <td>80100.0</td>\n",
       "      <td>94926.0</td>\n",
       "      <td>104915.0</td>\n",
       "      <td>115846.0</td>\n",
       "    </tr>\n",
       "    <tr>\n",
       "      <th>6</th>\n",
       "      <td>58963.0</td>\n",
       "      <td>82515.0</td>\n",
       "      <td>96589.0</td>\n",
       "      <td>105827.0</td>\n",
       "      <td>116064.0</td>\n",
       "    </tr>\n",
       "    <tr>\n",
       "      <th>7</th>\n",
       "      <td>69440.0</td>\n",
       "      <td>90838.0</td>\n",
       "      <td>104258.0</td>\n",
       "      <td>116050.0</td>\n",
       "      <td>126571.0</td>\n",
       "    </tr>\n",
       "    <tr>\n",
       "      <th>8</th>\n",
       "      <td>69443.0</td>\n",
       "      <td>92089.0</td>\n",
       "      <td>99052.0</td>\n",
       "      <td>111431.0</td>\n",
       "      <td>120381.0</td>\n",
       "    </tr>\n",
       "    <tr>\n",
       "      <th>9</th>\n",
       "      <td>60443.0</td>\n",
       "      <td>80668.0</td>\n",
       "      <td>89115.0</td>\n",
       "      <td>102393.0</td>\n",
       "      <td>103980.0</td>\n",
       "    </tr>\n",
       "    <tr>\n",
       "      <th>10</th>\n",
       "      <td>61788.0</td>\n",
       "      <td>82188.0</td>\n",
       "      <td>87117.0</td>\n",
       "      <td>100556.0</td>\n",
       "      <td>103643.0</td>\n",
       "    </tr>\n",
       "    <tr>\n",
       "      <th>11</th>\n",
       "      <td>58920.0</td>\n",
       "      <td>76795.0</td>\n",
       "      <td>79423.0</td>\n",
       "      <td>94266.0</td>\n",
       "      <td>51786.0</td>\n",
       "    </tr>\n",
       "    <tr>\n",
       "      <th>12</th>\n",
       "      <td>59773.0</td>\n",
       "      <td>75144.0</td>\n",
       "      <td>83494.0</td>\n",
       "      <td>93115.0</td>\n",
       "      <td>NaN</td>\n",
       "    </tr>\n",
       "  </tbody>\n",
       "</table>\n",
       "</div>"
      ],
      "text/plain": [
       "year      2014     2015      2016      2017      2018\n",
       "month                                                \n",
       "1      51147.0  71849.0   89995.0   94457.0  104640.0\n",
       "2      47114.0  66395.0   88004.0   90085.0  100004.0\n",
       "3      54939.0  78035.0   93927.0  102373.0  119213.0\n",
       "4      54817.0  75784.0   92886.0  102205.0  115534.0\n",
       "5      58075.0  80100.0   94926.0  104915.0  115846.0\n",
       "6      58963.0  82515.0   96589.0  105827.0  116064.0\n",
       "7      69440.0  90838.0  104258.0  116050.0  126571.0\n",
       "8      69443.0  92089.0   99052.0  111431.0  120381.0\n",
       "9      60443.0  80668.0   89115.0  102393.0  103980.0\n",
       "10     61788.0  82188.0   87117.0  100556.0  103643.0\n",
       "11     58920.0  76795.0   79423.0   94266.0   51786.0\n",
       "12     59773.0  75144.0   83494.0   93115.0       NaN"
      ]
     },
     "execution_count": 113,
     "metadata": {},
     "output_type": "execute_result"
    }
   ],
   "source": [
    "num_reviews_each_month_df = df.groupby(['year','month'])['review_id'].count().unstack(level='year')\n",
    "num_reviews_each_month_df"
   ]
  },
  {
   "cell_type": "markdown",
   "metadata": {},
   "source": [
    "Code bước 4:"
   ]
  },
  {
   "cell_type": "code",
   "execution_count": 114,
   "metadata": {},
   "outputs": [
    {
     "data": {
      "image/png": "[encoded data removed]",
      "text/plain": [
       "<Figure size 432x288 with 1 Axes>"
      ]
     },
     "metadata": {
      "needs_background": "light"
     },
     "output_type": "display_data"
    }
   ],
   "source": [
    "num_reviews_each_month_df.plot.line(marker='o')\n",
    "plt.ylabel('NumReviews');\n",
    "plt.xticks(range(1,13));"
   ]
  },
  {
   "cell_type": "markdown",
   "metadata": {},
   "source": [
    "Rõ ràng là việc ăn (và review) ở ngoài của người Mỹ là khác biệt theo từng tháng và đi theo một pattern nhất định từng năm: ít nhất vào giai đoạn cuối năm trước đến đầu năm sau (thường chạm đáy vào tháng 2 hay tháng 11) và tăng lên nhiều nhất vào các tháng mùa hè (đặc biệt là tháng 7)."
   ]
  },
  {
   "cell_type": "markdown",
   "metadata": {},
   "source": [
    "**Giả thuyết:**\n",
    "\n",
    "Theo suy đoán cá nhân và một [bài báo](https://bizfluent.com/info-8388818-busiest-periods-restaurant-business.html) kiếm được, nhìn chung các tháng hè thời tiết mát mẻ và cũng có một số ngày lễ lớn (Quốc Khánh Mỹ 4 tháng 7 chẳng hạn), người Mỹ thường thích đi ra ngoài ăn uống và các nhà hàng trong thời gian này cũng tăng cường khuyến mãi càng kích thích nhu cầu \"đi ăn nhà hàng\" của người Mỹ. \n",
    "\n",
    "Riêng những tháng cuối năm vào những ngày lễ như Tạ Ơn, Giáng Sinh thì người dân thường ở nhà đoàn tụ với gia đình hoặc dành tiền để mua sắm (Black Friday ngay sau đó) thay vì đi ăn ở ngoài. Điều thú vị là mặc dù tháng 1 năm sau có \"nhích\" lên nhưng tháng 2 lại \"tụt\" xuống, bài báo kia cũng không đề cập đến việc này, tháng này có Valentine em không biết có liên quan gì không..."
   ]
  },
  {
   "cell_type": "markdown",
   "metadata": {},
   "source": [
    "### Top các nhà hàng đồ ăn Việt Nam phù hợp tiêu chí với tình hình hiện tại? Nhà hàng Việt Nam chất lượng nhất theo các bang?"
   ]
  },
  {
   "cell_type": "markdown",
   "metadata": {},
   "source": [
    "Để trả lời câu hỏi này thì em sẽ thực hiện theo từng bước:\n",
    "\n",
    "- Bước 1: Tạo dataframe mới `viet_res_df` gồm các nhà hàng có chứa keyword: Vietnamese trong **categories**\n",
    "- Bước 2: Tách cột **attributes** của `viet_res_df` thành một dataframe mới chứa các cột là các *keys* có thể có của **attributes** với giá trị là *value* của nó (NaN nếu nhà hàng nào không có key này). Lưu ý là 2 dataframe mới tạo phải có cùng index\n",
    "- Bước 3: Tạo dataframe `viet_res_df_sub` chứa các nhà hàng thỏa tiêu chí"
   ]
  },
  {
   "cell_type": "markdown",
   "metadata": {},
   "source": [
    "Code bước 1:"
   ]
  },
  {
   "cell_type": "code",
   "execution_count": 147,
   "metadata": {},
   "outputs": [],
   "source": [
    "viet_res_df = business_df[business_df.categories.str.contains('Vietnamese')].reset_index(drop=True)"
   ]
  },
  {
   "cell_type": "markdown",
   "metadata": {},
   "source": [
    "Code bước 2:"
   ]
  },
  {
   "cell_type": "code",
   "execution_count": 124,
   "metadata": {},
   "outputs": [],
   "source": [
    "viet_res_df['attributes'] = viet_res_df['attributes'].apply(lambda x: {} if x is None else x)  # attributes: NaN -> {} "
   ]
  },
  {
   "cell_type": "code",
   "execution_count": 124,
   "metadata": {
    "collapsed": true,
    "jupyter": {
     "outputs_hidden": true
    }
   },
   "outputs": [
    {
     "name": "stderr",
     "output_type": "stream",
     "text": [
      "/home/huan/anaconda3/envs/py377/lib/python3.7/site-packages/ipykernel_launcher.py:1: SettingWithCopyWarning: \n",
      "A value is trying to be set on a copy of a slice from a DataFrame.\n",
      "Try using .loc[row_indexer,col_indexer] = value instead\n",
      "\n",
      "See the caveats in the documentation: https://pandas.pydata.org/pandas-docs/stable/user_guide/indexing.html#returning-a-view-versus-a-copy\n",
      "  \"\"\"Entry point for launching an IPython kernel.\n"
     ]
    }
   ],
   "source": [
    "viet_res_att_df = pd.json_normalize(viet_res_df.attributes)"
   ]
  },
  {
   "cell_type": "code",
   "execution_count": 139,
   "metadata": {
    "collapsed": true,
    "jupyter": {
     "outputs_hidden": true
    }
   },
   "outputs": [
    {
     "data": {
      "text/html": [
       "<div>\n",
       "<style scoped>\n",
       "    .dataframe tbody tr th:only-of-type {\n",
       "        vertical-align: middle;\n",
       "    }\n",
       "\n",
       "    .dataframe tbody tr th {\n",
       "        vertical-align: top;\n",
       "    }\n",
       "\n",
       "    .dataframe thead th {\n",
       "        text-align: right;\n",
       "    }\n",
       "</style>\n",
       "<table border=\"1\" class=\"dataframe\">\n",
       "  <thead>\n",
       "    <tr style=\"text-align: right;\">\n",
       "      <th></th>\n",
       "      <th>BusinessParking</th>\n",
       "      <th>Ambience</th>\n",
       "      <th>BYOB</th>\n",
       "      <th>GoodForMeal</th>\n",
       "      <th>Corkage</th>\n",
       "      <th>BusinessAcceptsCreditCards</th>\n",
       "      <th>BikeParking</th>\n",
       "      <th>Alcohol</th>\n",
       "      <th>HasTV</th>\n",
       "      <th>OutdoorSeating</th>\n",
       "      <th>...</th>\n",
       "      <th>HappyHour</th>\n",
       "      <th>ByAppointmentOnly</th>\n",
       "      <th>BusinessAcceptsBitcoin</th>\n",
       "      <th>Music</th>\n",
       "      <th>Smoking</th>\n",
       "      <th>GoodForDancing</th>\n",
       "      <th>BestNights</th>\n",
       "      <th>CoatCheck</th>\n",
       "      <th>BYOBCorkage</th>\n",
       "      <th>DriveThru</th>\n",
       "    </tr>\n",
       "  </thead>\n",
       "  <tbody>\n",
       "    <tr>\n",
       "      <th>0</th>\n",
       "      <td>None</td>\n",
       "      <td>{'touristy': False, 'hipster': False, 'romanti...</td>\n",
       "      <td>False</td>\n",
       "      <td>{'dessert': False, 'latenight': False, 'lunch'...</td>\n",
       "      <td>False</td>\n",
       "      <td>True</td>\n",
       "      <td>True</td>\n",
       "      <td>u'none'</td>\n",
       "      <td>True</td>\n",
       "      <td>False</td>\n",
       "      <td>...</td>\n",
       "      <td>NaN</td>\n",
       "      <td>NaN</td>\n",
       "      <td>NaN</td>\n",
       "      <td>NaN</td>\n",
       "      <td>NaN</td>\n",
       "      <td>NaN</td>\n",
       "      <td>NaN</td>\n",
       "      <td>NaN</td>\n",
       "      <td>NaN</td>\n",
       "      <td>NaN</td>\n",
       "    </tr>\n",
       "    <tr>\n",
       "      <th>1</th>\n",
       "      <td>{'garage': False, 'street': True, 'validated':...</td>\n",
       "      <td>{'romantic': False, 'intimate': False, 'classy...</td>\n",
       "      <td>NaN</td>\n",
       "      <td>{'dessert': False, 'latenight': False, 'lunch'...</td>\n",
       "      <td>NaN</td>\n",
       "      <td>NaN</td>\n",
       "      <td>True</td>\n",
       "      <td>u'beer_and_wine'</td>\n",
       "      <td>True</td>\n",
       "      <td>False</td>\n",
       "      <td>...</td>\n",
       "      <td>NaN</td>\n",
       "      <td>NaN</td>\n",
       "      <td>NaN</td>\n",
       "      <td>NaN</td>\n",
       "      <td>NaN</td>\n",
       "      <td>NaN</td>\n",
       "      <td>NaN</td>\n",
       "      <td>NaN</td>\n",
       "      <td>NaN</td>\n",
       "      <td>NaN</td>\n",
       "    </tr>\n",
       "    <tr>\n",
       "      <th>2</th>\n",
       "      <td>{'garage': False, 'street': True, 'validated':...</td>\n",
       "      <td>{'romantic': False, 'intimate': False, 'classy...</td>\n",
       "      <td>NaN</td>\n",
       "      <td>{'dessert': False, 'latenight': True, 'lunch':...</td>\n",
       "      <td>NaN</td>\n",
       "      <td>NaN</td>\n",
       "      <td>True</td>\n",
       "      <td>u'beer_and_wine'</td>\n",
       "      <td>True</td>\n",
       "      <td>False</td>\n",
       "      <td>...</td>\n",
       "      <td>False</td>\n",
       "      <td>NaN</td>\n",
       "      <td>NaN</td>\n",
       "      <td>NaN</td>\n",
       "      <td>NaN</td>\n",
       "      <td>NaN</td>\n",
       "      <td>NaN</td>\n",
       "      <td>NaN</td>\n",
       "      <td>NaN</td>\n",
       "      <td>NaN</td>\n",
       "    </tr>\n",
       "    <tr>\n",
       "      <th>3</th>\n",
       "      <td>{'garage': False, 'street': False, 'validated'...</td>\n",
       "      <td>{'touristy': False, 'hipster': False, 'romanti...</td>\n",
       "      <td>NaN</td>\n",
       "      <td>{'dessert': False, 'latenight': False, 'lunch'...</td>\n",
       "      <td>NaN</td>\n",
       "      <td>True</td>\n",
       "      <td>True</td>\n",
       "      <td>u'beer_and_wine'</td>\n",
       "      <td>True</td>\n",
       "      <td>False</td>\n",
       "      <td>...</td>\n",
       "      <td>False</td>\n",
       "      <td>False</td>\n",
       "      <td>False</td>\n",
       "      <td>NaN</td>\n",
       "      <td>NaN</td>\n",
       "      <td>NaN</td>\n",
       "      <td>NaN</td>\n",
       "      <td>NaN</td>\n",
       "      <td>NaN</td>\n",
       "      <td>NaN</td>\n",
       "    </tr>\n",
       "    <tr>\n",
       "      <th>4</th>\n",
       "      <td>{'garage': False, 'street': True, 'validated':...</td>\n",
       "      <td>None</td>\n",
       "      <td>NaN</td>\n",
       "      <td>NaN</td>\n",
       "      <td>NaN</td>\n",
       "      <td>NaN</td>\n",
       "      <td>True</td>\n",
       "      <td>u'full_bar'</td>\n",
       "      <td>True</td>\n",
       "      <td>True</td>\n",
       "      <td>...</td>\n",
       "      <td>True</td>\n",
       "      <td>NaN</td>\n",
       "      <td>NaN</td>\n",
       "      <td>{'dj': False, 'background_music': True, 'jukeb...</td>\n",
       "      <td>u'no'</td>\n",
       "      <td>True</td>\n",
       "      <td>{'monday': False, 'tuesday': True, 'friday': F...</td>\n",
       "      <td>True</td>\n",
       "      <td>NaN</td>\n",
       "      <td>NaN</td>\n",
       "    </tr>\n",
       "  </tbody>\n",
       "</table>\n",
       "<p>5 rows × 33 columns</p>\n",
       "</div>"
      ],
      "text/plain": [
       "                                     BusinessParking  \\\n",
       "0                                               None   \n",
       "1  {'garage': False, 'street': True, 'validated':...   \n",
       "2  {'garage': False, 'street': True, 'validated':...   \n",
       "3  {'garage': False, 'street': False, 'validated'...   \n",
       "4  {'garage': False, 'street': True, 'validated':...   \n",
       "\n",
       "                                            Ambience   BYOB  \\\n",
       "0  {'touristy': False, 'hipster': False, 'romanti...  False   \n",
       "1  {'romantic': False, 'intimate': False, 'classy...    NaN   \n",
       "2  {'romantic': False, 'intimate': False, 'classy...    NaN   \n",
       "3  {'touristy': False, 'hipster': False, 'romanti...    NaN   \n",
       "4                                               None    NaN   \n",
       "\n",
       "                                         GoodForMeal Corkage  \\\n",
       "0  {'dessert': False, 'latenight': False, 'lunch'...   False   \n",
       "1  {'dessert': False, 'latenight': False, 'lunch'...     NaN   \n",
       "2  {'dessert': False, 'latenight': True, 'lunch':...     NaN   \n",
       "3  {'dessert': False, 'latenight': False, 'lunch'...     NaN   \n",
       "4                                                NaN     NaN   \n",
       "\n",
       "  BusinessAcceptsCreditCards BikeParking           Alcohol HasTV  \\\n",
       "0                       True        True           u'none'  True   \n",
       "1                        NaN        True  u'beer_and_wine'  True   \n",
       "2                        NaN        True  u'beer_and_wine'  True   \n",
       "3                       True        True  u'beer_and_wine'  True   \n",
       "4                        NaN        True       u'full_bar'  True   \n",
       "\n",
       "  OutdoorSeating  ... HappyHour ByAppointmentOnly BusinessAcceptsBitcoin  \\\n",
       "0          False  ...       NaN               NaN                    NaN   \n",
       "1          False  ...       NaN               NaN                    NaN   \n",
       "2          False  ...     False               NaN                    NaN   \n",
       "3          False  ...     False             False                  False   \n",
       "4           True  ...      True               NaN                    NaN   \n",
       "\n",
       "                                               Music Smoking GoodForDancing  \\\n",
       "0                                                NaN     NaN            NaN   \n",
       "1                                                NaN     NaN            NaN   \n",
       "2                                                NaN     NaN            NaN   \n",
       "3                                                NaN     NaN            NaN   \n",
       "4  {'dj': False, 'background_music': True, 'jukeb...   u'no'           True   \n",
       "\n",
       "                                          BestNights CoatCheck BYOBCorkage  \\\n",
       "0                                                NaN       NaN         NaN   \n",
       "1                                                NaN       NaN         NaN   \n",
       "2                                                NaN       NaN         NaN   \n",
       "3                                                NaN       NaN         NaN   \n",
       "4  {'monday': False, 'tuesday': True, 'friday': F...      True         NaN   \n",
       "\n",
       "  DriveThru  \n",
       "0       NaN  \n",
       "1       NaN  \n",
       "2       NaN  \n",
       "3       NaN  \n",
       "4       NaN  \n",
       "\n",
       "[5 rows x 33 columns]"
      ]
     },
     "execution_count": 139,
     "metadata": {},
     "output_type": "execute_result"
    }
   ],
   "source": [
    "viet_res_att_df.head()"
   ]
  },
  {
   "cell_type": "code",
   "execution_count": 127,
   "metadata": {
    "collapsed": true,
    "jupyter": {
     "outputs_hidden": true
    }
   },
   "outputs": [
    {
     "data": {
      "text/plain": [
       "Index(['BusinessParking', 'Ambience', 'BYOB', 'GoodForMeal', 'Corkage',\n",
       "       'BusinessAcceptsCreditCards', 'BikeParking', 'Alcohol', 'HasTV',\n",
       "       'OutdoorSeating', 'WiFi', 'RestaurantsTableService',\n",
       "       'WheelchairAccessible', 'RestaurantsTakeOut', 'Caters',\n",
       "       'RestaurantsDelivery', 'GoodForKids', 'RestaurantsPriceRange2',\n",
       "       'RestaurantsAttire', 'RestaurantsGoodForGroups',\n",
       "       'RestaurantsReservations', 'NoiseLevel', 'DogsAllowed', 'HappyHour',\n",
       "       'ByAppointmentOnly', 'BusinessAcceptsBitcoin', 'Music', 'Smoking',\n",
       "       'GoodForDancing', 'BestNights', 'CoatCheck', 'BYOBCorkage',\n",
       "       'DriveThru'],\n",
       "      dtype='object')"
      ]
     },
     "execution_count": 127,
     "metadata": {},
     "output_type": "execute_result"
    }
   ],
   "source": [
    "viet_res_att_df.columns"
   ]
  },
  {
   "cell_type": "markdown",
   "metadata": {},
   "source": [
    "Code bước 3:"
   ]
  },
  {
   "cell_type": "code",
   "execution_count": 169,
   "metadata": {
    "collapsed": true,
    "jupyter": {
     "outputs_hidden": true
    }
   },
   "outputs": [
    {
     "data": {
      "text/html": [
       "<div>\n",
       "<style scoped>\n",
       "    .dataframe tbody tr th:only-of-type {\n",
       "        vertical-align: middle;\n",
       "    }\n",
       "\n",
       "    .dataframe tbody tr th {\n",
       "        vertical-align: top;\n",
       "    }\n",
       "\n",
       "    .dataframe thead th {\n",
       "        text-align: right;\n",
       "    }\n",
       "</style>\n",
       "<table border=\"1\" class=\"dataframe\">\n",
       "  <thead>\n",
       "    <tr style=\"text-align: right;\">\n",
       "      <th></th>\n",
       "      <th>business_id</th>\n",
       "      <th>name</th>\n",
       "      <th>address</th>\n",
       "      <th>city</th>\n",
       "      <th>state</th>\n",
       "      <th>postal_code</th>\n",
       "      <th>latitude</th>\n",
       "      <th>longitude</th>\n",
       "      <th>stars</th>\n",
       "      <th>review_count</th>\n",
       "      <th>is_open</th>\n",
       "      <th>attributes</th>\n",
       "      <th>categories</th>\n",
       "      <th>hours</th>\n",
       "    </tr>\n",
       "  </thead>\n",
       "  <tbody>\n",
       "    <tr>\n",
       "      <th>1</th>\n",
       "      <td>0QjROMVW9ACKjhSEfHqNCQ</td>\n",
       "      <td>Mi Mi Restaurant</td>\n",
       "      <td>688 Gerrard Street E</td>\n",
       "      <td>Toronto</td>\n",
       "      <td>ON</td>\n",
       "      <td>M4M 1Y3</td>\n",
       "      <td>43.666376</td>\n",
       "      <td>-79.348773</td>\n",
       "      <td>4.0</td>\n",
       "      <td>116</td>\n",
       "      <td>1</td>\n",
       "      <td>{'RestaurantsTakeOut': 'True', 'Alcohol': 'u'b...</td>\n",
       "      <td>Vietnamese, Restaurants</td>\n",
       "      <td>{'Monday': '11:0-22:0', 'Tuesday': '11:0-22:0'...</td>\n",
       "    </tr>\n",
       "    <tr>\n",
       "      <th>3</th>\n",
       "      <td>q3YnYPjLuBGRDi_59yTC5g</td>\n",
       "      <td>Sidestreet Pho and Grill</td>\n",
       "      <td>8560 W Desert Inn Rd, Ste D1</td>\n",
       "      <td>Las Vegas</td>\n",
       "      <td>NV</td>\n",
       "      <td>89117</td>\n",
       "      <td>36.130041</td>\n",
       "      <td>-115.277785</td>\n",
       "      <td>4.0</td>\n",
       "      <td>707</td>\n",
       "      <td>1</td>\n",
       "      <td>{'RestaurantsGoodForGroups': 'True', 'Restaura...</td>\n",
       "      <td>Vietnamese, Restaurants, American (Traditional)</td>\n",
       "      <td>{'Monday': '0:0-0:0', 'Tuesday': '11:0-22:0', ...</td>\n",
       "    </tr>\n",
       "    <tr>\n",
       "      <th>6</th>\n",
       "      <td>iYT30UPGmLdmTRaAKz0Vvw</td>\n",
       "      <td>Be's Noodles &amp; Banh Mi</td>\n",
       "      <td>11318 N Community House Rd</td>\n",
       "      <td>Charlotte</td>\n",
       "      <td>NC</td>\n",
       "      <td>28277</td>\n",
       "      <td>35.056411</td>\n",
       "      <td>-80.835407</td>\n",
       "      <td>4.5</td>\n",
       "      <td>254</td>\n",
       "      <td>1</td>\n",
       "      <td>{'Caters': 'True', 'RestaurantsAttire': ''casu...</td>\n",
       "      <td>Vietnamese, Sandwiches, Noodles, Restaurants</td>\n",
       "      <td>{'Monday': '11:0-21:0', 'Tuesday': '11:0-21:0'...</td>\n",
       "    </tr>\n",
       "    <tr>\n",
       "      <th>11</th>\n",
       "      <td>uoZwJJaplLsktVrRw0JiQw</td>\n",
       "      <td>Pho Number One</td>\n",
       "      <td>1955 W Baseline Rd, Ste 114</td>\n",
       "      <td>Mesa</td>\n",
       "      <td>AZ</td>\n",
       "      <td>85202</td>\n",
       "      <td>33.377582</td>\n",
       "      <td>-111.877018</td>\n",
       "      <td>4.0</td>\n",
       "      <td>201</td>\n",
       "      <td>1</td>\n",
       "      <td>{'WiFi': 'u'no'', 'BusinessParking': '{'garage...</td>\n",
       "      <td>Thai, Vietnamese, Restaurants</td>\n",
       "      <td>{'Monday': '10:0-21:0', 'Wednesday': '10:0-21:...</td>\n",
       "    </tr>\n",
       "    <tr>\n",
       "      <th>13</th>\n",
       "      <td>-8F04F54iDT6VgWPCgybug</td>\n",
       "      <td>Ineffable Ca Phe</td>\n",
       "      <td>3920 Penn Ave</td>\n",
       "      <td>Pittsburgh</td>\n",
       "      <td>PA</td>\n",
       "      <td>15224</td>\n",
       "      <td>40.464681</td>\n",
       "      <td>-79.959312</td>\n",
       "      <td>4.5</td>\n",
       "      <td>131</td>\n",
       "      <td>1</td>\n",
       "      <td>{'RestaurantsTableService': 'False', 'BikePark...</td>\n",
       "      <td>Coffee &amp; Tea, Restaurants, Food, Vietnamese, B...</td>\n",
       "      <td>{'Monday': '8:0-18:0', 'Tuesday': '8:0-18:0', ...</td>\n",
       "    </tr>\n",
       "    <tr>\n",
       "      <th>...</th>\n",
       "      <td>...</td>\n",
       "      <td>...</td>\n",
       "      <td>...</td>\n",
       "      <td>...</td>\n",
       "      <td>...</td>\n",
       "      <td>...</td>\n",
       "      <td>...</td>\n",
       "      <td>...</td>\n",
       "      <td>...</td>\n",
       "      <td>...</td>\n",
       "      <td>...</td>\n",
       "      <td>...</td>\n",
       "      <td>...</td>\n",
       "      <td>...</td>\n",
       "    </tr>\n",
       "    <tr>\n",
       "      <th>944</th>\n",
       "      <td>-Tpo5r3kF_z4iilx8JXhvA</td>\n",
       "      <td>Basil Box</td>\n",
       "      <td>351 Yonge Street</td>\n",
       "      <td>Toronto</td>\n",
       "      <td>ON</td>\n",
       "      <td>M5B 1S1</td>\n",
       "      <td>43.657899</td>\n",
       "      <td>-79.381268</td>\n",
       "      <td>4.0</td>\n",
       "      <td>174</td>\n",
       "      <td>1</td>\n",
       "      <td>{'RestaurantsTakeOut': 'True', 'Caters': 'True...</td>\n",
       "      <td>Thai, Vietnamese, Restaurants, Gluten-Free</td>\n",
       "      <td>{'Monday': '11:0-22:0', 'Tuesday': '11:0-22:0'...</td>\n",
       "    </tr>\n",
       "    <tr>\n",
       "      <th>946</th>\n",
       "      <td>J3_FTjy9LAtTtoW_cLwPxg</td>\n",
       "      <td>CO</td>\n",
       "      <td>4201-D Park Rd</td>\n",
       "      <td>Charlotte</td>\n",
       "      <td>NC</td>\n",
       "      <td>28209</td>\n",
       "      <td>35.174959</td>\n",
       "      <td>-80.848742</td>\n",
       "      <td>4.0</td>\n",
       "      <td>439</td>\n",
       "      <td>1</td>\n",
       "      <td>{'GoodForKids': 'True', 'RestaurantsAttire': '...</td>\n",
       "      <td>Korean, Vietnamese, Asian Fusion, Sushi Bars, ...</td>\n",
       "      <td>{'Monday': '0:0-0:0', 'Tuesday': '11:0-22:0', ...</td>\n",
       "    </tr>\n",
       "    <tr>\n",
       "      <th>948</th>\n",
       "      <td>puAbLedY3pNlPA_TS5OjYg</td>\n",
       "      <td>Lobster &amp; Pho</td>\n",
       "      <td>6901 Rockside Rd</td>\n",
       "      <td>Independence</td>\n",
       "      <td>OH</td>\n",
       "      <td>44131</td>\n",
       "      <td>41.395337</td>\n",
       "      <td>-81.641761</td>\n",
       "      <td>4.0</td>\n",
       "      <td>118</td>\n",
       "      <td>1</td>\n",
       "      <td>{'NoiseLevel': ''average'', 'HasTV': 'True', '...</td>\n",
       "      <td>Vietnamese, Seafood, Cajun/Creole, Restaurants</td>\n",
       "      <td>{'Monday': '0:0-0:0', 'Tuesday': '15:0-21:0', ...</td>\n",
       "    </tr>\n",
       "    <tr>\n",
       "      <th>952</th>\n",
       "      <td>4mYS-4UOjTKgsf0tX1_IkQ</td>\n",
       "      <td>Banh Mi &amp; Ti</td>\n",
       "      <td>4502 Butler St</td>\n",
       "      <td>Pittsburgh</td>\n",
       "      <td>PA</td>\n",
       "      <td>15201</td>\n",
       "      <td>40.472145</td>\n",
       "      <td>-79.958936</td>\n",
       "      <td>4.5</td>\n",
       "      <td>252</td>\n",
       "      <td>1</td>\n",
       "      <td>{'HasTV': 'False', 'RestaurantsReservations': ...</td>\n",
       "      <td>Restaurants, Vietnamese, Cafes, Bubble Tea, Food</td>\n",
       "      <td>{'Monday': '0:0-0:0', 'Tuesday': '11:0-18:0', ...</td>\n",
       "    </tr>\n",
       "    <tr>\n",
       "      <th>958</th>\n",
       "      <td>lfyg98UFNYMVk18p6LIlkw</td>\n",
       "      <td>Viet Kitchen</td>\n",
       "      <td>20235 N Cave Creek Rd</td>\n",
       "      <td>Phoenix</td>\n",
       "      <td>AZ</td>\n",
       "      <td>85024</td>\n",
       "      <td>33.671426</td>\n",
       "      <td>-112.030170</td>\n",
       "      <td>4.0</td>\n",
       "      <td>376</td>\n",
       "      <td>1</td>\n",
       "      <td>{'OutdoorSeating': 'False', 'GoodForKids': 'Tr...</td>\n",
       "      <td>Vietnamese, Restaurants</td>\n",
       "      <td>{'Monday': '10:0-21:0', 'Tuesday': '10:0-21:0'...</td>\n",
       "    </tr>\n",
       "  </tbody>\n",
       "</table>\n",
       "<p>155 rows × 14 columns</p>\n",
       "</div>"
      ],
      "text/plain": [
       "                business_id                      name  \\\n",
       "1    0QjROMVW9ACKjhSEfHqNCQ          Mi Mi Restaurant   \n",
       "3    q3YnYPjLuBGRDi_59yTC5g  Sidestreet Pho and Grill   \n",
       "6    iYT30UPGmLdmTRaAKz0Vvw    Be's Noodles & Banh Mi   \n",
       "11   uoZwJJaplLsktVrRw0JiQw            Pho Number One   \n",
       "13   -8F04F54iDT6VgWPCgybug          Ineffable Ca Phe   \n",
       "..                      ...                       ...   \n",
       "944  -Tpo5r3kF_z4iilx8JXhvA                 Basil Box   \n",
       "946  J3_FTjy9LAtTtoW_cLwPxg                        CO   \n",
       "948  puAbLedY3pNlPA_TS5OjYg             Lobster & Pho   \n",
       "952  4mYS-4UOjTKgsf0tX1_IkQ              Banh Mi & Ti   \n",
       "958  lfyg98UFNYMVk18p6LIlkw              Viet Kitchen   \n",
       "\n",
       "                          address          city state postal_code   latitude  \\\n",
       "1            688 Gerrard Street E       Toronto    ON     M4M 1Y3  43.666376   \n",
       "3    8560 W Desert Inn Rd, Ste D1     Las Vegas    NV       89117  36.130041   \n",
       "6      11318 N Community House Rd     Charlotte    NC       28277  35.056411   \n",
       "11    1955 W Baseline Rd, Ste 114          Mesa    AZ       85202  33.377582   \n",
       "13                  3920 Penn Ave    Pittsburgh    PA       15224  40.464681   \n",
       "..                            ...           ...   ...         ...        ...   \n",
       "944              351 Yonge Street       Toronto    ON     M5B 1S1  43.657899   \n",
       "946                4201-D Park Rd     Charlotte    NC       28209  35.174959   \n",
       "948              6901 Rockside Rd  Independence    OH       44131  41.395337   \n",
       "952                4502 Butler St    Pittsburgh    PA       15201  40.472145   \n",
       "958         20235 N Cave Creek Rd       Phoenix    AZ       85024  33.671426   \n",
       "\n",
       "      longitude  stars  review_count  is_open  \\\n",
       "1    -79.348773    4.0           116        1   \n",
       "3   -115.277785    4.0           707        1   \n",
       "6    -80.835407    4.5           254        1   \n",
       "11  -111.877018    4.0           201        1   \n",
       "13   -79.959312    4.5           131        1   \n",
       "..          ...    ...           ...      ...   \n",
       "944  -79.381268    4.0           174        1   \n",
       "946  -80.848742    4.0           439        1   \n",
       "948  -81.641761    4.0           118        1   \n",
       "952  -79.958936    4.5           252        1   \n",
       "958 -112.030170    4.0           376        1   \n",
       "\n",
       "                                            attributes  \\\n",
       "1    {'RestaurantsTakeOut': 'True', 'Alcohol': 'u'b...   \n",
       "3    {'RestaurantsGoodForGroups': 'True', 'Restaura...   \n",
       "6    {'Caters': 'True', 'RestaurantsAttire': ''casu...   \n",
       "11   {'WiFi': 'u'no'', 'BusinessParking': '{'garage...   \n",
       "13   {'RestaurantsTableService': 'False', 'BikePark...   \n",
       "..                                                 ...   \n",
       "944  {'RestaurantsTakeOut': 'True', 'Caters': 'True...   \n",
       "946  {'GoodForKids': 'True', 'RestaurantsAttire': '...   \n",
       "948  {'NoiseLevel': ''average'', 'HasTV': 'True', '...   \n",
       "952  {'HasTV': 'False', 'RestaurantsReservations': ...   \n",
       "958  {'OutdoorSeating': 'False', 'GoodForKids': 'Tr...   \n",
       "\n",
       "                                            categories  \\\n",
       "1                              Vietnamese, Restaurants   \n",
       "3      Vietnamese, Restaurants, American (Traditional)   \n",
       "6         Vietnamese, Sandwiches, Noodles, Restaurants   \n",
       "11                       Thai, Vietnamese, Restaurants   \n",
       "13   Coffee & Tea, Restaurants, Food, Vietnamese, B...   \n",
       "..                                                 ...   \n",
       "944         Thai, Vietnamese, Restaurants, Gluten-Free   \n",
       "946  Korean, Vietnamese, Asian Fusion, Sushi Bars, ...   \n",
       "948     Vietnamese, Seafood, Cajun/Creole, Restaurants   \n",
       "952   Restaurants, Vietnamese, Cafes, Bubble Tea, Food   \n",
       "958                            Vietnamese, Restaurants   \n",
       "\n",
       "                                                 hours  \n",
       "1    {'Monday': '11:0-22:0', 'Tuesday': '11:0-22:0'...  \n",
       "3    {'Monday': '0:0-0:0', 'Tuesday': '11:0-22:0', ...  \n",
       "6    {'Monday': '11:0-21:0', 'Tuesday': '11:0-21:0'...  \n",
       "11   {'Monday': '10:0-21:0', 'Wednesday': '10:0-21:...  \n",
       "13   {'Monday': '8:0-18:0', 'Tuesday': '8:0-18:0', ...  \n",
       "..                                                 ...  \n",
       "944  {'Monday': '11:0-22:0', 'Tuesday': '11:0-22:0'...  \n",
       "946  {'Monday': '0:0-0:0', 'Tuesday': '11:0-22:0', ...  \n",
       "948  {'Monday': '0:0-0:0', 'Tuesday': '15:0-21:0', ...  \n",
       "952  {'Monday': '0:0-0:0', 'Tuesday': '11:0-18:0', ...  \n",
       "958  {'Monday': '10:0-21:0', 'Tuesday': '10:0-21:0'...  \n",
       "\n",
       "[155 rows x 14 columns]"
      ]
     },
     "execution_count": 169,
     "metadata": {},
     "output_type": "execute_result"
    }
   ],
   "source": [
    "crit = (viet_res_df['stars'] > 3.5) & (viet_res_df['review_count'] > 100) & (viet_res_att_df.RestaurantsTakeOut == 'True') & ((viet_res_att_df.RestaurantsPriceRange2 == '2')| (viet_res_att_df.RestaurantsPriceRange2 == '1'))\n",
    "viet_res_df_sub = viet_res_df.loc[crit]\n",
    "viet_res_df_sub"
   ]
  },
  {
   "cell_type": "code",
   "execution_count": 170,
   "metadata": {},
   "outputs": [
    {
     "data": {
      "text/html": [
       "<div>\n",
       "<style scoped>\n",
       "    .dataframe tbody tr th:only-of-type {\n",
       "        vertical-align: middle;\n",
       "    }\n",
       "\n",
       "    .dataframe tbody tr th {\n",
       "        vertical-align: top;\n",
       "    }\n",
       "\n",
       "    .dataframe thead th {\n",
       "        text-align: right;\n",
       "    }\n",
       "</style>\n",
       "<table border=\"1\" class=\"dataframe\">\n",
       "  <thead>\n",
       "    <tr style=\"text-align: right;\">\n",
       "      <th></th>\n",
       "      <th>business_id</th>\n",
       "      <th>name</th>\n",
       "      <th>address</th>\n",
       "      <th>city</th>\n",
       "      <th>state</th>\n",
       "      <th>postal_code</th>\n",
       "      <th>latitude</th>\n",
       "      <th>longitude</th>\n",
       "      <th>stars</th>\n",
       "      <th>review_count</th>\n",
       "      <th>is_open</th>\n",
       "      <th>attributes</th>\n",
       "      <th>categories</th>\n",
       "      <th>hours</th>\n",
       "    </tr>\n",
       "  </thead>\n",
       "  <tbody>\n",
       "    <tr>\n",
       "      <th>283</th>\n",
       "      <td>ttuEwktrkmh3TUlSFPZqAA</td>\n",
       "      <td>Banh Mi Boys</td>\n",
       "      <td>399 Yonge Street</td>\n",
       "      <td>Toronto</td>\n",
       "      <td>ON</td>\n",
       "      <td>M5B</td>\n",
       "      <td>43.659097</td>\n",
       "      <td>-79.382078</td>\n",
       "      <td>4.0</td>\n",
       "      <td>483</td>\n",
       "      <td>1</td>\n",
       "      <td>{'RestaurantsPriceRange2': '1', 'Alcohol': 'u'...</td>\n",
       "      <td>Vietnamese, Asian Fusion, Restaurants</td>\n",
       "      <td>{'Monday': '11:0-22:0', 'Tuesday': '11:0-22:0'...</td>\n",
       "    </tr>\n",
       "    <tr>\n",
       "      <th>360</th>\n",
       "      <td>ZhACHVw9k438Z3i-Gw9BHA</td>\n",
       "      <td>Banh Mi Boys</td>\n",
       "      <td>2365 Yonge Street</td>\n",
       "      <td>Toronto</td>\n",
       "      <td>ON</td>\n",
       "      <td>M4P 3J6</td>\n",
       "      <td>43.709246</td>\n",
       "      <td>-79.398444</td>\n",
       "      <td>4.0</td>\n",
       "      <td>108</td>\n",
       "      <td>1</td>\n",
       "      <td>{'OutdoorSeating': 'False', 'RestaurantsAttire...</td>\n",
       "      <td>Vietnamese, Asian Fusion, Restaurants</td>\n",
       "      <td>{'Monday': '11:0-22:0', 'Tuesday': '11:0-22:0'...</td>\n",
       "    </tr>\n",
       "    <tr>\n",
       "      <th>788</th>\n",
       "      <td>N93EYZy9R0sdlEvubu94ig</td>\n",
       "      <td>Banh Mi Boys</td>\n",
       "      <td>392 Queen Street W</td>\n",
       "      <td>Toronto</td>\n",
       "      <td>ON</td>\n",
       "      <td>M5V 2A9</td>\n",
       "      <td>43.648827</td>\n",
       "      <td>-79.396970</td>\n",
       "      <td>4.5</td>\n",
       "      <td>1097</td>\n",
       "      <td>1</td>\n",
       "      <td>{'Alcohol': 'u'none'', 'BikeParking': 'True', ...</td>\n",
       "      <td>Sandwiches, Restaurants, Food, Vietnamese, Asi...</td>\n",
       "      <td>{'Monday': '11:0-22:0', 'Tuesday': '11:0-22:0'...</td>\n",
       "    </tr>\n",
       "  </tbody>\n",
       "</table>\n",
       "</div>"
      ],
      "text/plain": [
       "                business_id          name             address     city state  \\\n",
       "283  ttuEwktrkmh3TUlSFPZqAA  Banh Mi Boys    399 Yonge Street  Toronto    ON   \n",
       "360  ZhACHVw9k438Z3i-Gw9BHA  Banh Mi Boys   2365 Yonge Street  Toronto    ON   \n",
       "788  N93EYZy9R0sdlEvubu94ig  Banh Mi Boys  392 Queen Street W  Toronto    ON   \n",
       "\n",
       "    postal_code   latitude  longitude  stars  review_count  is_open  \\\n",
       "283         M5B  43.659097 -79.382078    4.0           483        1   \n",
       "360     M4P 3J6  43.709246 -79.398444    4.0           108        1   \n",
       "788     M5V 2A9  43.648827 -79.396970    4.5          1097        1   \n",
       "\n",
       "                                            attributes  \\\n",
       "283  {'RestaurantsPriceRange2': '1', 'Alcohol': 'u'...   \n",
       "360  {'OutdoorSeating': 'False', 'RestaurantsAttire...   \n",
       "788  {'Alcohol': 'u'none'', 'BikeParking': 'True', ...   \n",
       "\n",
       "                                            categories  \\\n",
       "283              Vietnamese, Asian Fusion, Restaurants   \n",
       "360              Vietnamese, Asian Fusion, Restaurants   \n",
       "788  Sandwiches, Restaurants, Food, Vietnamese, Asi...   \n",
       "\n",
       "                                                 hours  \n",
       "283  {'Monday': '11:0-22:0', 'Tuesday': '11:0-22:0'...  \n",
       "360  {'Monday': '11:0-22:0', 'Tuesday': '11:0-22:0'...  \n",
       "788  {'Monday': '11:0-22:0', 'Tuesday': '11:0-22:0'...  "
      ]
     },
     "execution_count": 170,
     "metadata": {},
     "output_type": "execute_result"
    }
   ],
   "source": [
    "viet_res_df[viet_res_df.name == 'Banh Mi Boys']"
   ]
  },
  {
   "cell_type": "code",
   "execution_count": 168,
   "metadata": {},
   "outputs": [
    {
     "data": {
      "text/plain": [
       "BusinessParking               {'garage': False, 'street': False, 'validated'...\n",
       "Ambience                      {'romantic': False, 'intimate': False, 'classy...\n",
       "BYOB                                                                        NaN\n",
       "GoodForMeal                   {'dessert': False, 'latenight': False, 'lunch'...\n",
       "Corkage                                                                     NaN\n",
       "BusinessAcceptsCreditCards                                                  NaN\n",
       "BikeParking                                                                True\n",
       "Alcohol                                                                 u'none'\n",
       "HasTV                                                                      True\n",
       "OutdoorSeating                                                            False\n",
       "WiFi                                                                      u'no'\n",
       "RestaurantsTableService                                                   False\n",
       "WheelchairAccessible                                                        NaN\n",
       "RestaurantsTakeOut                                                         True\n",
       "Caters                                                                    False\n",
       "RestaurantsDelivery                                                       False\n",
       "GoodForKids                                                                True\n",
       "RestaurantsPriceRange2                                                        1\n",
       "RestaurantsAttire                                                     u'casual'\n",
       "RestaurantsGoodForGroups                                                  False\n",
       "RestaurantsReservations                                                   False\n",
       "NoiseLevel                                                           u'average'\n",
       "DogsAllowed                                                                 NaN\n",
       "HappyHour                                                                   NaN\n",
       "ByAppointmentOnly                                                           NaN\n",
       "BusinessAcceptsBitcoin                                                      NaN\n",
       "Music                                                                       NaN\n",
       "Smoking                                                                     NaN\n",
       "GoodForDancing                                                              NaN\n",
       "BestNights                                                                  NaN\n",
       "CoatCheck                                                                   NaN\n",
       "BYOBCorkage                                                                 NaN\n",
       "DriveThru                                                                   NaN\n",
       "Name: 283, dtype: object"
      ]
     },
     "execution_count": 168,
     "metadata": {},
     "output_type": "execute_result"
    }
   ],
   "source": [
    "viet_res_att_df.iloc[283]"
   ]
  },
  {
   "cell_type": "code",
   "execution_count": 182,
   "metadata": {},
   "outputs": [
    {
     "data": {
      "text/html": [
       "<div>\n",
       "<style scoped>\n",
       "    .dataframe tbody tr th:only-of-type {\n",
       "        vertical-align: middle;\n",
       "    }\n",
       "\n",
       "    .dataframe tbody tr th {\n",
       "        vertical-align: top;\n",
       "    }\n",
       "\n",
       "    .dataframe thead th {\n",
       "        text-align: right;\n",
       "    }\n",
       "</style>\n",
       "<table border=\"1\" class=\"dataframe\">\n",
       "  <thead>\n",
       "    <tr style=\"text-align: right;\">\n",
       "      <th></th>\n",
       "      <th>state</th>\n",
       "      <th>name</th>\n",
       "      <th>stars</th>\n",
       "    </tr>\n",
       "  </thead>\n",
       "  <tbody>\n",
       "    <tr>\n",
       "      <th>88</th>\n",
       "      <td>AB</td>\n",
       "      <td>Pho Hoang Vietnamese Restaurant</td>\n",
       "      <td>5.0</td>\n",
       "    </tr>\n",
       "    <tr>\n",
       "      <th>260</th>\n",
       "      <td>AZ</td>\n",
       "      <td>Vietshack</td>\n",
       "      <td>5.0</td>\n",
       "    </tr>\n",
       "    <tr>\n",
       "      <th>464</th>\n",
       "      <td>IL</td>\n",
       "      <td>Taste Of Thai</td>\n",
       "      <td>4.5</td>\n",
       "    </tr>\n",
       "    <tr>\n",
       "      <th>218</th>\n",
       "      <td>NC</td>\n",
       "      <td>Pho Me Vietnamese Kitchen</td>\n",
       "      <td>5.0</td>\n",
       "    </tr>\n",
       "    <tr>\n",
       "      <th>230</th>\n",
       "      <td>NV</td>\n",
       "      <td>Tasty Broth Pho Grill</td>\n",
       "      <td>5.0</td>\n",
       "    </tr>\n",
       "    <tr>\n",
       "      <th>0</th>\n",
       "      <td>OH</td>\n",
       "      <td>Pho Lee's Vietnamese Restaurant</td>\n",
       "      <td>4.5</td>\n",
       "    </tr>\n",
       "    <tr>\n",
       "      <th>78</th>\n",
       "      <td>ON</td>\n",
       "      <td>Che Thuy Nga</td>\n",
       "      <td>5.0</td>\n",
       "    </tr>\n",
       "    <tr>\n",
       "      <th>13</th>\n",
       "      <td>PA</td>\n",
       "      <td>Ineffable Ca Phe</td>\n",
       "      <td>4.5</td>\n",
       "    </tr>\n",
       "    <tr>\n",
       "      <th>144</th>\n",
       "      <td>QC</td>\n",
       "      <td>Jardin des Délices</td>\n",
       "      <td>5.0</td>\n",
       "    </tr>\n",
       "    <tr>\n",
       "      <th>400</th>\n",
       "      <td>SC</td>\n",
       "      <td>Pho and sushi</td>\n",
       "      <td>4.0</td>\n",
       "    </tr>\n",
       "    <tr>\n",
       "      <th>89</th>\n",
       "      <td>WI</td>\n",
       "      <td>Saigon Sandwich Madison</td>\n",
       "      <td>4.5</td>\n",
       "    </tr>\n",
       "  </tbody>\n",
       "</table>\n",
       "</div>"
      ],
      "text/plain": [
       "    state                             name  stars\n",
       "88     AB  Pho Hoang Vietnamese Restaurant    5.0\n",
       "260    AZ                        Vietshack    5.0\n",
       "464    IL                    Taste Of Thai    4.5\n",
       "218    NC        Pho Me Vietnamese Kitchen    5.0\n",
       "230    NV            Tasty Broth Pho Grill    5.0\n",
       "0      OH  Pho Lee's Vietnamese Restaurant    4.5\n",
       "78     ON                     Che Thuy Nga    5.0\n",
       "13     PA                 Ineffable Ca Phe    4.5\n",
       "144    QC               Jardin des Délices    5.0\n",
       "400    SC                    Pho and sushi    4.0\n",
       "89     WI          Saigon Sandwich Madison    4.5"
      ]
     },
     "execution_count": 182,
     "metadata": {},
     "output_type": "execute_result"
    }
   ],
   "source": [
    "vet_res_best_each_state_df = viet_res_df.loc[viet_res_df.groupby(['state'])['stars'].agg('idxmax')]\n",
    "vet_res_best_each_state_df[['state','name', 'stars']]"
   ]
  },
  {
   "cell_type": "markdown",
   "metadata": {},
   "source": [
    "Tới đây khi nhìn state em mới phát hiện ra data còn có ở Canada (Toronto - ON, Alberta - AB, Quebec - QC) nữa chứ không chỉ ở Mỹ. Không biết quán Chè Thúy Nga ở Toronto này có bật nhạc Paris by Night không 🤔?"
   ]
  },
  {
   "cell_type": "markdown",
   "metadata": {},
   "source": [
    "### Nhà hàng Châu Á chiếm số tỷ lệ như thế nào trong thị trường nhà hàng ở Mỹ, Canada theo từng bang (cụ thể là thống kê của 5 bang có nhiều nhà hàng nhất)?"
   ]
  },
  {
   "cell_type": "markdown",
   "metadata": {},
   "source": [
    "Để trả lời câu hỏi này thì em sẽ thực hiện theo từng bước:\n",
    "\n",
    "- Bước 1: Tính sổ lượng nhà hàng của các bang Mỹ-Canada và lấy ra 5 bang nhiều nhà hàng nhất bỏ vào trong series `res_by_state_df`\n",
    "- Bước 2: Lấy ra những cửa hàng thuộc loại châu Á (cụ thể: Vietnamese, Thai, Japanese, Korean, Chinese, Singaporean, Indian) và tính số lượng cửa hàng của từng loại theo bang 5 bang nhiều nhà hàng nhất (kết quả ở bước 1)\n",
    "- Bước 3: Tính tỷ lệ của từng loại nhà hàng lên tổng số nhà hàng theo 5 bang\n",
    "- Bước 4: Vẽ đồ thị stack bar chart để trực quan"
   ]
  },
  {
   "cell_type": "markdown",
   "metadata": {},
   "source": [
    "Code bước 1:"
   ]
  },
  {
   "cell_type": "code",
   "execution_count": 226,
   "metadata": {},
   "outputs": [
    {
     "data": {
      "text/plain": [
       "state\n",
       "ON    11085\n",
       "AZ     7871\n",
       "NV     5309\n",
       "QC     4678\n",
       "OH     4349\n",
       "Name: business_id, dtype: int64"
      ]
     },
     "execution_count": 226,
     "metadata": {},
     "output_type": "execute_result"
    }
   ],
   "source": [
    "res_by_state_df = business_df.groupby(['state'])['business_id'].agg('count').sort_values(ascending=False)[:5]\n",
    "res_by_state_df"
   ]
  },
  {
   "cell_type": "markdown",
   "metadata": {},
   "source": [
    "Code bước 2:"
   ]
  },
  {
   "cell_type": "code",
   "execution_count": 203,
   "metadata": {},
   "outputs": [
    {
     "data": {
      "text/plain": [
       "Restaurants               43965\n",
       "Food                      11909\n",
       "Fast Food                  7032\n",
       "Nightlife                  6455\n",
       "Bars                       6242\n",
       "Sandwiches                 6094\n",
       "Pizza                      5431\n",
       "American (Traditional)     5407\n",
       "Burgers                    4807\n",
       "Breakfast & Brunch         4759\n",
       "Name: categories, dtype: int64"
      ]
     },
     "execution_count": 203,
     "metadata": {},
     "output_type": "execute_result"
    }
   ],
   "source": [
    "df = business_df\n",
    "df_explode = df.assign(categories = df.categories.str.split(', ')).explode('categories')\n",
    "asian_res_df = df_explode[df_explode['categories'].str.contains('Vietnamese|Thai|Japanese|Korean|Chinese|Singaporean|Indian', case=True, na=False)]\n",
    "asian_res_by_state_series = asian_res_df.groupby(['state','categories'])['business_id'].agg('count')"
   ]
  },
  {
   "cell_type": "markdown",
   "metadata": {},
   "source": [
    "Code bước 3:"
   ]
  },
  {
   "cell_type": "code",
   "execution_count": 231,
   "metadata": {},
   "outputs": [],
   "source": [
    "asian_res_by_state_series = asian_res_by_state_series.loc[res_by_state_df.index]  # five most-restaurant states \n",
    "ratio_asian_res_by_state_series = asian_res_by_state_series / res_by_state_df"
   ]
  },
  {
   "cell_type": "markdown",
   "metadata": {},
   "source": [
    "Code bước 4:"
   ]
  },
  {
   "cell_type": "code",
   "execution_count": 254,
   "metadata": {},
   "outputs": [
    {
     "data": {
      "image/png": "[encoded data removed]",
      "text/plain": [
       "<Figure size 720x432 with 1 Axes>"
      ]
     },
     "metadata": {
      "needs_background": "light"
     },
     "output_type": "display_data"
    }
   ],
   "source": [
    "ax = ratio_asian_res_by_state_series.unstack().plot(kind='bar', figsize=(10, 6), y=[\"Vietnamese\", \"Thai\", \"Japanese\", \"Korean\", \"Chinese\", \"Singaporean\", \"Indian\"], rot=0, stacked=True)\n",
    "ax.set_ylabel('proportion')\n",
    "ax.set_ylim((0,1))\n",
    "ax.set_title('Proportion of Asian restaurants to total restaurants in top 5 restaurant-located states in the US and Canada');"
   ]
  },
  {
   "cell_type": "markdown",
   "metadata": {},
   "source": [
    "Có vẻ như 2 bang ở Canada số lượng nhà hàng Châu Á chiếm khá đáng kể, nhà hàng món Việt cũng góp phần không nhỏ trong tỷ lệ này."
   ]
  },
  {
   "cell_type": "markdown",
   "metadata": {},
   "source": [
    "-------"
   ]
  },
  {
   "cell_type": "markdown",
   "metadata": {},
   "source": [
    "## Nhìn lại quá trình làm đồ án"
   ]
  },
  {
   "cell_type": "markdown",
   "metadata": {},
   "source": [
    "### Khó khăn, thuận lợi"
   ]
  },
  {
   "cell_type": "markdown",
   "metadata": {},
   "source": [
    "Mặc dù đồ án này có thể còn nhiều thiếu sót, nhưng phải nói thật trong quá trình làm đồ án này em đã gặp khá nhiều khó khăn, xui xẻo, nhưng trong đó cũng \"lòi\" ra những may mắn, thuận lợi.\n",
    "\n",
    "- Lựa chọn dataset theo chủ đề em cảm thấy có thể \"enjoy\": Khi chọn được chủ đề \"ẩm thực, ăn uống, món ăn,..\" thì trong đầu em không hề có gì ngoài dataset \"playground\": What's cooking? và một vài cái dataset vô vọng về ẩm thực trên Kaggle. Dataset \"What's cooking?\" thì không thể tận dụng được lợi thế của pandas, chỉ có 2 cột thông tin(\"cusine\" và \"ingredient\") là quá ít cho một đồ án cuối kỳ, nếu dùng thì cũng chắc vẽ được một số network graph hay bart-chart ingredients thường dùng của món Tây, Ta,... Trong lúc vừa phân vân không biết nên theo hay bỏ qua chủ đề này, vừa mơ tưởng đến dataset của Foody thì sực nhớ ra có Yelp! Search Kaggle thấy Yelp dataset như vớ được vàng.\n",
    "\n",
    "- Dataset \"khủng long\": 10GB, định dạng json, version cũ chứa các file csv thì \"404 Not Found\". Đọc data từ json thì mới được 1 file, file còn lại 6GB cứ mỗi lần đọc là crash đơ máy, reset by force. Giảm chunksize đủ kiểu nhưng vẫn vậy, tuyệt vọng định chấp nhận hy sinh file reviews thì may mắn trở lại với file reviews.csv được uploaded cách đây 1 năm trên Kaggle bởi một người hùng thầm lặng (😅 em cũng không chắc việc này có violate agreement của Yelp hay không), mặc dù mấy cột string hơi sai định dạng tý, coi như việc preprocessing thường làm. Vì file quá năng nên từ lúc bắt đầu làm đến giờ em chỉ dám re-load kernel đúng 2 lần! \n",
    "\n",
    "- Phần đặt câu hỏi thì chắc ai làm đồ án cũng gặp khó chỗ này, nên chắc em không than nữa. \\*quit my bitching\\*"
   ]
  },
  {
   "cell_type": "markdown",
   "metadata": {},
   "source": [
    "### Những điều hữu ích học được"
   ]
  },
  {
   "cell_type": "markdown",
   "metadata": {},
   "source": [
    "Qua đồ án này thì em cũng đã học được rất nhiều điều hữu ích:\n",
    "\n",
    "- Vận dụng kiến thức đã học, theo sự hướng dẫn, sự tổ chức notebook, \"code cũ\", ý tưởng của thầy Kiên để từng bước làm theo, áp dụng lên dữ liệu, giải quyết bài toán từ dữ liệu.\n",
    "\n",
    "- Cảm nhận rõ ràng với quy trình khoa học dữ liệu, tập làm quen với sự xuất hiện của những khó khăn không lường trước. \n",
    "\n",
    "(Và nhiều điều hữu ích khác mà em sợ nếu cứ tiếp tục kể em sẽ bịa ra lung tung)"
   ]
  },
  {
   "cell_type": "markdown",
   "metadata": {},
   "source": [
    "### Nếu có thời gian thì sẽ làm thêm gì?"
   ]
  },
  {
   "cell_type": "markdown",
   "metadata": {},
   "source": [
    "Nếu có thời gian thêm thì em sẽ tìm cách đọc được toàn bộ file reviews (cả những cột mà em bỏ để tránh \"đơ máy\" bao gồm cột **text** chứa nội dung reviews). Cột **text** chứa thông tin đánh giá rất quan trọng nếu muốn phân tích quan điểm, thích/ ghét, keywords, món nổi bật của quán,... Cho nên nếu đọc được **text** của toàn bộ 6 triệu review em nghĩ sẽ có thể làm được và biết thêm một vài điều thú vị."
   ]
  },
  {
   "cell_type": "markdown",
   "metadata": {},
   "source": [
    "---"
   ]
  },
  {
   "cell_type": "markdown",
   "metadata": {},
   "source": [
    "## Tài liệu tham khảo"
   ]
  },
  {
   "cell_type": "markdown",
   "metadata": {},
   "source": [
    "[1] File notebook về Pandas (Demo-11 đến Demo-14) của thầy Kiên.\n",
    "\n",
    "[2] 3 file bài tập (BT01 đến BT03) của thầy Kiên huướng dẫn.\n",
    "\n",
    "[3] Slide 15-TongKet_ĐACK\n",
    "\n",
    "[4] https://towardsdatascience.com/converting-yelp-dataset-to-csv-using-pandas-2a4c8f03bd88\n",
    "\n",
    "[5] https://towardsdatascience.com/discover-your-next-favorite-restaurant-exploration-and-visualization-on-yelps-dataset-157d9799123c\n",
    "\n",
    "[6] https://bizfluent.com/info-8388818-busiest-periods-restaurant-business.html\n",
    "\n",
    "[7] [pandas documentation](https://pandas.pydata.org/docs/)"
   ]
  }
 ],
 "metadata": {
  "kernelspec": {
   "display_name": "py377",
   "language": "python",
   "name": "py377"
  },
  "language_info": {
   "codemirror_mode": {
    "name": "ipython",
    "version": 3
   },
   "file_extension": ".py",
   "mimetype": "text/x-python",
   "name": "python",
   "nbconvert_exporter": "python",
   "pygments_lexer": "ipython3",
   "version": "3.7.7"
  },
  "toc-autonumbering": false,
  "toc-showcode": false,
  "toc-showtags": false
 },
 "nbformat": 4,
 "nbformat_minor": 4
}
