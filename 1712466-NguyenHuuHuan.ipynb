{
 "cells": [
  {
   "cell_type": "markdown",
   "metadata": {},
   "source": [
    "# ĐỒ ÁN CUỐI KỲ (LTKHDL - CQ2017/2)\n",
    "### GVHD: TS. Trần Trung Kiên\n",
    "\n",
    "Họ và tên sinh viên: Nguyễn Hữu Huân\n",
    "\n",
    "MSSV: 1712466"
   ]
  },
  {
   "cell_type": "markdown",
   "metadata": {},
   "source": [
    "------"
   ]
  },
  {
   "cell_type": "markdown",
   "metadata": {},
   "source": [
    "## Import"
   ]
  },
  {
   "cell_type": "code",
   "execution_count": 1,
   "metadata": {},
   "outputs": [],
   "source": [
    "%matplotlib inline\n",
    "import matplotlib.pyplot as plt\n",
    "import pandas as pd\n",
    "import numpy as np"
   ]
  },
  {
   "cell_type": "markdown",
   "metadata": {},
   "source": [
    "---"
   ]
  },
  {
   "cell_type": "markdown",
   "metadata": {},
   "source": [
    "## Lấy dữ liệu"
   ]
  },
  {
   "cell_type": "markdown",
   "metadata": {},
   "source": [
    "Dữ liệu mà em sử dụng ở đây được lấy từ [dataset của Yelp trên Kaggle](https://www.kaggle.com/yelp-dataset/yelp-dataset). Yelp là một công ty công nghệ lớn ở Mỹ với sản phẩm nổi bật là Yelp website và Yelp app cho phép người dùng tìm kiếm, đánh giá, bình luận, đặt chỗ dịch vụ của các cở sở kinh doanh. \n",
    "\n",
    "Khi tải dataset này về đồng nghĩa với việc đã chấp nhận điều khoản sử dụng (một file pdf khá dài) được viết bởi Yelp dành riêng cho dataset này ví dụ như là chỉ được sử dụng cho mục đích học tập giáo dục,...\n",
    "\n",
    "Vì dataset này khá lớn (tầm 10GB) và chủ đề mà em quan tâm ở đây chỉ là nhà hàng, món ăn nên em chỉ sử dụng 2 file json là: \"yelp_academic_dataset_business.json\" và \"yelp_academic_dataset_review.json\" trong số 5 file của dataset. File \"yelp_academic_dataset_business.json\" chứa thông tin của các cơ sở kinh doanh, còn file \"yelp_academic_dataset_review.json\" chứa thông tin đánh giá của người dùng đối với cơ sở kinh doanh đó.  "
   ]
  },
  {
   "cell_type": "markdown",
   "metadata": {},
   "source": [
    "-----"
   ]
  },
  {
   "cell_type": "markdown",
   "metadata": {},
   "source": [
    "## Khám phá dữ liệu"
   ]
  },
  {
   "cell_type": "markdown",
   "metadata": {},
   "source": [
    "### Data Description"
   ]
  },
  {
   "cell_type": "markdown",
   "metadata": {},
   "source": [
    "Phần mô tả dữ liệu này Yelp không cung cấp trên Kaggle mà để ở trang chủ của mình [ở đây](https://www.yelp.com/dataset/documentation/main). Em có dịch sơ lại như sau:"
   ]
  },
  {
   "cell_type": "markdown",
   "metadata": {},
   "source": [
    "- \"yelp_academic_dataset_review.json\":\n",
    "    - *business_id*: mã id của doanh nghiệp\n",
    "    - *name*: tên doanh nghiệp\n",
    "    - *address*: địa chỉ\n",
    "    - *city*: thành phố\n",
    "    - *state*: mã bang \n",
    "    - *postal_code*: mã bưu chính\n",
    "    - *latitude*: vĩ độ\n",
    "    - *longitude*: kinh độ\n",
    "    - *stars*: sao trung bình\n",
    "    - *review_count*: số lượng review\n",
    "    - *is_open*: có còn hoạt động hay không\n",
    "    - *attribute*: một số thông tin về doanh nghiệp (đậu xe như thế nào, thanh toán thẻ được không,..)\n",
    "    - *categories*: danh sách các loại của doanh nghiệp\n",
    "    - *hours*: giở mở cửa (Thứ Hai, Thứ Ba,...)\n",
    "- \"yelp_academic_dataset_review.json\":\n",
    "    - *user_id*: mã id người dùng\n",
    "    - *text*: nội dung review\n",
    "    - *date*: ngày review\n",
    "    - *review_id*: mã id của review\n",
    "    - *business_id*: mã doanh nghiệp được review\n",
    "    - *funny*: độ hài hước của review này được vote\n",
    "    - *cool*: độ \"ngầu\" của review này được vote\n",
    "    - *useful*: độ có ích của review được vote\n",
    "    - *stars*: số sao review "
   ]
  },
  {
   "cell_type": "markdown",
   "metadata": {},
   "source": [
    "### Đọc dữ liệu vào DataFrame"
   ]
  },
  {
   "cell_type": "markdown",
   "metadata": {},
   "source": [
    "Khá may mắn là mặc dù các file này là json nhưng cấu trúc nó khá \"ngay ngắn\" và có thể đọc thành DataFrame bằng hàm `pd.read_json()`. Nhưng cũng khá xui vì file về reviews khá nặng (6GB!), ban đầu em cũng thử cố đọc file này bằng cách định nghĩa các cột trước khi đọc và chia thành đọc các 'chunk' nhỏ, tuy nhiên máy vẫn bị \"đơ\". Để tiết kiệm thời gian thì em đã lên Kaggle tải file [\"reviews.csv\"](https://www.kaggle.com/darshank2019/review) mà người khác đã convert trước đó."
   ]
  },
  {
   "cell_type": "code",
   "execution_count": 12,
   "metadata": {},
   "outputs": [],
   "source": [
    "business_df = pd.read_json('data/yelp_academic_dataset_business.json', lines=True)"
   ]
  },
  {
   "cell_type": "markdown",
   "metadata": {},
   "source": [
    " Vì file csv này là của phiên bản reviews cách đây 1 năm nên dung lượng chỉ còn khoảng 4GB. Nhưng 4GB vẫn là con số khá lớn, cho nên sau khi đọc data description em đã bỏ đọc một số cột em cảm thấy sẽ không cần dùng tới (theo tiêu chí bài này của em): \"text\", \"cool\", \"funny\" để việc đọc được diễn ra \"suông sẻ\" và nhanh hơn."
   ]
  },
  {
   "cell_type": "code",
   "execution_count": 8,
   "metadata": {
    "collapsed": true,
    "jupyter": {
     "outputs_hidden": true
    }
   },
   "outputs": [
    {
     "data": {
      "text/html": [
       "<div>\n",
       "<style scoped>\n",
       "    .dataframe tbody tr th:only-of-type {\n",
       "        vertical-align: middle;\n",
       "    }\n",
       "\n",
       "    .dataframe tbody tr th {\n",
       "        vertical-align: top;\n",
       "    }\n",
       "\n",
       "    .dataframe thead th {\n",
       "        text-align: right;\n",
       "    }\n",
       "</style>\n",
       "<table border=\"1\" class=\"dataframe\">\n",
       "  <thead>\n",
       "    <tr style=\"text-align: right;\">\n",
       "      <th></th>\n",
       "      <th>user_id</th>\n",
       "      <th>date</th>\n",
       "      <th>review_id</th>\n",
       "      <th>business_id</th>\n",
       "      <th>useful</th>\n",
       "      <th>stars</th>\n",
       "    </tr>\n",
       "  </thead>\n",
       "  <tbody>\n",
       "    <tr>\n",
       "      <th>0</th>\n",
       "      <td>b'hG7b0MtEbXx5QzbzE6C_VA'</td>\n",
       "      <td>b'2013-05-07 04:34:36'</td>\n",
       "      <td>b'Q1sbwvVQXV2734tPgoKj4Q'</td>\n",
       "      <td>b'ujmEBvifdJM6h6RLv4wQIg'</td>\n",
       "      <td>6</td>\n",
       "      <td>1.0</td>\n",
       "    </tr>\n",
       "    <tr>\n",
       "      <th>1</th>\n",
       "      <td>b'yXQM5uF2jS6es16SJzNHfg'</td>\n",
       "      <td>b'2017-01-14 21:30:33'</td>\n",
       "      <td>b'GJXCdrto3ASJOqKeVWPi6Q'</td>\n",
       "      <td>b'NZnhc2sEQy3RmzKTZnqtwQ'</td>\n",
       "      <td>0</td>\n",
       "      <td>5.0</td>\n",
       "    </tr>\n",
       "    <tr>\n",
       "      <th>2</th>\n",
       "      <td>b'n6-Gk65cPZL6Uz8qRm3NYw'</td>\n",
       "      <td>b'2016-11-09 20:09:03'</td>\n",
       "      <td>b'2TzJjDVDEuAW6MR5Vuc1ug'</td>\n",
       "      <td>b'WTqjgwHlXbSFevF32_DJVw'</td>\n",
       "      <td>3</td>\n",
       "      <td>5.0</td>\n",
       "    </tr>\n",
       "    <tr>\n",
       "      <th>3</th>\n",
       "      <td>b'dacAIZ6fTM6mqwW5uxkskg'</td>\n",
       "      <td>b'2018-01-09 20:56:38'</td>\n",
       "      <td>b'yi0R0Ugj_xUx_Nek0-_Qig'</td>\n",
       "      <td>b'ikCg8xy5JIg_NGPx-MSIDA'</td>\n",
       "      <td>0</td>\n",
       "      <td>5.0</td>\n",
       "    </tr>\n",
       "    <tr>\n",
       "      <th>4</th>\n",
       "      <td>b'ssoyf2_x0EQMed6fgHeMyQ'</td>\n",
       "      <td>b'2018-01-30 23:07:38'</td>\n",
       "      <td>b'11a8sVPMUFtaC7_ABRkmtw'</td>\n",
       "      <td>b'b1b1eb3uo-w561D0ZfCEiQ'</td>\n",
       "      <td>7</td>\n",
       "      <td>1.0</td>\n",
       "    </tr>\n",
       "    <tr>\n",
       "      <th>...</th>\n",
       "      <td>...</td>\n",
       "      <td>...</td>\n",
       "      <td>...</td>\n",
       "      <td>...</td>\n",
       "      <td>...</td>\n",
       "      <td>...</td>\n",
       "    </tr>\n",
       "    <tr>\n",
       "      <th>6685895</th>\n",
       "      <td>b'Xu_YazIajfsc7SRj1wJ6Mg'</td>\n",
       "      <td>b'2018-07-03 12:17:27'</td>\n",
       "      <td>b'0pCaq1hqAViS2N6ldlp_sQ'</td>\n",
       "      <td>b'RXBFk3tVBxiTf3uOt9KExQ'</td>\n",
       "      <td>1</td>\n",
       "      <td>5.0</td>\n",
       "    </tr>\n",
       "    <tr>\n",
       "      <th>6685896</th>\n",
       "      <td>b'V6BjjQICDO4q7TT3ZhaPWw'</td>\n",
       "      <td>b'2013-05-22 15:32:08'</td>\n",
       "      <td>b'jPCXuSBbI_cPocgoNBhdkg'</td>\n",
       "      <td>b'yA6dKNm_zl1ucZCnwW8ZCg'</td>\n",
       "      <td>13</td>\n",
       "      <td>1.0</td>\n",
       "    </tr>\n",
       "    <tr>\n",
       "      <th>6685897</th>\n",
       "      <td>b'PFiIECX8wuvi7P-1mCvIjA'</td>\n",
       "      <td>b'2018-11-13 21:15:20'</td>\n",
       "      <td>b'zwzO3yPdGbdgGy3-XQ0SWg'</td>\n",
       "      <td>b'a192hdM0_UVCYLwPJv1Qwg'</td>\n",
       "      <td>0</td>\n",
       "      <td>5.0</td>\n",
       "    </tr>\n",
       "    <tr>\n",
       "      <th>6685898</th>\n",
       "      <td>b'wu5R5_N7q5iqCBh6NBX26Q'</td>\n",
       "      <td>b'2018-08-13 18:09:16'</td>\n",
       "      <td>b'o8Nc2BJhKJXM6tRHJDRuPA'</td>\n",
       "      <td>b'kOo4ZY2UQAX4j312mzQ8mA'</td>\n",
       "      <td>1</td>\n",
       "      <td>5.0</td>\n",
       "    </tr>\n",
       "    <tr>\n",
       "      <th>6685899</th>\n",
       "      <td>b'Ej3mCvjcwVXCSPB_avIfjQ'</td>\n",
       "      <td>b'2018-11-12 20:25:32'</td>\n",
       "      <td>b'OKmOLFwtI-NjofTHAGzv1Q'</td>\n",
       "      <td>b'PkqN5st3zZ_Xce_5QlBtNQ'</td>\n",
       "      <td>2</td>\n",
       "      <td>3.0</td>\n",
       "    </tr>\n",
       "  </tbody>\n",
       "</table>\n",
       "<p>6685900 rows × 6 columns</p>\n",
       "</div>"
      ],
      "text/plain": [
       "                           user_id                    date  \\\n",
       "0        b'hG7b0MtEbXx5QzbzE6C_VA'  b'2013-05-07 04:34:36'   \n",
       "1        b'yXQM5uF2jS6es16SJzNHfg'  b'2017-01-14 21:30:33'   \n",
       "2        b'n6-Gk65cPZL6Uz8qRm3NYw'  b'2016-11-09 20:09:03'   \n",
       "3        b'dacAIZ6fTM6mqwW5uxkskg'  b'2018-01-09 20:56:38'   \n",
       "4        b'ssoyf2_x0EQMed6fgHeMyQ'  b'2018-01-30 23:07:38'   \n",
       "...                            ...                     ...   \n",
       "6685895  b'Xu_YazIajfsc7SRj1wJ6Mg'  b'2018-07-03 12:17:27'   \n",
       "6685896  b'V6BjjQICDO4q7TT3ZhaPWw'  b'2013-05-22 15:32:08'   \n",
       "6685897  b'PFiIECX8wuvi7P-1mCvIjA'  b'2018-11-13 21:15:20'   \n",
       "6685898  b'wu5R5_N7q5iqCBh6NBX26Q'  b'2018-08-13 18:09:16'   \n",
       "6685899  b'Ej3mCvjcwVXCSPB_avIfjQ'  b'2018-11-12 20:25:32'   \n",
       "\n",
       "                         review_id                business_id  useful  stars  \n",
       "0        b'Q1sbwvVQXV2734tPgoKj4Q'  b'ujmEBvifdJM6h6RLv4wQIg'       6    1.0  \n",
       "1        b'GJXCdrto3ASJOqKeVWPi6Q'  b'NZnhc2sEQy3RmzKTZnqtwQ'       0    5.0  \n",
       "2        b'2TzJjDVDEuAW6MR5Vuc1ug'  b'WTqjgwHlXbSFevF32_DJVw'       3    5.0  \n",
       "3        b'yi0R0Ugj_xUx_Nek0-_Qig'  b'ikCg8xy5JIg_NGPx-MSIDA'       0    5.0  \n",
       "4        b'11a8sVPMUFtaC7_ABRkmtw'  b'b1b1eb3uo-w561D0ZfCEiQ'       7    1.0  \n",
       "...                            ...                        ...     ...    ...  \n",
       "6685895  b'0pCaq1hqAViS2N6ldlp_sQ'  b'RXBFk3tVBxiTf3uOt9KExQ'       1    5.0  \n",
       "6685896  b'jPCXuSBbI_cPocgoNBhdkg'  b'yA6dKNm_zl1ucZCnwW8ZCg'      13    1.0  \n",
       "6685897  b'zwzO3yPdGbdgGy3-XQ0SWg'  b'a192hdM0_UVCYLwPJv1Qwg'       0    5.0  \n",
       "6685898  b'o8Nc2BJhKJXM6tRHJDRuPA'  b'kOo4ZY2UQAX4j312mzQ8mA'       1    5.0  \n",
       "6685899  b'OKmOLFwtI-NjofTHAGzv1Q'  b'PkqN5st3zZ_Xce_5QlBtNQ'       2    3.0  \n",
       "\n",
       "[6685900 rows x 6 columns]"
      ]
     },
     "execution_count": 8,
     "metadata": {},
     "output_type": "execute_result"
    }
   ],
   "source": [
    "reviews_df = pd.read_csv('data/yelp_academic_dataset_review.csv', usecols=['user_id','date','review_id','business_id','stars','useful'])"
   ]
  },
  {
   "cell_type": "markdown",
   "metadata": {},
   "source": [
    "### Khám phá"
   ]
  },
  {
   "cell_type": "markdown",
   "metadata": {},
   "source": [
    "Quan sát kích thước của 2 DataFrame"
   ]
  },
  {
   "cell_type": "code",
   "execution_count": 13,
   "metadata": {},
   "outputs": [
    {
     "data": {
      "text/plain": [
       "(209393, 14)"
      ]
     },
     "execution_count": 13,
     "metadata": {},
     "output_type": "execute_result"
    }
   ],
   "source": [
    "business_df.shape"
   ]
  },
  {
   "cell_type": "code",
   "execution_count": 14,
   "metadata": {},
   "outputs": [
    {
     "data": {
      "text/plain": [
       "(6685900, 6)"
      ]
     },
     "execution_count": 14,
     "metadata": {},
     "output_type": "execute_result"
    }
   ],
   "source": [
    "reviews_df.shape"
   ]
  },
  {
   "cell_type": "markdown",
   "metadata": {},
   "source": [
    "Dữ liệu khá bự 😥 14 cột, 209393 dòng với `business_df`, mỗi dòng là một doanh nghiệp. 6 cột 6685900 dòng với `reviews_df`, mỗi dòng là một review."
   ]
  },
  {
   "cell_type": "markdown",
   "metadata": {},
   "source": [
    "Xem thêm về thông tin các kiểu dữ liệu của từng cột, về ý nghĩa của từng cột thì đã có ở phần **Data Description**."
   ]
  },
  {
   "cell_type": "markdown",
   "metadata": {},
   "source": [
    "🏪 Thông tin về DataFrame business_df"
   ]
  },
  {
   "cell_type": "code",
   "execution_count": 15,
   "metadata": {},
   "outputs": [
    {
     "name": "stdout",
     "output_type": "stream",
     "text": [
      "<class 'pandas.core.frame.DataFrame'>\n",
      "RangeIndex: 209393 entries, 0 to 209392\n",
      "Data columns (total 14 columns):\n",
      " #   Column        Non-Null Count   Dtype  \n",
      "---  ------        --------------   -----  \n",
      " 0   business_id   209393 non-null  object \n",
      " 1   name          209393 non-null  object \n",
      " 2   address       209393 non-null  object \n",
      " 3   city          209393 non-null  object \n",
      " 4   state         209393 non-null  object \n",
      " 5   postal_code   209393 non-null  object \n",
      " 6   latitude      209393 non-null  float64\n",
      " 7   longitude     209393 non-null  float64\n",
      " 8   stars         209393 non-null  float64\n",
      " 9   review_count  209393 non-null  int64  \n",
      " 10  is_open       209393 non-null  int64  \n",
      " 11  attributes    180348 non-null  object \n",
      " 12  categories    208869 non-null  object \n",
      " 13  hours         164550 non-null  object \n",
      "dtypes: float64(3), int64(2), object(9)\n",
      "memory usage: 22.4+ MB\n"
     ]
    }
   ],
   "source": [
    "business_df.info()"
   ]
  },
  {
   "cell_type": "markdown",
   "metadata": {},
   "source": [
    "**Một số lưu ý:**\n",
    "- Có thể thấy postal_code là object thì hơi lạ, nhưng sau khi tìm hiểu thì postal code của Mỹ có bao gồm cả chữ cái (khác VN)\n",
    "- hours và attribute ở đây là object (cụ thể là string) nhưng được lưu theo format dict (hay đúng hơn là format json object)\n",
    "- categories là object (str) được lưu theo kiểu liệt kê: A, B, C"
   ]
  },
  {
   "cell_type": "code",
   "execution_count": 24,
   "metadata": {},
   "outputs": [
    {
     "data": {
      "text/plain": [
       "78469       44060\n",
       "134499    M5J 2N3\n",
       "46601       28105\n",
       "Name: postal_code, dtype: object"
      ]
     },
     "execution_count": 24,
     "metadata": {},
     "output_type": "execute_result"
    }
   ],
   "source": [
    "business_df.postal_code.sample(3)"
   ]
  },
  {
   "cell_type": "code",
   "execution_count": 23,
   "metadata": {},
   "outputs": [
    {
     "data": {
      "text/plain": [
       "34071    {'Monday': '9:30-20:30', 'Tuesday': '9:30-20:3...\n",
       "67334                                                 None\n",
       "14918    {'Monday': '8:30-17:0', 'Tuesday': '8:30-17:0'...\n",
       "Name: hours, dtype: object"
      ]
     },
     "execution_count": 23,
     "metadata": {},
     "output_type": "execute_result"
    }
   ],
   "source": [
    "business_df.hours.sample(3)"
   ]
  },
  {
   "cell_type": "code",
   "execution_count": 25,
   "metadata": {},
   "outputs": [
    {
     "data": {
      "text/plain": [
       "59793     {'BusinessAcceptsCreditCards': 'True', 'Busine...\n",
       "133772    {'BusinessAcceptsCreditCards': 'True', 'ByAppo...\n",
       "55702     {'RestaurantsPriceRange2': '2', 'Caters': 'Tru...\n",
       "Name: attributes, dtype: object"
      ]
     },
     "execution_count": 25,
     "metadata": {},
     "output_type": "execute_result"
    }
   ],
   "source": [
    "business_df.attributes.sample(3)"
   ]
  },
  {
   "cell_type": "code",
   "execution_count": 26,
   "metadata": {},
   "outputs": [
    {
     "data": {
      "text/plain": [
       "120148    Food, Cafes, French, Bakeries, Restaurants, Bi...\n",
       "10476     Active Life, Cycling Classes, Trainers, Yoga, ...\n",
       "63893                  Beer, Wine & Spirits, Food, Shopping\n",
       "Name: categories, dtype: object"
      ]
     },
     "execution_count": 26,
     "metadata": {},
     "output_type": "execute_result"
    }
   ],
   "source": [
    "business_df.categories.sample(3)"
   ]
  },
  {
   "cell_type": "markdown",
   "metadata": {},
   "source": [
    "**Vấn đề:**\n",
    "- Các cột chứa giá trị thiếu bao gồm: attributes, categories, hours. 2 cái còn lại thì không sao nhưng categories thiếu thì hơi khó khăn trong việc nhận diện loại dịch vụ. Có khả năng là sẽ được drop những dòng thiếu cột này."
   ]
  },
  {
   "cell_type": "markdown",
   "metadata": {},
   "source": [
    "✍ Thông tin về DataFrame reviews_df"
   ]
  },
  {
   "cell_type": "code",
   "execution_count": 17,
   "metadata": {},
   "outputs": [
    {
     "name": "stdout",
     "output_type": "stream",
     "text": [
      "<class 'pandas.core.frame.DataFrame'>\n",
      "RangeIndex: 6685900 entries, 0 to 6685899\n",
      "Data columns (total 6 columns):\n",
      " #   Column       Dtype  \n",
      "---  ------       -----  \n",
      " 0   user_id      object \n",
      " 1   date         object \n",
      " 2   review_id    object \n",
      " 3   business_id  object \n",
      " 4   useful       int64  \n",
      " 5   stars        float64\n",
      "dtypes: float64(1), int64(1), object(4)\n",
      "memory usage: 306.1+ MB\n"
     ]
    }
   ],
   "source": [
    "reviews_df.info()"
   ]
  },
  {
   "cell_type": "markdown",
   "metadata": {},
   "source": [
    "**Vấn đề:**\n",
    "- Cột date cần phải đổi trừ object sang datetime\n",
    "- stars cũng cần đổi sang int, vì thực ra cơ chế rating của Yelp chỉ có từ 1-> 5 sao thôi, không lẻ."
   ]
  },
  {
   "cell_type": "code",
   "execution_count": 27,
   "metadata": {},
   "outputs": [
    {
     "data": {
      "text/plain": [
       "array([1., 5., 4., 3., 2.])"
      ]
     },
     "execution_count": 27,
     "metadata": {},
     "output_type": "execute_result"
    }
   ],
   "source": [
    "reviews_df.stars.unique()"
   ]
  },
  {
   "cell_type": "code",
   "execution_count": 3,
   "metadata": {},
   "outputs": [],
   "source": [
    "# 1 = open, 0 = closeda\n",
    "business_df = business_df[business_df['is_open']==1]"
   ]
  },
  {
   "cell_type": "code",
   "execution_count": 4,
   "metadata": {},
   "outputs": [
    {
     "data": {
      "text/plain": [
       "(168903, 14)"
      ]
     },
     "execution_count": 4,
     "metadata": {},
     "output_type": "execute_result"
    }
   ],
   "source": [
    "business_df.shape"
   ]
  },
  {
   "cell_type": "code",
   "execution_count": 11,
   "metadata": {},
   "outputs": [
    {
     "data": {
      "text/html": [
       "<div>\n",
       "<style scoped>\n",
       "    .dataframe tbody tr th:only-of-type {\n",
       "        vertical-align: middle;\n",
       "    }\n",
       "\n",
       "    .dataframe tbody tr th {\n",
       "        vertical-align: top;\n",
       "    }\n",
       "\n",
       "    .dataframe thead th {\n",
       "        text-align: right;\n",
       "    }\n",
       "</style>\n",
       "<table border=\"1\" class=\"dataframe\">\n",
       "  <thead>\n",
       "    <tr style=\"text-align: right;\">\n",
       "      <th></th>\n",
       "      <th>user_id</th>\n",
       "      <th>date</th>\n",
       "      <th>review_id</th>\n",
       "      <th>business_id</th>\n",
       "      <th>useful</th>\n",
       "      <th>stars</th>\n",
       "    </tr>\n",
       "  </thead>\n",
       "  <tbody>\n",
       "    <tr>\n",
       "      <th>0</th>\n",
       "      <td>b'hG7b0MtEbXx5QzbzE6C_VA'</td>\n",
       "      <td>b'2013-05-07 04:34:36'</td>\n",
       "      <td>b'Q1sbwvVQXV2734tPgoKj4Q'</td>\n",
       "      <td>b'ujmEBvifdJM6h6RLv4wQIg'</td>\n",
       "      <td>6</td>\n",
       "      <td>1.0</td>\n",
       "    </tr>\n",
       "    <tr>\n",
       "      <th>1</th>\n",
       "      <td>b'yXQM5uF2jS6es16SJzNHfg'</td>\n",
       "      <td>b'2017-01-14 21:30:33'</td>\n",
       "      <td>b'GJXCdrto3ASJOqKeVWPi6Q'</td>\n",
       "      <td>b'NZnhc2sEQy3RmzKTZnqtwQ'</td>\n",
       "      <td>0</td>\n",
       "      <td>5.0</td>\n",
       "    </tr>\n",
       "    <tr>\n",
       "      <th>2</th>\n",
       "      <td>b'n6-Gk65cPZL6Uz8qRm3NYw'</td>\n",
       "      <td>b'2016-11-09 20:09:03'</td>\n",
       "      <td>b'2TzJjDVDEuAW6MR5Vuc1ug'</td>\n",
       "      <td>b'WTqjgwHlXbSFevF32_DJVw'</td>\n",
       "      <td>3</td>\n",
       "      <td>5.0</td>\n",
       "    </tr>\n",
       "    <tr>\n",
       "      <th>3</th>\n",
       "      <td>b'dacAIZ6fTM6mqwW5uxkskg'</td>\n",
       "      <td>b'2018-01-09 20:56:38'</td>\n",
       "      <td>b'yi0R0Ugj_xUx_Nek0-_Qig'</td>\n",
       "      <td>b'ikCg8xy5JIg_NGPx-MSIDA'</td>\n",
       "      <td>0</td>\n",
       "      <td>5.0</td>\n",
       "    </tr>\n",
       "    <tr>\n",
       "      <th>4</th>\n",
       "      <td>b'ssoyf2_x0EQMed6fgHeMyQ'</td>\n",
       "      <td>b'2018-01-30 23:07:38'</td>\n",
       "      <td>b'11a8sVPMUFtaC7_ABRkmtw'</td>\n",
       "      <td>b'b1b1eb3uo-w561D0ZfCEiQ'</td>\n",
       "      <td>7</td>\n",
       "      <td>1.0</td>\n",
       "    </tr>\n",
       "  </tbody>\n",
       "</table>\n",
       "</div>"
      ],
      "text/plain": [
       "                     user_id                    date  \\\n",
       "0  b'hG7b0MtEbXx5QzbzE6C_VA'  b'2013-05-07 04:34:36'   \n",
       "1  b'yXQM5uF2jS6es16SJzNHfg'  b'2017-01-14 21:30:33'   \n",
       "2  b'n6-Gk65cPZL6Uz8qRm3NYw'  b'2016-11-09 20:09:03'   \n",
       "3  b'dacAIZ6fTM6mqwW5uxkskg'  b'2018-01-09 20:56:38'   \n",
       "4  b'ssoyf2_x0EQMed6fgHeMyQ'  b'2018-01-30 23:07:38'   \n",
       "\n",
       "                   review_id                business_id  useful  stars  \n",
       "0  b'Q1sbwvVQXV2734tPgoKj4Q'  b'ujmEBvifdJM6h6RLv4wQIg'       6    1.0  \n",
       "1  b'GJXCdrto3ASJOqKeVWPi6Q'  b'NZnhc2sEQy3RmzKTZnqtwQ'       0    5.0  \n",
       "2  b'2TzJjDVDEuAW6MR5Vuc1ug'  b'WTqjgwHlXbSFevF32_DJVw'       3    5.0  \n",
       "3  b'yi0R0Ugj_xUx_Nek0-_Qig'  b'ikCg8xy5JIg_NGPx-MSIDA'       0    5.0  \n",
       "4  b'11a8sVPMUFtaC7_ABRkmtw'  b'b1b1eb3uo-w561D0ZfCEiQ'       7    1.0  "
      ]
     },
     "execution_count": 11,
     "metadata": {},
     "output_type": "execute_result"
    }
   ],
   "source": [
    "reviews_df.head()"
   ]
  },
  {
   "cell_type": "markdown",
   "metadata": {},
   "source": [
    "----"
   ]
  },
  {
   "cell_type": "markdown",
   "metadata": {},
   "source": [
    "## Đưa ra các câu hỏi cần trả lời"
   ]
  },
  {
   "cell_type": "markdown",
   "metadata": {},
   "source": [
    "------"
   ]
  },
  {
   "cell_type": "markdown",
   "metadata": {},
   "source": [
    "## Tìm câu trả lời cho từng câu hỏi"
   ]
  },
  {
   "cell_type": "markdown",
   "metadata": {},
   "source": [
    "-------"
   ]
  },
  {
   "cell_type": "markdown",
   "metadata": {},
   "source": [
    "## Nhìn lại quá trình làm đồ án"
   ]
  },
  {
   "cell_type": "markdown",
   "metadata": {},
   "source": [
    "---"
   ]
  },
  {
   "cell_type": "markdown",
   "metadata": {},
   "source": [
    "## Tài liệu tham khảo"
   ]
  }
 ],
 "metadata": {
  "kernelspec": {
   "display_name": "py377",
   "language": "python",
   "name": "py377"
  },
  "language_info": {
   "codemirror_mode": {
    "name": "ipython",
    "version": 3
   },
   "file_extension": ".py",
   "mimetype": "text/x-python",
   "name": "python",
   "nbconvert_exporter": "python",
   "pygments_lexer": "ipython3",
   "version": "3.7.7"
  },
  "toc-autonumbering": true
 },
 "nbformat": 4,
 "nbformat_minor": 4
}
